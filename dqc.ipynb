{
 "cells": [
  {
   "cell_type": "code",
   "execution_count": 1,
   "id": "f085c654-1d91-4b29-bad5-7a5c83118e56",
   "metadata": {},
   "outputs": [],
   "source": [
    "#!pip install pandas numpy matplotlib seaborn"
   ]
  },
  {
   "cell_type": "code",
   "execution_count": 68,
   "id": "2c346c1f-3b20-4097-94a9-75cca9bd82a5",
   "metadata": {},
   "outputs": [],
   "source": [
    "import pandas as pd\n",
    "import numpy as np\n",
    "import seaborn as sns"
   ]
  },
  {
   "cell_type": "code",
   "execution_count": 69,
   "id": "c96f2b1b-4233-4ec3-a3ef-925cc2d9b160",
   "metadata": {},
   "outputs": [],
   "source": [
    "data_train = pd.read_csv('data/sales_train.csv')"
   ]
  },
  {
   "cell_type": "code",
   "execution_count": 70,
   "id": "9e4404f5-889d-451f-893c-c298a199d70a",
   "metadata": {},
   "outputs": [
    {
     "data": {
      "text/html": [
       "<div>\n",
       "<style scoped>\n",
       "    .dataframe tbody tr th:only-of-type {\n",
       "        vertical-align: middle;\n",
       "    }\n",
       "\n",
       "    .dataframe tbody tr th {\n",
       "        vertical-align: top;\n",
       "    }\n",
       "\n",
       "    .dataframe thead th {\n",
       "        text-align: right;\n",
       "    }\n",
       "</style>\n",
       "<table border=\"1\" class=\"dataframe\">\n",
       "  <thead>\n",
       "    <tr style=\"text-align: right;\">\n",
       "      <th></th>\n",
       "      <th>date</th>\n",
       "      <th>date_block_num</th>\n",
       "      <th>shop_id</th>\n",
       "      <th>item_id</th>\n",
       "      <th>item_price</th>\n",
       "      <th>item_cnt_day</th>\n",
       "    </tr>\n",
       "  </thead>\n",
       "  <tbody>\n",
       "    <tr>\n",
       "      <th>0</th>\n",
       "      <td>02.01.2013</td>\n",
       "      <td>0</td>\n",
       "      <td>59</td>\n",
       "      <td>22154</td>\n",
       "      <td>999.00</td>\n",
       "      <td>1.0</td>\n",
       "    </tr>\n",
       "    <tr>\n",
       "      <th>1</th>\n",
       "      <td>03.01.2013</td>\n",
       "      <td>0</td>\n",
       "      <td>25</td>\n",
       "      <td>2552</td>\n",
       "      <td>899.00</td>\n",
       "      <td>1.0</td>\n",
       "    </tr>\n",
       "    <tr>\n",
       "      <th>2</th>\n",
       "      <td>05.01.2013</td>\n",
       "      <td>0</td>\n",
       "      <td>25</td>\n",
       "      <td>2552</td>\n",
       "      <td>899.00</td>\n",
       "      <td>-1.0</td>\n",
       "    </tr>\n",
       "    <tr>\n",
       "      <th>3</th>\n",
       "      <td>06.01.2013</td>\n",
       "      <td>0</td>\n",
       "      <td>25</td>\n",
       "      <td>2554</td>\n",
       "      <td>1709.05</td>\n",
       "      <td>1.0</td>\n",
       "    </tr>\n",
       "    <tr>\n",
       "      <th>4</th>\n",
       "      <td>15.01.2013</td>\n",
       "      <td>0</td>\n",
       "      <td>25</td>\n",
       "      <td>2555</td>\n",
       "      <td>1099.00</td>\n",
       "      <td>1.0</td>\n",
       "    </tr>\n",
       "    <tr>\n",
       "      <th>...</th>\n",
       "      <td>...</td>\n",
       "      <td>...</td>\n",
       "      <td>...</td>\n",
       "      <td>...</td>\n",
       "      <td>...</td>\n",
       "      <td>...</td>\n",
       "    </tr>\n",
       "    <tr>\n",
       "      <th>2935844</th>\n",
       "      <td>10.10.2015</td>\n",
       "      <td>33</td>\n",
       "      <td>25</td>\n",
       "      <td>7409</td>\n",
       "      <td>299.00</td>\n",
       "      <td>1.0</td>\n",
       "    </tr>\n",
       "    <tr>\n",
       "      <th>2935845</th>\n",
       "      <td>09.10.2015</td>\n",
       "      <td>33</td>\n",
       "      <td>25</td>\n",
       "      <td>7460</td>\n",
       "      <td>299.00</td>\n",
       "      <td>1.0</td>\n",
       "    </tr>\n",
       "    <tr>\n",
       "      <th>2935846</th>\n",
       "      <td>14.10.2015</td>\n",
       "      <td>33</td>\n",
       "      <td>25</td>\n",
       "      <td>7459</td>\n",
       "      <td>349.00</td>\n",
       "      <td>1.0</td>\n",
       "    </tr>\n",
       "    <tr>\n",
       "      <th>2935847</th>\n",
       "      <td>22.10.2015</td>\n",
       "      <td>33</td>\n",
       "      <td>25</td>\n",
       "      <td>7440</td>\n",
       "      <td>299.00</td>\n",
       "      <td>1.0</td>\n",
       "    </tr>\n",
       "    <tr>\n",
       "      <th>2935848</th>\n",
       "      <td>03.10.2015</td>\n",
       "      <td>33</td>\n",
       "      <td>25</td>\n",
       "      <td>7460</td>\n",
       "      <td>299.00</td>\n",
       "      <td>1.0</td>\n",
       "    </tr>\n",
       "  </tbody>\n",
       "</table>\n",
       "<p>2935849 rows × 6 columns</p>\n",
       "</div>"
      ],
      "text/plain": [
       "               date  date_block_num  shop_id  item_id  item_price  \\\n",
       "0        02.01.2013               0       59    22154      999.00   \n",
       "1        03.01.2013               0       25     2552      899.00   \n",
       "2        05.01.2013               0       25     2552      899.00   \n",
       "3        06.01.2013               0       25     2554     1709.05   \n",
       "4        15.01.2013               0       25     2555     1099.00   \n",
       "...             ...             ...      ...      ...         ...   \n",
       "2935844  10.10.2015              33       25     7409      299.00   \n",
       "2935845  09.10.2015              33       25     7460      299.00   \n",
       "2935846  14.10.2015              33       25     7459      349.00   \n",
       "2935847  22.10.2015              33       25     7440      299.00   \n",
       "2935848  03.10.2015              33       25     7460      299.00   \n",
       "\n",
       "         item_cnt_day  \n",
       "0                 1.0  \n",
       "1                 1.0  \n",
       "2                -1.0  \n",
       "3                 1.0  \n",
       "4                 1.0  \n",
       "...               ...  \n",
       "2935844           1.0  \n",
       "2935845           1.0  \n",
       "2935846           1.0  \n",
       "2935847           1.0  \n",
       "2935848           1.0  \n",
       "\n",
       "[2935849 rows x 6 columns]"
      ]
     },
     "execution_count": 70,
     "metadata": {},
     "output_type": "execute_result"
    }
   ],
   "source": [
    "data_train"
   ]
  },
  {
   "cell_type": "code",
   "execution_count": 71,
   "id": "8e626e93-15bf-4589-8dab-b0e8b7ca0a82",
   "metadata": {},
   "outputs": [
    {
     "name": "stdout",
     "output_type": "stream",
     "text": [
      "rows total: 2935849\n",
      "date 1034\n",
      "date_block_num 34\n",
      "shop_id 60\n",
      "item_id 21807\n",
      "item_price 19993\n",
      "item_cnt_day 198\n"
     ]
    }
   ],
   "source": [
    "print(f'rows total: {len(data_train)}')\n",
    "for col in data_train:\n",
    "    print(col, data_train[col].nunique())"
   ]
  },
  {
   "cell_type": "code",
   "execution_count": 72,
   "id": "f86e79c9-591b-47f6-b9a1-d8e9aea24af8",
   "metadata": {},
   "outputs": [
    {
     "name": "stdout",
     "output_type": "stream",
     "text": [
      "[ 0  1  2  3  4  5  6  7  8  9 10 11 12 13 14 15 16 17 18 19 20 21 22 23\n",
      " 24 25 26 27 28 29 30 31 32 33]\n"
     ]
    }
   ],
   "source": [
    "print(data_train['date_block_num'].unique())"
   ]
  },
  {
   "cell_type": "code",
   "execution_count": 73,
   "id": "104059fb-5281-43e9-afb7-8e7902b79aa6",
   "metadata": {},
   "outputs": [],
   "source": [
    "data_train['date'] = pd.to_datetime(data_train['date'], format='%d.%m.%Y')"
   ]
  },
  {
   "cell_type": "code",
   "execution_count": 74,
   "id": "f786eca9-66eb-45a0-82b5-add038c9fb26",
   "metadata": {},
   "outputs": [
    {
     "name": "stdout",
     "output_type": "stream",
     "text": [
      "max date: 2015-10-31 00:00:00 min date: 2013-01-01 00:00:00\n"
     ]
    }
   ],
   "source": [
    "print('max date:', data_train['date'].max(), 'min date:', data_train['date'].min())\n"
   ]
  },
  {
   "cell_type": "code",
   "execution_count": 75,
   "id": "4a00e3d5-dc23-4484-a408-5a694975b2a7",
   "metadata": {},
   "outputs": [
    {
     "data": {
      "text/plain": [
       "<Axes: >"
      ]
     },
     "execution_count": 75,
     "metadata": {},
     "output_type": "execute_result"
    },
    {
     "data": {
      "image/png": "[encoded data removed]",
      "text/plain": [
       "<Figure size 640x480 with 1 Axes>"
      ]
     },
     "metadata": {},
     "output_type": "display_data"
    }
   ],
   "source": [
    "data_train['date'].hist(bins = 500)"
   ]
  },
  {
   "cell_type": "code",
   "execution_count": 76,
   "id": "f28cb97c-90fe-4e75-be41-2e61752474d4",
   "metadata": {},
   "outputs": [
    {
     "name": "stdout",
     "output_type": "stream",
     "text": [
      "nans:\n",
      "date              0\n",
      "date_block_num    0\n",
      "shop_id           0\n",
      "item_id           0\n",
      "item_price        0\n",
      "item_cnt_day      0\n",
      "dtype: int64\n"
     ]
    }
   ],
   "source": [
    "print(f'nans:\\n{data_train.isna().sum()}')"
   ]
  },
  {
   "cell_type": "code",
   "execution_count": 77,
   "id": "a201425f-8e7e-4e26-b8f0-84fb95e316c7",
   "metadata": {},
   "outputs": [
    {
     "name": "stdout",
     "output_type": "stream",
     "text": [
      "min price: -1.0\n",
      "max price: 307980.0\n"
     ]
    },
    {
     "data": {
      "text/plain": [
       "<Axes: >"
      ]
     },
     "execution_count": 77,
     "metadata": {},
     "output_type": "execute_result"
    },
    {
     "data": {
      "image/png": "[encoded data removed]",
      "text/plain": [
       "<Figure size 640x480 with 1 Axes>"
      ]
     },
     "metadata": {},
     "output_type": "display_data"
    }
   ],
   "source": [
    "print(f'min price: {data_train['item_price'].min()}')\n",
    "print(f'max price: {data_train['item_price'].max()}')\n",
    "data_train.boxplot(column = ['item_price'])"
   ]
  },
  {
   "cell_type": "code",
   "execution_count": 78,
   "id": "a3af4218-65b6-4890-8252-d3897596ee4a",
   "metadata": {},
   "outputs": [
    {
     "name": "stdout",
     "output_type": "stream",
     "text": [
      "             date  date_block_num  shop_id  item_id  item_price  item_cnt_day\n",
      "484683 2013-05-15               4       32     2973        -1.0           1.0\n",
      "              date  date_block_num  shop_id  item_id  item_price  item_cnt_day\n",
      "1163158 2013-12-13              11       12     6066    307980.0           1.0\n"
     ]
    }
   ],
   "source": [
    "print(data_train[data_train['item_price'] <= 0])#TO DELETE\n",
    "print(data_train[data_train['item_price'] >= 100000])#TO DELETE\n"
   ]
  },
  {
   "cell_type": "code",
   "execution_count": 79,
   "id": "fcc72c78-5b51-4447-afcb-19e83b49643f",
   "metadata": {
    "scrolled": true
   },
   "outputs": [
    {
     "data": {
      "text/plain": [
       "<Axes: >"
      ]
     },
     "execution_count": 79,
     "metadata": {},
     "output_type": "execute_result"
    },
    {
     "data": {
      "image/png": "[encoded data removed]",
      "text/plain": [
       "<Figure size 640x480 with 1 Axes>"
      ]
     },
     "metadata": {},
     "output_type": "display_data"
    }
   ],
   "source": [
    "data_train.boxplot(column='item_cnt_day')\n"
   ]
  },
  {
   "cell_type": "code",
   "execution_count": 80,
   "id": "e90e33f3-61ae-4861-9816-b68e20258f00",
   "metadata": {
    "scrolled": true
   },
   "outputs": [
    {
     "data": {
      "text/html": [
       "<div>\n",
       "<style scoped>\n",
       "    .dataframe tbody tr th:only-of-type {\n",
       "        vertical-align: middle;\n",
       "    }\n",
       "\n",
       "    .dataframe tbody tr th {\n",
       "        vertical-align: top;\n",
       "    }\n",
       "\n",
       "    .dataframe thead th {\n",
       "        text-align: right;\n",
       "    }\n",
       "</style>\n",
       "<table border=\"1\" class=\"dataframe\">\n",
       "  <thead>\n",
       "    <tr style=\"text-align: right;\">\n",
       "      <th></th>\n",
       "      <th>date</th>\n",
       "      <th>date_block_num</th>\n",
       "      <th>shop_id</th>\n",
       "      <th>item_id</th>\n",
       "      <th>item_price</th>\n",
       "      <th>item_cnt_day</th>\n",
       "    </tr>\n",
       "  </thead>\n",
       "  <tbody>\n",
       "    <tr>\n",
       "      <th>2</th>\n",
       "      <td>2013-01-05</td>\n",
       "      <td>0</td>\n",
       "      <td>25</td>\n",
       "      <td>2552</td>\n",
       "      <td>899.0</td>\n",
       "      <td>-1.0</td>\n",
       "    </tr>\n",
       "    <tr>\n",
       "      <th>148</th>\n",
       "      <td>2013-01-23</td>\n",
       "      <td>0</td>\n",
       "      <td>25</td>\n",
       "      <td>2321</td>\n",
       "      <td>999.0</td>\n",
       "      <td>-1.0</td>\n",
       "    </tr>\n",
       "    <tr>\n",
       "      <th>175</th>\n",
       "      <td>2013-01-07</td>\n",
       "      <td>0</td>\n",
       "      <td>25</td>\n",
       "      <td>2199</td>\n",
       "      <td>1449.0</td>\n",
       "      <td>-1.0</td>\n",
       "    </tr>\n",
       "    <tr>\n",
       "      <th>807</th>\n",
       "      <td>2013-01-02</td>\n",
       "      <td>0</td>\n",
       "      <td>25</td>\n",
       "      <td>2330</td>\n",
       "      <td>599.0</td>\n",
       "      <td>-1.0</td>\n",
       "    </tr>\n",
       "    <tr>\n",
       "      <th>1041</th>\n",
       "      <td>2013-01-13</td>\n",
       "      <td>0</td>\n",
       "      <td>25</td>\n",
       "      <td>5034</td>\n",
       "      <td>1989.0</td>\n",
       "      <td>-1.0</td>\n",
       "    </tr>\n",
       "    <tr>\n",
       "      <th>...</th>\n",
       "      <td>...</td>\n",
       "      <td>...</td>\n",
       "      <td>...</td>\n",
       "      <td>...</td>\n",
       "      <td>...</td>\n",
       "      <td>...</td>\n",
       "    </tr>\n",
       "    <tr>\n",
       "      <th>2934243</th>\n",
       "      <td>2015-10-26</td>\n",
       "      <td>33</td>\n",
       "      <td>25</td>\n",
       "      <td>3917</td>\n",
       "      <td>449.0</td>\n",
       "      <td>-1.0</td>\n",
       "    </tr>\n",
       "    <tr>\n",
       "      <th>2934462</th>\n",
       "      <td>2015-10-18</td>\n",
       "      <td>33</td>\n",
       "      <td>25</td>\n",
       "      <td>4896</td>\n",
       "      <td>6398.0</td>\n",
       "      <td>-1.0</td>\n",
       "    </tr>\n",
       "    <tr>\n",
       "      <th>2935263</th>\n",
       "      <td>2015-10-05</td>\n",
       "      <td>33</td>\n",
       "      <td>25</td>\n",
       "      <td>10039</td>\n",
       "      <td>249.0</td>\n",
       "      <td>-1.0</td>\n",
       "    </tr>\n",
       "    <tr>\n",
       "      <th>2935643</th>\n",
       "      <td>2015-10-16</td>\n",
       "      <td>33</td>\n",
       "      <td>25</td>\n",
       "      <td>7893</td>\n",
       "      <td>2990.0</td>\n",
       "      <td>-1.0</td>\n",
       "    </tr>\n",
       "    <tr>\n",
       "      <th>2935779</th>\n",
       "      <td>2015-10-07</td>\n",
       "      <td>33</td>\n",
       "      <td>25</td>\n",
       "      <td>7087</td>\n",
       "      <td>999.0</td>\n",
       "      <td>-1.0</td>\n",
       "    </tr>\n",
       "  </tbody>\n",
       "</table>\n",
       "<p>7356 rows × 6 columns</p>\n",
       "</div>"
      ],
      "text/plain": [
       "              date  date_block_num  shop_id  item_id  item_price  item_cnt_day\n",
       "2       2013-01-05               0       25     2552       899.0          -1.0\n",
       "148     2013-01-23               0       25     2321       999.0          -1.0\n",
       "175     2013-01-07               0       25     2199      1449.0          -1.0\n",
       "807     2013-01-02               0       25     2330       599.0          -1.0\n",
       "1041    2013-01-13               0       25     5034      1989.0          -1.0\n",
       "...            ...             ...      ...      ...         ...           ...\n",
       "2934243 2015-10-26              33       25     3917       449.0          -1.0\n",
       "2934462 2015-10-18              33       25     4896      6398.0          -1.0\n",
       "2935263 2015-10-05              33       25    10039       249.0          -1.0\n",
       "2935643 2015-10-16              33       25     7893      2990.0          -1.0\n",
       "2935779 2015-10-07              33       25     7087       999.0          -1.0\n",
       "\n",
       "[7356 rows x 6 columns]"
      ]
     },
     "execution_count": 80,
     "metadata": {},
     "output_type": "execute_result"
    }
   ],
   "source": [
    "data_train[data_train['item_cnt_day'] < 0]"
   ]
  },
  {
   "cell_type": "code",
   "execution_count": 81,
   "id": "30271945-5ba0-4678-a4b1-81a4d6196231",
   "metadata": {},
   "outputs": [
    {
     "data": {
      "text/html": [
       "<div>\n",
       "<style scoped>\n",
       "    .dataframe tbody tr th:only-of-type {\n",
       "        vertical-align: middle;\n",
       "    }\n",
       "\n",
       "    .dataframe tbody tr th {\n",
       "        vertical-align: top;\n",
       "    }\n",
       "\n",
       "    .dataframe thead th {\n",
       "        text-align: right;\n",
       "    }\n",
       "</style>\n",
       "<table border=\"1\" class=\"dataframe\">\n",
       "  <thead>\n",
       "    <tr style=\"text-align: right;\">\n",
       "      <th></th>\n",
       "      <th>date</th>\n",
       "      <th>date_block_num</th>\n",
       "      <th>shop_id</th>\n",
       "      <th>item_id</th>\n",
       "      <th>item_price</th>\n",
       "      <th>item_cnt_day</th>\n",
       "    </tr>\n",
       "  </thead>\n",
       "  <tbody>\n",
       "    <tr>\n",
       "      <th>date</th>\n",
       "      <td>1.000000</td>\n",
       "      <td>0.999515</td>\n",
       "      <td>-0.000470</td>\n",
       "      <td>-0.036921</td>\n",
       "      <td>0.116737</td>\n",
       "      <td>0.007314</td>\n",
       "    </tr>\n",
       "    <tr>\n",
       "      <th>date_block_num</th>\n",
       "      <td>0.999515</td>\n",
       "      <td>1.000000</td>\n",
       "      <td>-0.001503</td>\n",
       "      <td>-0.037050</td>\n",
       "      <td>0.117243</td>\n",
       "      <td>0.006860</td>\n",
       "    </tr>\n",
       "    <tr>\n",
       "      <th>shop_id</th>\n",
       "      <td>-0.000470</td>\n",
       "      <td>-0.001503</td>\n",
       "      <td>1.000000</td>\n",
       "      <td>0.044904</td>\n",
       "      <td>-0.052065</td>\n",
       "      <td>0.048756</td>\n",
       "    </tr>\n",
       "    <tr>\n",
       "      <th>item_id</th>\n",
       "      <td>-0.036921</td>\n",
       "      <td>-0.037050</td>\n",
       "      <td>0.044904</td>\n",
       "      <td>1.000000</td>\n",
       "      <td>-0.114833</td>\n",
       "      <td>-0.001849</td>\n",
       "    </tr>\n",
       "    <tr>\n",
       "      <th>item_price</th>\n",
       "      <td>0.116737</td>\n",
       "      <td>0.117243</td>\n",
       "      <td>-0.052065</td>\n",
       "      <td>-0.114833</td>\n",
       "      <td>1.000000</td>\n",
       "      <td>-0.007380</td>\n",
       "    </tr>\n",
       "    <tr>\n",
       "      <th>item_cnt_day</th>\n",
       "      <td>0.007314</td>\n",
       "      <td>0.006860</td>\n",
       "      <td>0.048756</td>\n",
       "      <td>-0.001849</td>\n",
       "      <td>-0.007380</td>\n",
       "      <td>1.000000</td>\n",
       "    </tr>\n",
       "  </tbody>\n",
       "</table>\n",
       "</div>"
      ],
      "text/plain": [
       "                    date  date_block_num   shop_id   item_id  item_price  \\\n",
       "date            1.000000        0.999515 -0.000470 -0.036921    0.116737   \n",
       "date_block_num  0.999515        1.000000 -0.001503 -0.037050    0.117243   \n",
       "shop_id        -0.000470       -0.001503  1.000000  0.044904   -0.052065   \n",
       "item_id        -0.036921       -0.037050  0.044904  1.000000   -0.114833   \n",
       "item_price      0.116737        0.117243 -0.052065 -0.114833    1.000000   \n",
       "item_cnt_day    0.007314        0.006860  0.048756 -0.001849   -0.007380   \n",
       "\n",
       "                item_cnt_day  \n",
       "date                0.007314  \n",
       "date_block_num      0.006860  \n",
       "shop_id             0.048756  \n",
       "item_id            -0.001849  \n",
       "item_price         -0.007380  \n",
       "item_cnt_day        1.000000  "
      ]
     },
     "execution_count": 81,
     "metadata": {},
     "output_type": "execute_result"
    }
   ],
   "source": [
    "data_train[data_train['item_cnt_day'] < 0].corr()#item_cnt_day is randomly noised? - TO DELETE(date is not continious)"
   ]
  },
  {
   "cell_type": "code",
   "execution_count": 82,
   "id": "e7798a1a-1637-4aa4-b086-1a1cbefd1ff3",
   "metadata": {},
   "outputs": [],
   "source": [
    "item_cat = pd.read_csv('data/item_categories.csv')\n",
    "items = pd.read_csv('data/items.csv')\n",
    "shops = pd.read_csv('data/shops.csv')"
   ]
  },
  {
   "cell_type": "code",
   "execution_count": 83,
   "id": "052f47c7-2cc8-47e4-bf0b-dab27c8000f5",
   "metadata": {},
   "outputs": [
    {
     "name": "stdout",
     "output_type": "stream",
     "text": [
      "more 700 sold per day\n",
      "\n",
      "              date  date_block_num  shop_id  item_id  item_price  item_cnt_day\n",
      "2326930 2015-01-15              24       12    20949    4.000000        1000.0\n",
      "2909818 2015-10-28              33       12    11373    0.908714        2169.0\n"
     ]
    }
   ],
   "source": [
    "print('more 700 sold per day\\n\\n',data_train[data_train['item_cnt_day'] >= 700],sep='')#Not outliers?\n",
    "id = 10039"
   ]
  },
  {
   "cell_type": "code",
   "execution_count": 84,
   "id": "9558bd17-8a0f-4dc1-a2c3-7b44d8eeb4f1",
   "metadata": {
    "scrolled": true
   },
   "outputs": [
    {
     "data": {
      "text/html": [
       "<div>\n",
       "<style scoped>\n",
       "    .dataframe tbody tr th:only-of-type {\n",
       "        vertical-align: middle;\n",
       "    }\n",
       "\n",
       "    .dataframe tbody tr th {\n",
       "        vertical-align: top;\n",
       "    }\n",
       "\n",
       "    .dataframe thead th {\n",
       "        text-align: right;\n",
       "    }\n",
       "</style>\n",
       "<table border=\"1\" class=\"dataframe\">\n",
       "  <thead>\n",
       "    <tr style=\"text-align: right;\">\n",
       "      <th></th>\n",
       "      <th>date</th>\n",
       "      <th>date_block_num</th>\n",
       "      <th>shop_id</th>\n",
       "      <th>item_id</th>\n",
       "      <th>item_price</th>\n",
       "      <th>item_cnt_day</th>\n",
       "    </tr>\n",
       "  </thead>\n",
       "  <tbody>\n",
       "    <tr>\n",
       "      <th>3516</th>\n",
       "      <td>2013-01-04</td>\n",
       "      <td>0</td>\n",
       "      <td>24</td>\n",
       "      <td>10039</td>\n",
       "      <td>299.0</td>\n",
       "      <td>1.0</td>\n",
       "    </tr>\n",
       "    <tr>\n",
       "      <th>3517</th>\n",
       "      <td>2013-01-12</td>\n",
       "      <td>0</td>\n",
       "      <td>24</td>\n",
       "      <td>10039</td>\n",
       "      <td>299.0</td>\n",
       "      <td>1.0</td>\n",
       "    </tr>\n",
       "    <tr>\n",
       "      <th>3518</th>\n",
       "      <td>2013-01-23</td>\n",
       "      <td>0</td>\n",
       "      <td>24</td>\n",
       "      <td>10039</td>\n",
       "      <td>299.0</td>\n",
       "      <td>1.0</td>\n",
       "    </tr>\n",
       "    <tr>\n",
       "      <th>10451</th>\n",
       "      <td>2013-01-31</td>\n",
       "      <td>0</td>\n",
       "      <td>19</td>\n",
       "      <td>10039</td>\n",
       "      <td>299.0</td>\n",
       "      <td>1.0</td>\n",
       "    </tr>\n",
       "    <tr>\n",
       "      <th>14990</th>\n",
       "      <td>2013-01-19</td>\n",
       "      <td>0</td>\n",
       "      <td>21</td>\n",
       "      <td>10039</td>\n",
       "      <td>299.0</td>\n",
       "      <td>1.0</td>\n",
       "    </tr>\n",
       "    <tr>\n",
       "      <th>...</th>\n",
       "      <td>...</td>\n",
       "      <td>...</td>\n",
       "      <td>...</td>\n",
       "      <td>...</td>\n",
       "      <td>...</td>\n",
       "      <td>...</td>\n",
       "    </tr>\n",
       "    <tr>\n",
       "      <th>2898480</th>\n",
       "      <td>2015-10-04</td>\n",
       "      <td>33</td>\n",
       "      <td>58</td>\n",
       "      <td>10039</td>\n",
       "      <td>249.0</td>\n",
       "      <td>1.0</td>\n",
       "    </tr>\n",
       "    <tr>\n",
       "      <th>2907047</th>\n",
       "      <td>2015-10-12</td>\n",
       "      <td>33</td>\n",
       "      <td>52</td>\n",
       "      <td>10039</td>\n",
       "      <td>249.0</td>\n",
       "      <td>1.0</td>\n",
       "    </tr>\n",
       "    <tr>\n",
       "      <th>2913989</th>\n",
       "      <td>2015-10-31</td>\n",
       "      <td>33</td>\n",
       "      <td>19</td>\n",
       "      <td>10039</td>\n",
       "      <td>249.0</td>\n",
       "      <td>1.0</td>\n",
       "    </tr>\n",
       "    <tr>\n",
       "      <th>2935262</th>\n",
       "      <td>2015-10-04</td>\n",
       "      <td>33</td>\n",
       "      <td>25</td>\n",
       "      <td>10039</td>\n",
       "      <td>249.0</td>\n",
       "      <td>1.0</td>\n",
       "    </tr>\n",
       "    <tr>\n",
       "      <th>2935263</th>\n",
       "      <td>2015-10-05</td>\n",
       "      <td>33</td>\n",
       "      <td>25</td>\n",
       "      <td>10039</td>\n",
       "      <td>249.0</td>\n",
       "      <td>-1.0</td>\n",
       "    </tr>\n",
       "  </tbody>\n",
       "</table>\n",
       "<p>502 rows × 6 columns</p>\n",
       "</div>"
      ],
      "text/plain": [
       "              date  date_block_num  shop_id  item_id  item_price  item_cnt_day\n",
       "3516    2013-01-04               0       24    10039       299.0           1.0\n",
       "3517    2013-01-12               0       24    10039       299.0           1.0\n",
       "3518    2013-01-23               0       24    10039       299.0           1.0\n",
       "10451   2013-01-31               0       19    10039       299.0           1.0\n",
       "14990   2013-01-19               0       21    10039       299.0           1.0\n",
       "...            ...             ...      ...      ...         ...           ...\n",
       "2898480 2015-10-04              33       58    10039       249.0           1.0\n",
       "2907047 2015-10-12              33       52    10039       249.0           1.0\n",
       "2913989 2015-10-31              33       19    10039       249.0           1.0\n",
       "2935262 2015-10-04              33       25    10039       249.0           1.0\n",
       "2935263 2015-10-05              33       25    10039       249.0          -1.0\n",
       "\n",
       "[502 rows x 6 columns]"
      ]
     },
     "execution_count": 84,
     "metadata": {},
     "output_type": "execute_result"
    }
   ],
   "source": [
    "data_train[data_train['item_id']==id]"
   ]
  },
  {
   "cell_type": "code",
   "execution_count": 85,
   "id": "30660234-1fc6-4bd7-96ac-af0f37d91a40",
   "metadata": {},
   "outputs": [
    {
     "name": "stdout",
     "output_type": "stream",
     "text": [
      "product name: 10039    ВОССТАНИЕ ПЛАНЕТЫ ОБЕЗЬЯН (BD)\n",
      "Name: item_name, dtype: object\n"
     ]
    },
    {
     "data": {
      "text/plain": [
       "<Axes: xlabel='date', ylabel='item_cnt_day'>"
      ]
     },
     "execution_count": 85,
     "metadata": {},
     "output_type": "execute_result"
    },
    {
     "data": {
      "image/png": "[encoded data removed]",
      "text/plain": [
       "<Figure size 640x480 with 1 Axes>"
      ]
     },
     "metadata": {},
     "output_type": "display_data"
    }
   ],
   "source": [
    "\n",
    "prod = data_train[data_train['item_id'] == id]#11373 - outlier, 20949 not outlier\n",
    "print('product name:',items[items['item_id']==id]['item_name'])\n",
    "#print('product:\\n\\n',prod,sep='')#Not outliers?\n",
    "sns.lineplot(x=prod['date'], y=prod['item_cnt_day'])"
   ]
  },
  {
   "cell_type": "code",
   "execution_count": null,
   "id": "2dfe178d-3f58-47da-8cab-2d04d081d722",
   "metadata": {},
   "outputs": [],
   "source": []
  },
  {
   "cell_type": "code",
   "execution_count": 86,
   "id": "7df6c8ed-4a82-4395-bfe1-3e7a9b39ff6c",
   "metadata": {},
   "outputs": [
    {
     "name": "stdout",
     "output_type": "stream",
     "text": [
      "number of negative sales: 7356\n"
     ]
    },
    {
     "data": {
      "text/html": [
       "<div>\n",
       "<style scoped>\n",
       "    .dataframe tbody tr th:only-of-type {\n",
       "        vertical-align: middle;\n",
       "    }\n",
       "\n",
       "    .dataframe tbody tr th {\n",
       "        vertical-align: top;\n",
       "    }\n",
       "\n",
       "    .dataframe thead th {\n",
       "        text-align: right;\n",
       "    }\n",
       "</style>\n",
       "<table border=\"1\" class=\"dataframe\">\n",
       "  <thead>\n",
       "    <tr style=\"text-align: right;\">\n",
       "      <th></th>\n",
       "      <th>date</th>\n",
       "      <th>date_block_num</th>\n",
       "      <th>shop_id</th>\n",
       "      <th>item_id</th>\n",
       "      <th>item_price</th>\n",
       "      <th>item_cnt_day</th>\n",
       "    </tr>\n",
       "  </thead>\n",
       "  <tbody>\n",
       "    <tr>\n",
       "      <th>2</th>\n",
       "      <td>2013-01-05</td>\n",
       "      <td>0</td>\n",
       "      <td>25</td>\n",
       "      <td>2552</td>\n",
       "      <td>899.0</td>\n",
       "      <td>-1.0</td>\n",
       "    </tr>\n",
       "    <tr>\n",
       "      <th>148</th>\n",
       "      <td>2013-01-23</td>\n",
       "      <td>0</td>\n",
       "      <td>25</td>\n",
       "      <td>2321</td>\n",
       "      <td>999.0</td>\n",
       "      <td>-1.0</td>\n",
       "    </tr>\n",
       "    <tr>\n",
       "      <th>175</th>\n",
       "      <td>2013-01-07</td>\n",
       "      <td>0</td>\n",
       "      <td>25</td>\n",
       "      <td>2199</td>\n",
       "      <td>1449.0</td>\n",
       "      <td>-1.0</td>\n",
       "    </tr>\n",
       "    <tr>\n",
       "      <th>807</th>\n",
       "      <td>2013-01-02</td>\n",
       "      <td>0</td>\n",
       "      <td>25</td>\n",
       "      <td>2330</td>\n",
       "      <td>599.0</td>\n",
       "      <td>-1.0</td>\n",
       "    </tr>\n",
       "    <tr>\n",
       "      <th>1041</th>\n",
       "      <td>2013-01-13</td>\n",
       "      <td>0</td>\n",
       "      <td>25</td>\n",
       "      <td>5034</td>\n",
       "      <td>1989.0</td>\n",
       "      <td>-1.0</td>\n",
       "    </tr>\n",
       "    <tr>\n",
       "      <th>...</th>\n",
       "      <td>...</td>\n",
       "      <td>...</td>\n",
       "      <td>...</td>\n",
       "      <td>...</td>\n",
       "      <td>...</td>\n",
       "      <td>...</td>\n",
       "    </tr>\n",
       "    <tr>\n",
       "      <th>2934243</th>\n",
       "      <td>2015-10-26</td>\n",
       "      <td>33</td>\n",
       "      <td>25</td>\n",
       "      <td>3917</td>\n",
       "      <td>449.0</td>\n",
       "      <td>-1.0</td>\n",
       "    </tr>\n",
       "    <tr>\n",
       "      <th>2934462</th>\n",
       "      <td>2015-10-18</td>\n",
       "      <td>33</td>\n",
       "      <td>25</td>\n",
       "      <td>4896</td>\n",
       "      <td>6398.0</td>\n",
       "      <td>-1.0</td>\n",
       "    </tr>\n",
       "    <tr>\n",
       "      <th>2935263</th>\n",
       "      <td>2015-10-05</td>\n",
       "      <td>33</td>\n",
       "      <td>25</td>\n",
       "      <td>10039</td>\n",
       "      <td>249.0</td>\n",
       "      <td>-1.0</td>\n",
       "    </tr>\n",
       "    <tr>\n",
       "      <th>2935643</th>\n",
       "      <td>2015-10-16</td>\n",
       "      <td>33</td>\n",
       "      <td>25</td>\n",
       "      <td>7893</td>\n",
       "      <td>2990.0</td>\n",
       "      <td>-1.0</td>\n",
       "    </tr>\n",
       "    <tr>\n",
       "      <th>2935779</th>\n",
       "      <td>2015-10-07</td>\n",
       "      <td>33</td>\n",
       "      <td>25</td>\n",
       "      <td>7087</td>\n",
       "      <td>999.0</td>\n",
       "      <td>-1.0</td>\n",
       "    </tr>\n",
       "  </tbody>\n",
       "</table>\n",
       "<p>7356 rows × 6 columns</p>\n",
       "</div>"
      ],
      "text/plain": [
       "              date  date_block_num  shop_id  item_id  item_price  item_cnt_day\n",
       "2       2013-01-05               0       25     2552       899.0          -1.0\n",
       "148     2013-01-23               0       25     2321       999.0          -1.0\n",
       "175     2013-01-07               0       25     2199      1449.0          -1.0\n",
       "807     2013-01-02               0       25     2330       599.0          -1.0\n",
       "1041    2013-01-13               0       25     5034      1989.0          -1.0\n",
       "...            ...             ...      ...      ...         ...           ...\n",
       "2934243 2015-10-26              33       25     3917       449.0          -1.0\n",
       "2934462 2015-10-18              33       25     4896      6398.0          -1.0\n",
       "2935263 2015-10-05              33       25    10039       249.0          -1.0\n",
       "2935643 2015-10-16              33       25     7893      2990.0          -1.0\n",
       "2935779 2015-10-07              33       25     7087       999.0          -1.0\n",
       "\n",
       "[7356 rows x 6 columns]"
      ]
     },
     "execution_count": 86,
     "metadata": {},
     "output_type": "execute_result"
    }
   ],
   "source": [
    "print('number of negative sales:',sum(data_train['item_cnt_day']<0))\n",
    "data_train[data_train['item_cnt_day']<0]"
   ]
  },
  {
   "cell_type": "code",
   "execution_count": null,
   "id": "e34b139a-feca-43df-8a17-d410ef4f7ab2",
   "metadata": {},
   "outputs": [],
   "source": []
  },
  {
   "cell_type": "code",
   "execution_count": 87,
   "id": "92e4bc4a-dab1-4de8-aa1f-4ba2206e20be",
   "metadata": {},
   "outputs": [
    {
     "name": "stdout",
     "output_type": "stream",
     "text": [
      "unique counts per id in item_cat: [1]\n",
      "unique counts per id in item_cat: [1]\n",
      "unique counts per id in item_cat: [1]\n"
     ]
    }
   ],
   "source": [
    "print('unique counts per id in item_cat:',item_cat.groupby(by='item_category_id').nunique().reset_index()['item_category_name'].unique())\n",
    "print('unique counts per id in item_cat:',items.groupby(by='item_id').nunique().reset_index()['item_name'].unique())\n",
    "print('unique counts per id in item_cat:',shops.groupby(by='shop_id').nunique().reset_index()['shop_name'].unique())"
   ]
  },
  {
   "cell_type": "code",
   "execution_count": 88,
   "id": "b4d6d16f-2ed6-401c-a7c5-de872410d569",
   "metadata": {},
   "outputs": [
    {
     "name": "stdout",
     "output_type": "stream",
     "text": [
      "Nans in merged:\n",
      "date                  0\n",
      "date_block_num        0\n",
      "shop_id               0\n",
      "item_id               0\n",
      "item_price            0\n",
      "item_cnt_day          0\n",
      "item_name             0\n",
      "item_category_id      0\n",
      "item_category_name    0\n",
      "shop_name             0\n",
      "dtype: int64\n"
     ]
    }
   ],
   "source": [
    "\n",
    "merged = data_train.merge(items,how='left').merge(item_cat,how='left').merge(shops,how='left')\n",
    "print('Nans in merged:\\n',merged.isna().sum(),sep='')"
   ]
  },
  {
   "cell_type": "code",
   "execution_count": 89,
   "id": "ea5fb4c4-821a-4353-915e-321b5146232b",
   "metadata": {},
   "outputs": [
    {
     "data": {
      "text/html": [
       "<div>\n",
       "<style scoped>\n",
       "    .dataframe tbody tr th:only-of-type {\n",
       "        vertical-align: middle;\n",
       "    }\n",
       "\n",
       "    .dataframe tbody tr th {\n",
       "        vertical-align: top;\n",
       "    }\n",
       "\n",
       "    .dataframe thead th {\n",
       "        text-align: right;\n",
       "    }\n",
       "</style>\n",
       "<table border=\"1\" class=\"dataframe\">\n",
       "  <thead>\n",
       "    <tr style=\"text-align: right;\">\n",
       "      <th></th>\n",
       "      <th>date</th>\n",
       "      <th>date_block_num</th>\n",
       "      <th>shop_id</th>\n",
       "      <th>item_id</th>\n",
       "      <th>item_price</th>\n",
       "      <th>item_cnt_day</th>\n",
       "      <th>item_name</th>\n",
       "      <th>item_category_id</th>\n",
       "      <th>item_category_name</th>\n",
       "      <th>shop_name</th>\n",
       "    </tr>\n",
       "  </thead>\n",
       "  <tbody>\n",
       "  </tbody>\n",
       "</table>\n",
       "</div>"
      ],
      "text/plain": [
       "Empty DataFrame\n",
       "Columns: [date, date_block_num, shop_id, item_id, item_price, item_cnt_day, item_name, item_category_id, item_category_name, shop_name]\n",
       "Index: []"
      ]
     },
     "execution_count": 89,
     "metadata": {},
     "output_type": "execute_result"
    }
   ],
   "source": [
    "merged[merged['date'].isna()]"
   ]
  },
  {
   "cell_type": "code",
   "execution_count": 90,
   "id": "43953fc2-1654-4574-80f4-00d92595a3e1",
   "metadata": {},
   "outputs": [],
   "source": [
    "merged=merged.drop(['shop_id','item_id','item_category_id'], axis=1)"
   ]
  },
  {
   "cell_type": "code",
   "execution_count": 91,
   "id": "cbc59081-5435-4a82-ad51-c95ec40a5765",
   "metadata": {},
   "outputs": [
    {
     "data": {
      "text/plain": [
       "84"
      ]
     },
     "execution_count": 91,
     "metadata": {},
     "output_type": "execute_result"
    }
   ],
   "source": [
    "merged['item_category_name'].nunique()"
   ]
  },
  {
   "cell_type": "code",
   "execution_count": 92,
   "id": "e1cf9568-c166-4c86-9ffc-bd643f97cbaf",
   "metadata": {},
   "outputs": [],
   "source": [
    "#средняя цена по месяцам, средняя товара по категориям и магазинам, за месяц"
   ]
  },
  {
   "cell_type": "code",
   "execution_count": 93,
   "id": "9f0705f4-be75-49e6-a513-90d273242ec1",
   "metadata": {},
   "outputs": [
    {
     "data": {
      "text/plain": [
       "<Axes: >"
      ]
     },
     "execution_count": 93,
     "metadata": {},
     "output_type": "execute_result"
    },
    {
     "data": {
      "image/png": "[encoded data removed]",
      "text/plain": [
       "<Figure size 640x480 with 1 Axes>"
      ]
     },
     "metadata": {},
     "output_type": "display_data"
    }
   ],
   "source": [
    "merged['item_category_name'].value_counts().hist(bins=300)"
   ]
  },
  {
   "cell_type": "code",
   "execution_count": null,
   "id": "5a7677cc-487b-427d-9648-7c03deb47008",
   "metadata": {},
   "outputs": [],
   "source": []
  },
  {
   "cell_type": "code",
   "execution_count": 94,
   "id": "e4d7495a-53f4-473d-962e-cf8f3e62caea",
   "metadata": {},
   "outputs": [
    {
     "data": {
      "text/html": [
       "<div>\n",
       "<style scoped>\n",
       "    .dataframe tbody tr th:only-of-type {\n",
       "        vertical-align: middle;\n",
       "    }\n",
       "\n",
       "    .dataframe tbody tr th {\n",
       "        vertical-align: top;\n",
       "    }\n",
       "\n",
       "    .dataframe thead th {\n",
       "        text-align: right;\n",
       "    }\n",
       "</style>\n",
       "<table border=\"1\" class=\"dataframe\">\n",
       "  <thead>\n",
       "    <tr style=\"text-align: right;\">\n",
       "      <th></th>\n",
       "      <th>date</th>\n",
       "      <th>date_block_num</th>\n",
       "      <th>item_price</th>\n",
       "      <th>item_cnt_day</th>\n",
       "      <th>item_name</th>\n",
       "      <th>item_category_name</th>\n",
       "      <th>shop_name</th>\n",
       "    </tr>\n",
       "  </thead>\n",
       "  <tbody>\n",
       "    <tr>\n",
       "      <th>76962</th>\n",
       "      <td>2013-01-05</td>\n",
       "      <td>0</td>\n",
       "      <td>149.0</td>\n",
       "      <td>1.0</td>\n",
       "      <td>УЧЕНИК ЧАРОДЕЯ (регион)</td>\n",
       "      <td>Кино - DVD</td>\n",
       "      <td>Химки ТЦ \"Мега\"</td>\n",
       "    </tr>\n",
       "    <tr>\n",
       "      <th>1435367</th>\n",
       "      <td>2014-02-23</td>\n",
       "      <td>13</td>\n",
       "      <td>999.0</td>\n",
       "      <td>1.0</td>\n",
       "      <td>Far Cry 3 (Classics) [Xbox 360, русская версия]</td>\n",
       "      <td>Игры - XBOX 360</td>\n",
       "      <td>Тюмень ТЦ \"Гудвин\"</td>\n",
       "    </tr>\n",
       "    <tr>\n",
       "      <th>1496766</th>\n",
       "      <td>2014-03-23</td>\n",
       "      <td>14</td>\n",
       "      <td>999.0</td>\n",
       "      <td>1.0</td>\n",
       "      <td>Far Cry 3 (Classics) [Xbox 360, русская версия]</td>\n",
       "      <td>Игры - XBOX 360</td>\n",
       "      <td>Москва МТРЦ \"Афи Молл\"</td>\n",
       "    </tr>\n",
       "    <tr>\n",
       "      <th>1671873</th>\n",
       "      <td>2014-05-01</td>\n",
       "      <td>16</td>\n",
       "      <td>999.0</td>\n",
       "      <td>1.0</td>\n",
       "      <td>Far Cry 3 (Classics) [Xbox 360, русская версия]</td>\n",
       "      <td>Игры - XBOX 360</td>\n",
       "      <td>Тюмень ТЦ \"Гудвин\"</td>\n",
       "    </tr>\n",
       "    <tr>\n",
       "      <th>1866340</th>\n",
       "      <td>2014-07-12</td>\n",
       "      <td>18</td>\n",
       "      <td>999.0</td>\n",
       "      <td>1.0</td>\n",
       "      <td>Far Cry 3 (Classics) [Xbox 360, русская версия]</td>\n",
       "      <td>Игры - XBOX 360</td>\n",
       "      <td>Москва ТРК \"Атриум\"</td>\n",
       "    </tr>\n",
       "    <tr>\n",
       "      <th>2198566</th>\n",
       "      <td>2014-12-31</td>\n",
       "      <td>23</td>\n",
       "      <td>499.0</td>\n",
       "      <td>1.0</td>\n",
       "      <td>ЧЕЛОВЕК ДОЖДЯ (BD)</td>\n",
       "      <td>Кино - Blu-Ray</td>\n",
       "      <td>СПб ТК \"Невский Центр\"</td>\n",
       "    </tr>\n",
       "  </tbody>\n",
       "</table>\n",
       "</div>"
      ],
      "text/plain": [
       "              date  date_block_num  item_price  item_cnt_day  \\\n",
       "76962   2013-01-05               0       149.0           1.0   \n",
       "1435367 2014-02-23              13       999.0           1.0   \n",
       "1496766 2014-03-23              14       999.0           1.0   \n",
       "1671873 2014-05-01              16       999.0           1.0   \n",
       "1866340 2014-07-12              18       999.0           1.0   \n",
       "2198566 2014-12-31              23       499.0           1.0   \n",
       "\n",
       "                                               item_name item_category_name  \\\n",
       "76962                            УЧЕНИК ЧАРОДЕЯ (регион)         Кино - DVD   \n",
       "1435367  Far Cry 3 (Classics) [Xbox 360, русская версия]    Игры - XBOX 360   \n",
       "1496766  Far Cry 3 (Classics) [Xbox 360, русская версия]    Игры - XBOX 360   \n",
       "1671873  Far Cry 3 (Classics) [Xbox 360, русская версия]    Игры - XBOX 360   \n",
       "1866340  Far Cry 3 (Classics) [Xbox 360, русская версия]    Игры - XBOX 360   \n",
       "2198566                               ЧЕЛОВЕК ДОЖДЯ (BD)     Кино - Blu-Ray   \n",
       "\n",
       "                      shop_name  \n",
       "76962           Химки ТЦ \"Мега\"  \n",
       "1435367      Тюмень ТЦ \"Гудвин\"  \n",
       "1496766  Москва МТРЦ \"Афи Молл\"  \n",
       "1671873      Тюмень ТЦ \"Гудвин\"  \n",
       "1866340     Москва ТРК \"Атриум\"  \n",
       "2198566  СПб ТК \"Невский Центр\"  "
      ]
     },
     "execution_count": 94,
     "metadata": {},
     "output_type": "execute_result"
    }
   ],
   "source": [
    "merged[merged.duplicated()]"
   ]
  },
  {
   "cell_type": "code",
   "execution_count": null,
   "id": "beb36b57-0009-4efe-a20b-69b6099fae3d",
   "metadata": {},
   "outputs": [],
   "source": []
  },
  {
   "cell_type": "code",
   "execution_count": 95,
   "id": "80fa0752-d02d-480b-9853-de12f68f8d0b",
   "metadata": {},
   "outputs": [
    {
     "data": {
      "text/plain": [
       "item_name\n",
       "Фирменный пакет майка 1С Интерес белый (34*42) 45 мкм                                    31340\n",
       "Playstation Store пополнение бумажника: Карта оплаты 1000 руб.                            9408\n",
       "Прием денежных средств для 1С-Онлайн                                                      9067\n",
       "Diablo III [PC, Jewel, русская версия]                                                    7479\n",
       "Kaspersky Internet Security Multi-Device Russian Edition. 2-Device 1 year Renewal Box     6853\n",
       "                                                                                         ...  \n",
       "Футболка Assassin's Creed Syndicate Bronze Crest XL                                          1\n",
       "Футболка Borderlands Jack Hero L                                                             1\n",
       "Футболка Call Of Duty Black Ops III L                                                        1\n",
       "Футболка Darksiders The Horseman L                                                           1\n",
       "Футболка Darksiders The Horseman XL                                                          1\n",
       "Name: count, Length: 21807, dtype: int64"
      ]
     },
     "execution_count": 95,
     "metadata": {},
     "output_type": "execute_result"
    }
   ],
   "source": [
    "merged['item_name'].value_counts()"
   ]
  },
  {
   "cell_type": "code",
   "execution_count": 96,
   "id": "fad9e64d-49f4-40fc-bd57-64fc4310959f",
   "metadata": {},
   "outputs": [
    {
     "data": {
      "text/plain": [
       "<Axes: ylabel='count'>"
      ]
     },
     "execution_count": 96,
     "metadata": {},
     "output_type": "execute_result"
    },
    {
     "data": {
      "image/png": "[encoded data removed]",
      "text/plain": [
       "<Figure size 640x480 with 1 Axes>"
      ]
     },
     "metadata": {},
     "output_type": "display_data"
    }
   ],
   "source": [
    "sns.boxplot(merged['item_name'].value_counts())"
   ]
  },
  {
   "cell_type": "code",
   "execution_count": 97,
   "id": "69656aa5-e066-403a-bc89-0edf3931bcec",
   "metadata": {},
   "outputs": [
    {
     "data": {
      "text/plain": [
       "<Axes: xlabel='count', ylabel='Count'>"
      ]
     },
     "execution_count": 97,
     "metadata": {},
     "output_type": "execute_result"
    },
    {
     "data": {
      "image/png": "[encoded data removed]",
      "text/plain": [
       "<Figure size 640x480 with 1 Axes>"
      ]
     },
     "metadata": {},
     "output_type": "display_data"
    }
   ],
   "source": [
    "sns.histplot(merged['item_name'].value_counts(), binrange=[0,300])"
   ]
  },
  {
   "cell_type": "code",
   "execution_count": 98,
   "id": "09e2424d-aec1-4f5b-9d06-a6a2e00dc580",
   "metadata": {},
   "outputs": [
    {
     "name": "stdout",
     "output_type": "stream",
     "text": [
      "{20486, 6152, 6153, 6169, 14383, 20535, 4156, 10310, 20560, 20561, 83, 20577, 16498, 6259, 20594, 20599, 20600, 12409, 18560, 10372, 140, 8337, 12441, 8354, 8355, 168, 173, 12468, 12469, 12470, 12471, 14521, 6335, 18627, 20677, 20680, 204, 4310, 16601, 4318, 237, 10483, 249, 254, 10507, 2322, 2323, 2324, 2325, 2326, 2327, 2328, 12568, 20760, 12574, 16675, 6439, 302, 12591, 14647, 14648, 4412, 20796, 14662, 8545, 20836, 8549, 20837, 8551, 20843, 20845, 2420, 6519, 6520, 6521, 2426, 2427, 2428, 6522, 6523, 6524, 6525, 6526, 2434, 6527, 6528, 6529, 6530, 6531, 6532, 6533, 20878, 20879, 20880, 402, 14739, 14760, 16811, 428, 14765, 430, 16813, 14784, 454, 480, 18913, 8676, 14832, 6645, 10747, 12802, 20996, 20863, 2569, 8722, 10779, 4642, 18979, 566, 8760, 6729, 6730, 6731, 6732, 6733, 6734, 16976, 6742, 6743, 12890, 19048, 14959, 8821, 8822, 8823, 8824, 8825, 8826, 12920, 14972, 639, 640, 17030, 19085, 8850, 12961, 2722, 15033, 8890, 15034, 21196, 6863, 19155, 17117, 21214, 6891, 6903, 13047, 762, 8957, 8968, 8969, 19210, 19219, 8993, 13096, 19252, 4925, 9030, 15183, 6996, 21354, 892, 900, 907, 21397, 2966, 9111, 13209, 5025, 13231, 13232, 7094, 13242, 13249, 13250, 13251, 5064, 13257, 21453, 3022, 3023, 13263, 13264, 7124, 13271, 13273, 19417, 13275, 21467, 15329, 15330, 13284, 13295, 13303, 13309, 13310, 5121, 13313, 11267, 13338, 15418, 13392, 13394, 13402, 15467, 11385, 5248, 9344, 13445, 13446, 13447, 5268, 5269, 1184, 1193, 15553, 19651, 3271, 3272, 3273, 5320, 5321, 5322, 15564, 15566, 21708, 3282, 3284, 1246, 15586, 1252, 1253, 1254, 13558, 13559, 1284, 3338, 3349, 3354, 15665, 15667, 9530, 19773, 19775, 5441, 9537, 21828, 21829, 3405, 3407, 3408, 17757, 1386, 1394, 7572, 1434, 1436, 1437, 5541, 7592, 13745, 7607, 5569, 17858, 21953, 3538, 21974, 21975, 7646, 7647, 13804, 13805, 11762, 3571, 11764, 7669, 11765, 3579, 19966, 19973, 22022, 17929, 22035, 3604, 13846, 5667, 1574, 1575, 9767, 1577, 3627, 1580, 7727, 7728, 1585, 7729, 7730, 7766, 5721, 5722, 7782, 22137, 1679, 1683, 11946, 3760, 16051, 5812, 7862, 5826, 1732, 11974, 5843, 5844, 16095, 16096, 16097, 16099, 20196, 9972, 7926, 18174, 16139, 16141, 3867, 16157, 10028, 10045, 16193, 3908, 10054, 1864, 5961, 1867, 5963, 10069, 12117, 1884, 1885, 3984, 20378, 20400, 20401, 20403, 10176, 20439, 10203, 4060, 20461, 8182, 20476, 8191}\n"
     ]
    }
   ],
   "source": [
    "#print(set(item_cat.item_category_id) - set(items.item_category_id))\n",
    "#print(set(data_train.item_id) - set(items.item_id))\n",
    "#print(set(data_train.shop_id) - set(shops.shop_id))\n",
    "#print(set(items.item_category_id)-set(item_cat.item_category_id))\n",
    "print(set(items.item_id)-set(data_train.item_id) )\n",
    "#print(set(shops.shop_id)-set(data_train.shop_id) )"
   ]
  },
  {
   "cell_type": "code",
   "execution_count": null,
   "id": "5af9ec2b-51ae-4bdb-b05e-5e83ddc23a9f",
   "metadata": {},
   "outputs": [],
   "source": []
  },
  {
   "cell_type": "code",
   "execution_count": 99,
   "id": "38c66af2-a802-4d10-af00-f31560047a6d",
   "metadata": {},
   "outputs": [
    {
     "data": {
      "text/plain": [
       "2467696   2015-02-27\n",
       "2467715   2015-02-24\n",
       "2467716   2015-02-22\n",
       "2467717   2015-02-18\n",
       "2467718   2015-02-16\n",
       "2467719   2015-02-15\n",
       "2467720   2015-02-14\n",
       "2467722   2015-02-12\n",
       "2467723   2015-02-10\n",
       "2467729   2015-02-11\n",
       "2537828   2015-03-03\n",
       "2537829   2015-03-04\n",
       "2537830   2015-03-05\n",
       "2537831   2015-03-08\n",
       "2537832   2015-03-15\n",
       "2537833   2015-03-24\n",
       "2537834   2015-03-28\n",
       "2537835   2015-03-29\n",
       "2554013   2015-04-03\n",
       "2554014   2015-04-19\n",
       "2554023   2015-04-11\n",
       "2554031   2015-04-29\n",
       "2554032   2015-04-28\n",
       "2628976   2015-05-03\n",
       "2628977   2015-05-24\n",
       "2819272   2015-08-21\n",
       "Name: date, dtype: datetime64[ns]"
      ]
     },
     "execution_count": 99,
     "metadata": {},
     "output_type": "execute_result"
    }
   ],
   "source": [
    "merged[(merged['item_name'] =='ЯРОСТЬ (BD)') & (merged['shop_name']== 'Москва ТЦ \"МЕГА Теплый Стан\" II')].date# - date is not uniform"
   ]
  },
  {
   "cell_type": "code",
   "execution_count": 100,
   "id": "e13234fd-3c35-49b4-a275-779a6f66f53b",
   "metadata": {},
   "outputs": [
    {
     "name": "stdout",
     "output_type": "stream",
     "text": [
      "0.0\n"
     ]
    }
   ],
   "source": [
    "print(1-len(merged)/len(data_train))"
   ]
  },
  {
   "cell_type": "code",
   "execution_count": null,
   "id": "b00a1ab5-2d19-4636-8bdd-b6251e1e49e5",
   "metadata": {},
   "outputs": [],
   "source": []
  }
 ],
 "metadata": {
  "kernelspec": {
   "display_name": "Python 3 (ipykernel)",
   "language": "python",
   "name": "python3"
  },
  "language_info": {
   "codemirror_mode": {
    "name": "ipython",
    "version": 3
   },
   "file_extension": ".py",
   "mimetype": "text/x-python",
   "name": "python",
   "nbconvert_exporter": "python",
   "pygments_lexer": "ipython3",
   "version": "3.12.3"
  }
 },
 "nbformat": 4,
 "nbformat_minor": 5
}
