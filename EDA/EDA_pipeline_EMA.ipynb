{
 "cells": [
  {
   "cell_type": "code",
   "execution_count": 1,
   "id": "4b1730af-67f2-4378-8455-db8fd6898ad3",
   "metadata": {},
   "outputs": [],
   "source": [
    "#!pip install scikit-learn"
   ]
  },
  {
   "cell_type": "code",
   "execution_count": 1,
   "id": "0909935d-aafd-4d13-a5b7-f331893d1604",
   "metadata": {},
   "outputs": [],
   "source": [
    "import numpy as np\n",
    "import pandas as pd\n",
    "import seaborn as sns"
   ]
  },
  {
   "cell_type": "code",
   "execution_count": 2,
   "id": "537b5283-632c-4b88-bad6-da9eb212fe41",
   "metadata": {},
   "outputs": [],
   "source": [
    "data_train = pd.read_csv('../data_cleaned/data_train.csv')\n",
    "item_categories = pd.read_csv('../data_cleaned/item_categories.csv')\n",
    "items = pd.read_csv('../data_cleaned/items.csv')\n",
    "shops = pd.read_csv('../data_cleaned/shops.csv')"
   ]
  },
  {
   "cell_type": "code",
   "execution_count": 3,
   "id": "129a4e8b-54af-4b1d-9429-35d8f5e44ff9",
   "metadata": {},
   "outputs": [],
   "source": [
    "#merged = data_train.merge(items, how='left').merge(item_categories, how='left').merge(shops, how='left')"
   ]
  },
  {
   "cell_type": "code",
   "execution_count": 4,
   "id": "e4cb2a9d-a2fe-4c55-a403-60fc70c201f8",
   "metadata": {},
   "outputs": [],
   "source": [
    "def parse_city(shop_name):\n",
    "    if shop_name.split()[0] == '!Якутск':\n",
    "        return  'Якутск'\n",
    "\n",
    "    if shop_name.split()[0] == 'Сергиев':\n",
    "            return  'Сергиев Посад'\n",
    "    else:\n",
    "        return shop_name.split()[0]"
   ]
  },
  {
   "cell_type": "code",
   "execution_count": 5,
   "id": "cc12833c-9e84-474e-be8a-92150fe09666",
   "metadata": {},
   "outputs": [],
   "source": [
    "#dates = pd.to_datetime(data_train['date'], format='%d.%m.%Y')\n"
   ]
  },
  {
   "cell_type": "code",
   "execution_count": 6,
   "id": "7cd4e6bb-08c5-4169-8f98-350bae45b491",
   "metadata": {},
   "outputs": [],
   "source": [
    "grouped=data_train.groupby(['shop_id','item_id','date_block_num']).agg({'item_price':'mean',\n",
    "                                                                    'item_cnt_day':'sum'\n",
    "                                                                    })#take some (a lot)))) ) time"
   ]
  },
  {
   "cell_type": "code",
   "execution_count": 7,
   "id": "02c7be3c-6f18-4299-a521-7894b7b03642",
   "metadata": {},
   "outputs": [
    {
     "data": {
      "text/html": [
       "<div>\n",
       "<style scoped>\n",
       "    .dataframe tbody tr th:only-of-type {\n",
       "        vertical-align: middle;\n",
       "    }\n",
       "\n",
       "    .dataframe tbody tr th {\n",
       "        vertical-align: top;\n",
       "    }\n",
       "\n",
       "    .dataframe thead th {\n",
       "        text-align: right;\n",
       "    }\n",
       "</style>\n",
       "<table border=\"1\" class=\"dataframe\">\n",
       "  <thead>\n",
       "    <tr style=\"text-align: right;\">\n",
       "      <th></th>\n",
       "      <th></th>\n",
       "      <th></th>\n",
       "      <th>item_price</th>\n",
       "      <th>item_cnt_day</th>\n",
       "    </tr>\n",
       "    <tr>\n",
       "      <th>shop_id</th>\n",
       "      <th>item_id</th>\n",
       "      <th>date_block_num</th>\n",
       "      <th></th>\n",
       "      <th></th>\n",
       "    </tr>\n",
       "  </thead>\n",
       "  <tbody>\n",
       "    <tr>\n",
       "      <th rowspan=\"5\" valign=\"top\">2</th>\n",
       "      <th rowspan=\"2\" valign=\"top\">27</th>\n",
       "      <th>0</th>\n",
       "      <td>2499.0</td>\n",
       "      <td>1.0</td>\n",
       "    </tr>\n",
       "    <tr>\n",
       "      <th>17</th>\n",
       "      <td>498.0</td>\n",
       "      <td>1.0</td>\n",
       "    </tr>\n",
       "    <tr>\n",
       "      <th rowspan=\"3\" valign=\"top\">30</th>\n",
       "      <th>2</th>\n",
       "      <td>359.0</td>\n",
       "      <td>1.0</td>\n",
       "    </tr>\n",
       "    <tr>\n",
       "      <th>5</th>\n",
       "      <td>399.0</td>\n",
       "      <td>1.0</td>\n",
       "    </tr>\n",
       "    <tr>\n",
       "      <th>15</th>\n",
       "      <td>169.0</td>\n",
       "      <td>1.0</td>\n",
       "    </tr>\n",
       "    <tr>\n",
       "      <th>...</th>\n",
       "      <th>...</th>\n",
       "      <th>...</th>\n",
       "      <td>...</td>\n",
       "      <td>...</td>\n",
       "    </tr>\n",
       "    <tr>\n",
       "      <th rowspan=\"5\" valign=\"top\">59</th>\n",
       "      <th rowspan=\"2\" valign=\"top\">22164</th>\n",
       "      <th>27</th>\n",
       "      <td>699.0</td>\n",
       "      <td>2.0</td>\n",
       "    </tr>\n",
       "    <tr>\n",
       "      <th>30</th>\n",
       "      <td>699.0</td>\n",
       "      <td>1.0</td>\n",
       "    </tr>\n",
       "    <tr>\n",
       "      <th rowspan=\"3\" valign=\"top\">22167</th>\n",
       "      <th>9</th>\n",
       "      <td>299.0</td>\n",
       "      <td>1.0</td>\n",
       "    </tr>\n",
       "    <tr>\n",
       "      <th>11</th>\n",
       "      <td>299.0</td>\n",
       "      <td>2.0</td>\n",
       "    </tr>\n",
       "    <tr>\n",
       "      <th>17</th>\n",
       "      <td>299.0</td>\n",
       "      <td>1.0</td>\n",
       "    </tr>\n",
       "  </tbody>\n",
       "</table>\n",
       "<p>1608225 rows × 2 columns</p>\n",
       "</div>"
      ],
      "text/plain": [
       "                                item_price  item_cnt_day\n",
       "shop_id item_id date_block_num                          \n",
       "2       27      0                   2499.0           1.0\n",
       "                17                   498.0           1.0\n",
       "        30      2                    359.0           1.0\n",
       "                5                    399.0           1.0\n",
       "                15                   169.0           1.0\n",
       "...                                    ...           ...\n",
       "59      22164   27                   699.0           2.0\n",
       "                30                   699.0           1.0\n",
       "        22167   9                    299.0           1.0\n",
       "                11                   299.0           2.0\n",
       "                17                   299.0           1.0\n",
       "\n",
       "[1608225 rows x 2 columns]"
      ]
     },
     "execution_count": 7,
     "metadata": {},
     "output_type": "execute_result"
    }
   ],
   "source": [
    "grouped"
   ]
  },
  {
   "cell_type": "code",
   "execution_count": 8,
   "id": "944f08d2-c445-4fb9-a899-c5cfb6e65b75",
   "metadata": {},
   "outputs": [],
   "source": [
    "grouped=grouped.reset_index().sort_values(by='date_block_num').reset_index(drop=True)"
   ]
  },
  {
   "cell_type": "code",
   "execution_count": 9,
   "id": "b1822a55-9fd5-492a-979c-48c4624fc3a1",
   "metadata": {},
   "outputs": [
    {
     "data": {
      "text/html": [
       "<div>\n",
       "<style scoped>\n",
       "    .dataframe tbody tr th:only-of-type {\n",
       "        vertical-align: middle;\n",
       "    }\n",
       "\n",
       "    .dataframe tbody tr th {\n",
       "        vertical-align: top;\n",
       "    }\n",
       "\n",
       "    .dataframe thead th {\n",
       "        text-align: right;\n",
       "    }\n",
       "</style>\n",
       "<table border=\"1\" class=\"dataframe\">\n",
       "  <thead>\n",
       "    <tr style=\"text-align: right;\">\n",
       "      <th></th>\n",
       "      <th>shop_id</th>\n",
       "      <th>item_id</th>\n",
       "      <th>date_block_num</th>\n",
       "      <th>item_price</th>\n",
       "      <th>item_cnt_day</th>\n",
       "    </tr>\n",
       "  </thead>\n",
       "  <tbody>\n",
       "    <tr>\n",
       "      <th>0</th>\n",
       "      <td>2</td>\n",
       "      <td>484</td>\n",
       "      <td>0</td>\n",
       "      <td>300.0</td>\n",
       "      <td>2.0</td>\n",
       "    </tr>\n",
       "    <tr>\n",
       "      <th>1</th>\n",
       "      <td>59</td>\n",
       "      <td>22151</td>\n",
       "      <td>0</td>\n",
       "      <td>399.0</td>\n",
       "      <td>2.0</td>\n",
       "    </tr>\n",
       "    <tr>\n",
       "      <th>2</th>\n",
       "      <td>2</td>\n",
       "      <td>482</td>\n",
       "      <td>0</td>\n",
       "      <td>3300.0</td>\n",
       "      <td>1.0</td>\n",
       "    </tr>\n",
       "    <tr>\n",
       "      <th>3</th>\n",
       "      <td>59</td>\n",
       "      <td>22154</td>\n",
       "      <td>0</td>\n",
       "      <td>999.0</td>\n",
       "      <td>1.0</td>\n",
       "    </tr>\n",
       "    <tr>\n",
       "      <th>4</th>\n",
       "      <td>35</td>\n",
       "      <td>2934</td>\n",
       "      <td>0</td>\n",
       "      <td>599.0</td>\n",
       "      <td>1.0</td>\n",
       "    </tr>\n",
       "    <tr>\n",
       "      <th>...</th>\n",
       "      <td>...</td>\n",
       "      <td>...</td>\n",
       "      <td>...</td>\n",
       "      <td>...</td>\n",
       "      <td>...</td>\n",
       "    </tr>\n",
       "    <tr>\n",
       "      <th>1608220</th>\n",
       "      <td>31</td>\n",
       "      <td>16451</td>\n",
       "      <td>33</td>\n",
       "      <td>249.0</td>\n",
       "      <td>2.0</td>\n",
       "    </tr>\n",
       "    <tr>\n",
       "      <th>1608221</th>\n",
       "      <td>57</td>\n",
       "      <td>1545</td>\n",
       "      <td>33</td>\n",
       "      <td>5998.0</td>\n",
       "      <td>1.0</td>\n",
       "    </tr>\n",
       "    <tr>\n",
       "      <th>1608222</th>\n",
       "      <td>57</td>\n",
       "      <td>1540</td>\n",
       "      <td>33</td>\n",
       "      <td>1999.0</td>\n",
       "      <td>1.0</td>\n",
       "    </tr>\n",
       "    <tr>\n",
       "      <th>1608223</th>\n",
       "      <td>57</td>\n",
       "      <td>1539</td>\n",
       "      <td>33</td>\n",
       "      <td>1199.0</td>\n",
       "      <td>3.0</td>\n",
       "    </tr>\n",
       "    <tr>\n",
       "      <th>1608224</th>\n",
       "      <td>31</td>\n",
       "      <td>16450</td>\n",
       "      <td>33</td>\n",
       "      <td>169.0</td>\n",
       "      <td>1.0</td>\n",
       "    </tr>\n",
       "  </tbody>\n",
       "</table>\n",
       "<p>1608225 rows × 5 columns</p>\n",
       "</div>"
      ],
      "text/plain": [
       "         shop_id  item_id  date_block_num  item_price  item_cnt_day\n",
       "0              2      484               0       300.0           2.0\n",
       "1             59    22151               0       399.0           2.0\n",
       "2              2      482               0      3300.0           1.0\n",
       "3             59    22154               0       999.0           1.0\n",
       "4             35     2934               0       599.0           1.0\n",
       "...          ...      ...             ...         ...           ...\n",
       "1608220       31    16451              33       249.0           2.0\n",
       "1608221       57     1545              33      5998.0           1.0\n",
       "1608222       57     1540              33      1999.0           1.0\n",
       "1608223       57     1539              33      1199.0           3.0\n",
       "1608224       31    16450              33       169.0           1.0\n",
       "\n",
       "[1608225 rows x 5 columns]"
      ]
     },
     "execution_count": 9,
     "metadata": {},
     "output_type": "execute_result"
    }
   ],
   "source": [
    "grouped"
   ]
  },
  {
   "cell_type": "code",
   "execution_count": 10,
   "id": "2e2bc9ad-73bd-4db2-8a56-749b8708f058",
   "metadata": {},
   "outputs": [],
   "source": [
    "merged = grouped.merge(items, how='left').merge(item_categories, how='left').merge(shops, how='left')"
   ]
  },
  {
   "cell_type": "code",
   "execution_count": 11,
   "id": "74f7f1f4-5675-4093-b05f-8737f621ec14",
   "metadata": {},
   "outputs": [
    {
     "data": {
      "text/plain": [
       "shop_id               0\n",
       "item_id               0\n",
       "date_block_num        0\n",
       "item_price            0\n",
       "item_cnt_day          0\n",
       "item_name             0\n",
       "item_category_id      0\n",
       "item_category_name    0\n",
       "shop_name             0\n",
       "dtype: int64"
      ]
     },
     "execution_count": 11,
     "metadata": {},
     "output_type": "execute_result"
    }
   ],
   "source": [
    "merged.isna().sum()"
   ]
  },
  {
   "cell_type": "code",
   "execution_count": 12,
   "id": "4c4d64e8-2169-4bfb-8a4a-b626aba2f6ed",
   "metadata": {},
   "outputs": [],
   "source": [
    "import calendar\n",
    "\n",
    "def number_to_month(numbers):\n",
    "    # Create a list of month names using the calendar module\n",
    "    month_names = list(calendar.month_name)[1:]  # Extract months from 1 to 12 (exclude the empty element at index 0)\n",
    "    \n",
    "    # Convert the numbers to month names\n",
    "    result = [month_names[num % 12] for num in numbers]  # Use num % 12 to handle numbers beyond 11\n",
    "    \n",
    "    return result\n"
   ]
  },
  {
   "cell_type": "code",
   "execution_count": 13,
   "id": "0fd92e11-81f7-4589-9b21-409f76c20abb",
   "metadata": {},
   "outputs": [],
   "source": [
    "\n",
    "def number_to_month(numbers):\n",
    "    result = [num %12 for num in numbers]  # Use num % 12 to handle numbers beyond 11\n",
    "    \n",
    "    return result\n"
   ]
  },
  {
   "cell_type": "code",
   "execution_count": 14,
   "id": "d895ed2d-c4d5-4578-acf8-78b588a22cc4",
   "metadata": {},
   "outputs": [],
   "source": [
    "def convert_to_year(month_num):\n",
    "    # January 2013 is the starting point\n",
    "    start_year = 2013\n",
    "    \n",
    "    # Calculate the year\n",
    "    year = start_year + (month_num // 12)\n",
    "    \n",
    "    return year"
   ]
  },
  {
   "cell_type": "code",
   "execution_count": 15,
   "id": "cac57f19-5d2e-4824-830b-39eeec6e4fd3",
   "metadata": {},
   "outputs": [],
   "source": [
    "merged['month'] = number_to_month(merged['date_block_num'])\n",
    "merged['year'] = merged['date_block_num'].apply(convert_to_year)"
   ]
  },
  {
   "cell_type": "code",
   "execution_count": 16,
   "id": "658deee4-753a-4458-84d8-7d7eedfa9725",
   "metadata": {},
   "outputs": [],
   "source": [
    "merged['super_category'] = merged['item_category_name'].apply(lambda a: a.split()[0])"
   ]
  },
  {
   "cell_type": "code",
   "execution_count": 17,
   "id": "11c38bbe-a9ff-4f11-9cc2-8f03bcd5ec40",
   "metadata": {},
   "outputs": [],
   "source": [
    "\n",
    "merged['city'] = merged['shop_name'].apply(parse_city)"
   ]
  },
  {
   "cell_type": "code",
   "execution_count": 18,
   "id": "4aef2861-a1ec-4d64-8213-ecd3dc0abb5b",
   "metadata": {},
   "outputs": [],
   "source": [
    "#merged = merged.drop(['shop_id','item_id','item_category_id'],axis=1)"
   ]
  },
  {
   "cell_type": "code",
   "execution_count": 19,
   "id": "deb6704e-0c46-4c7a-be27-4594b1e99ce7",
   "metadata": {},
   "outputs": [],
   "source": [
    "merged=merged.rename(columns={'item_price':'avg_item_price','item_cnt_day':'item_cnt_month'})"
   ]
  },
  {
   "cell_type": "code",
   "execution_count": 20,
   "id": "1e335829-f481-4e9e-8b9f-ea7bfd6ee228",
   "metadata": {},
   "outputs": [],
   "source": [
    "item_lags=list([*range(1,6),11,12])\n",
    "price_lags=list([*range(1,6),11,12])"
   ]
  },
  {
   "cell_type": "code",
   "execution_count": 21,
   "id": "17b000bb-8a9f-45a7-916e-3b9b77674dfb",
   "metadata": {},
   "outputs": [],
   "source": [
    "\n",
    "def create_lags(data,item_lags=None,price_lags=None):\n",
    "    lagged_items = data[['date_block_num','item_cnt_month','shop_id','item_id']].copy()\n",
    "    for lag in item_lags:\n",
    "        #print(lagged_items['date_block_num'].iloc[1000000])\n",
    "        lagged_items['date_block_num']+=lag#previous month becomes present\n",
    "        #print(lagged_items['date_block_num'].iloc[1000000])\n",
    "        data=data.merge(lagged_items, how='left',on=['date_block_num','shop_id','item_id'], suffixes=('', f'_lag_{lag}'))\n",
    "        #print(data)\n",
    "        lagged_items['date_block_num']-=lag\n",
    "\n",
    "    lagged_prices = data[['date_block_num','avg_item_price','shop_id','item_id']].copy()\n",
    "    for lag in price_lags:\n",
    "        lagged_prices['date_block_num']+=lag#previous month becomes present\n",
    "        data=data.merge(lagged_prices, how='left',on=['date_block_num','shop_id','item_id'], suffixes=('', f'_lag_{lag}'))\n",
    "        lagged_prices['date_block_num']-=lag\n",
    "\n",
    "        \n",
    "    return data"
   ]
  },
  {
   "cell_type": "code",
   "execution_count": 22,
   "id": "218c904e-e3d1-4a78-9320-d27d235391ef",
   "metadata": {},
   "outputs": [],
   "source": [
    "merged['item_cnt_month'] = merged['item_cnt_month'].fillna(0)"
   ]
  },
  {
   "cell_type": "code",
   "execution_count": 23,
   "id": "1efffc4b-1477-4468-a26e-485f90805064",
   "metadata": {},
   "outputs": [],
   "source": [
    "lagged = create_lags(merged,item_lags=item_lags,price_lags=price_lags)#takes a bit time"
   ]
  },
  {
   "cell_type": "code",
   "execution_count": null,
   "id": "196a3e47-8ff3-477d-8b96-643c6aaa6aa8",
   "metadata": {},
   "outputs": [],
   "source": []
  },
  {
   "cell_type": "code",
   "execution_count": 24,
   "id": "2b91542d-47be-43c8-b5e9-199d4f5e80bc",
   "metadata": {},
   "outputs": [],
   "source": [
    "#lagged = lagged.drop(['avg_item_price'],axis=1)#we can't use it for train\n",
    "lagged['shop_id_cat'] = lagged['shop_id'].astype('str')\n",
    "lagged['item_id_cat'] = lagged['item_id'].astype('str')\n",
    "lagged['item_category_id_cat'] = lagged['item_category_id'].astype('str')\n",
    "#lagged = lagged.drop(['shop_id','item_id','item_name','shop_name','item_category_id','item_category_name'],axis=1)\n"
   ]
  },
  {
   "cell_type": "code",
   "execution_count": 25,
   "id": "719582fb-2207-4cf9-8217-65adc9aebf45",
   "metadata": {},
   "outputs": [],
   "source": [
    "df = merged"
   ]
  },
  {
   "cell_type": "code",
   "execution_count": 26,
   "id": "ac9186b7-bd41-4829-a8e4-ae89714c981e",
   "metadata": {},
   "outputs": [],
   "source": [
    "def avg(data):\n",
    "    v = data['item_cnt_month'].mode().mean()\n",
    "\n",
    "    return v#.mode()[0]#.mean()"
   ]
  },
  {
   "cell_type": "code",
   "execution_count": 27,
   "id": "6e52b2b5-7027-4ec8-9ae2-e9c716a54014",
   "metadata": {},
   "outputs": [],
   "source": [
    "def avg_by_city(data, city):\n",
    "    v = data [data['city']==city] ['item_cnt_month'].mode().mean()\n",
    "    \n",
    "    return v# .mode()[0]"
   ]
  },
  {
   "cell_type": "code",
   "execution_count": 28,
   "id": "52b3fd81-66f2-4975-bb75-2b79f08a7822",
   "metadata": {},
   "outputs": [],
   "source": [
    "def avg_by_shop(data, shop):\n",
    "    v = data [data['shop_id']==shop] ['item_cnt_month'].mode().mean()\n",
    "    \n",
    "    return v# .mode()[0]#.mean()"
   ]
  },
  {
   "cell_type": "code",
   "execution_count": 29,
   "id": "ecb580a0-a6e1-457e-b231-7e5e1eb2e660",
   "metadata": {},
   "outputs": [],
   "source": [
    "#df.groupby('item_category_id')['date_block_num'].transform('min')"
   ]
  },
  {
   "cell_type": "code",
   "execution_count": 30,
   "id": "462bb471-d50a-40a3-b768-2f10e1814314",
   "metadata": {},
   "outputs": [
    {
     "data": {
      "text/html": [
       "<div>\n",
       "<style scoped>\n",
       "    .dataframe tbody tr th:only-of-type {\n",
       "        vertical-align: middle;\n",
       "    }\n",
       "\n",
       "    .dataframe tbody tr th {\n",
       "        vertical-align: top;\n",
       "    }\n",
       "\n",
       "    .dataframe thead th {\n",
       "        text-align: right;\n",
       "    }\n",
       "</style>\n",
       "<table border=\"1\" class=\"dataframe\">\n",
       "  <thead>\n",
       "    <tr style=\"text-align: right;\">\n",
       "      <th></th>\n",
       "      <th>item_id</th>\n",
       "      <th>item_category_id</th>\n",
       "      <th>date_block_num</th>\n",
       "      <th>first_date_block_num</th>\n",
       "      <th>first_cat_block_num</th>\n",
       "    </tr>\n",
       "  </thead>\n",
       "  <tbody>\n",
       "    <tr>\n",
       "      <th>0</th>\n",
       "      <td>484</td>\n",
       "      <td>73</td>\n",
       "      <td>0</td>\n",
       "      <td>0</td>\n",
       "      <td>0</td>\n",
       "    </tr>\n",
       "    <tr>\n",
       "      <th>1</th>\n",
       "      <td>22151</td>\n",
       "      <td>40</td>\n",
       "      <td>0</td>\n",
       "      <td>0</td>\n",
       "      <td>0</td>\n",
       "    </tr>\n",
       "    <tr>\n",
       "      <th>2</th>\n",
       "      <td>482</td>\n",
       "      <td>73</td>\n",
       "      <td>0</td>\n",
       "      <td>0</td>\n",
       "      <td>0</td>\n",
       "    </tr>\n",
       "    <tr>\n",
       "      <th>3</th>\n",
       "      <td>22154</td>\n",
       "      <td>37</td>\n",
       "      <td>0</td>\n",
       "      <td>0</td>\n",
       "      <td>0</td>\n",
       "    </tr>\n",
       "    <tr>\n",
       "      <th>4</th>\n",
       "      <td>2934</td>\n",
       "      <td>21</td>\n",
       "      <td>0</td>\n",
       "      <td>0</td>\n",
       "      <td>0</td>\n",
       "    </tr>\n",
       "    <tr>\n",
       "      <th>...</th>\n",
       "      <td>...</td>\n",
       "      <td>...</td>\n",
       "      <td>...</td>\n",
       "      <td>...</td>\n",
       "      <td>...</td>\n",
       "    </tr>\n",
       "    <tr>\n",
       "      <th>1608220</th>\n",
       "      <td>16451</td>\n",
       "      <td>37</td>\n",
       "      <td>33</td>\n",
       "      <td>0</td>\n",
       "      <td>0</td>\n",
       "    </tr>\n",
       "    <tr>\n",
       "      <th>1608221</th>\n",
       "      <td>1545</td>\n",
       "      <td>20</td>\n",
       "      <td>33</td>\n",
       "      <td>27</td>\n",
       "      <td>10</td>\n",
       "    </tr>\n",
       "    <tr>\n",
       "      <th>1608222</th>\n",
       "      <td>1540</td>\n",
       "      <td>20</td>\n",
       "      <td>33</td>\n",
       "      <td>31</td>\n",
       "      <td>10</td>\n",
       "    </tr>\n",
       "    <tr>\n",
       "      <th>1608223</th>\n",
       "      <td>1539</td>\n",
       "      <td>30</td>\n",
       "      <td>33</td>\n",
       "      <td>28</td>\n",
       "      <td>0</td>\n",
       "    </tr>\n",
       "    <tr>\n",
       "      <th>1608224</th>\n",
       "      <td>16450</td>\n",
       "      <td>40</td>\n",
       "      <td>33</td>\n",
       "      <td>0</td>\n",
       "      <td>0</td>\n",
       "    </tr>\n",
       "  </tbody>\n",
       "</table>\n",
       "<p>1608225 rows × 5 columns</p>\n",
       "</div>"
      ],
      "text/plain": [
       "         item_id  item_category_id  date_block_num  first_date_block_num  \\\n",
       "0            484                73               0                     0   \n",
       "1          22151                40               0                     0   \n",
       "2            482                73               0                     0   \n",
       "3          22154                37               0                     0   \n",
       "4           2934                21               0                     0   \n",
       "...          ...               ...             ...                   ...   \n",
       "1608220    16451                37              33                     0   \n",
       "1608221     1545                20              33                    27   \n",
       "1608222     1540                20              33                    31   \n",
       "1608223     1539                30              33                    28   \n",
       "1608224    16450                40              33                     0   \n",
       "\n",
       "         first_cat_block_num  \n",
       "0                          0  \n",
       "1                          0  \n",
       "2                          0  \n",
       "3                          0  \n",
       "4                          0  \n",
       "...                      ...  \n",
       "1608220                    0  \n",
       "1608221                   10  \n",
       "1608222                   10  \n",
       "1608223                    0  \n",
       "1608224                    0  \n",
       "\n",
       "[1608225 rows x 5 columns]"
      ]
     },
     "execution_count": 30,
     "metadata": {},
     "output_type": "execute_result"
    }
   ],
   "source": [
    "\n",
    "# 1. Create the 'first_date_block_num' column (first appearance of each item_id)\n",
    "df['first_date_block_num'] = df.groupby('item_id')['date_block_num'].transform('min')\n",
    "\n",
    "# 2. Create the 'first_cat_block_num' column (first appearance of each item_category_id)\n",
    "df['first_cat_block_num'] = df.groupby('item_category_id')['date_block_num'].transform('min')\n",
    "df['first_sup_cat_block_num'] = df.groupby('super_category')['date_block_num'].transform('min')\n",
    "\n",
    "# Display the DataFrame with the new columns\n",
    "df[['item_id', 'item_category_id', 'date_block_num', 'first_date_block_num', 'first_cat_block_num']]"
   ]
  },
  {
   "cell_type": "code",
   "execution_count": 31,
   "id": "768ac677-5ec4-4e98-b566-579b968a0f8c",
   "metadata": {},
   "outputs": [
    {
     "data": {
      "text/html": [
       "<div>\n",
       "<style scoped>\n",
       "    .dataframe tbody tr th:only-of-type {\n",
       "        vertical-align: middle;\n",
       "    }\n",
       "\n",
       "    .dataframe tbody tr th {\n",
       "        vertical-align: top;\n",
       "    }\n",
       "\n",
       "    .dataframe thead th {\n",
       "        text-align: right;\n",
       "    }\n",
       "</style>\n",
       "<table border=\"1\" class=\"dataframe\">\n",
       "  <thead>\n",
       "    <tr style=\"text-align: right;\">\n",
       "      <th></th>\n",
       "      <th>item_id</th>\n",
       "      <th>item_category_id</th>\n",
       "      <th>date_block_num</th>\n",
       "      <th>first_date_block_num</th>\n",
       "      <th>first_cat_block_num</th>\n",
       "    </tr>\n",
       "  </thead>\n",
       "  <tbody>\n",
       "    <tr>\n",
       "      <th>0</th>\n",
       "      <td>484</td>\n",
       "      <td>73</td>\n",
       "      <td>0</td>\n",
       "      <td>0</td>\n",
       "      <td>0</td>\n",
       "    </tr>\n",
       "    <tr>\n",
       "      <th>1</th>\n",
       "      <td>22151</td>\n",
       "      <td>40</td>\n",
       "      <td>0</td>\n",
       "      <td>0</td>\n",
       "      <td>0</td>\n",
       "    </tr>\n",
       "    <tr>\n",
       "      <th>2</th>\n",
       "      <td>482</td>\n",
       "      <td>73</td>\n",
       "      <td>0</td>\n",
       "      <td>0</td>\n",
       "      <td>0</td>\n",
       "    </tr>\n",
       "    <tr>\n",
       "      <th>3</th>\n",
       "      <td>22154</td>\n",
       "      <td>37</td>\n",
       "      <td>0</td>\n",
       "      <td>0</td>\n",
       "      <td>0</td>\n",
       "    </tr>\n",
       "    <tr>\n",
       "      <th>4</th>\n",
       "      <td>2934</td>\n",
       "      <td>21</td>\n",
       "      <td>0</td>\n",
       "      <td>0</td>\n",
       "      <td>0</td>\n",
       "    </tr>\n",
       "    <tr>\n",
       "      <th>...</th>\n",
       "      <td>...</td>\n",
       "      <td>...</td>\n",
       "      <td>...</td>\n",
       "      <td>...</td>\n",
       "      <td>...</td>\n",
       "    </tr>\n",
       "    <tr>\n",
       "      <th>1608220</th>\n",
       "      <td>16451</td>\n",
       "      <td>37</td>\n",
       "      <td>33</td>\n",
       "      <td>0</td>\n",
       "      <td>0</td>\n",
       "    </tr>\n",
       "    <tr>\n",
       "      <th>1608221</th>\n",
       "      <td>1545</td>\n",
       "      <td>20</td>\n",
       "      <td>33</td>\n",
       "      <td>27</td>\n",
       "      <td>10</td>\n",
       "    </tr>\n",
       "    <tr>\n",
       "      <th>1608222</th>\n",
       "      <td>1540</td>\n",
       "      <td>20</td>\n",
       "      <td>33</td>\n",
       "      <td>31</td>\n",
       "      <td>10</td>\n",
       "    </tr>\n",
       "    <tr>\n",
       "      <th>1608223</th>\n",
       "      <td>1539</td>\n",
       "      <td>30</td>\n",
       "      <td>33</td>\n",
       "      <td>28</td>\n",
       "      <td>0</td>\n",
       "    </tr>\n",
       "    <tr>\n",
       "      <th>1608224</th>\n",
       "      <td>16450</td>\n",
       "      <td>40</td>\n",
       "      <td>33</td>\n",
       "      <td>0</td>\n",
       "      <td>0</td>\n",
       "    </tr>\n",
       "  </tbody>\n",
       "</table>\n",
       "<p>1608225 rows × 5 columns</p>\n",
       "</div>"
      ],
      "text/plain": [
       "         item_id  item_category_id  date_block_num  first_date_block_num  \\\n",
       "0            484                73               0                     0   \n",
       "1          22151                40               0                     0   \n",
       "2            482                73               0                     0   \n",
       "3          22154                37               0                     0   \n",
       "4           2934                21               0                     0   \n",
       "...          ...               ...             ...                   ...   \n",
       "1608220    16451                37              33                     0   \n",
       "1608221     1545                20              33                    27   \n",
       "1608222     1540                20              33                    31   \n",
       "1608223     1539                30              33                    28   \n",
       "1608224    16450                40              33                     0   \n",
       "\n",
       "         first_cat_block_num  \n",
       "0                          0  \n",
       "1                          0  \n",
       "2                          0  \n",
       "3                          0  \n",
       "4                          0  \n",
       "...                      ...  \n",
       "1608220                    0  \n",
       "1608221                   10  \n",
       "1608222                   10  \n",
       "1608223                    0  \n",
       "1608224                    0  \n",
       "\n",
       "[1608225 rows x 5 columns]"
      ]
     },
     "execution_count": 31,
     "metadata": {},
     "output_type": "execute_result"
    }
   ],
   "source": [
    "\n",
    "# 1. Create the 'first_date_block_num' column (first appearance of each item_id)\n",
    "lagged['first_date_block_num'] = lagged.groupby('item_id')['date_block_num'].transform('min')\n",
    "lagged['date_block_num_diff'] = lagged['date_block_num'] - lagged['first_date_block_num']\n",
    "\n",
    "# 2. Create the 'first_cat_block_num' column (first appearance of each item_category_id)\n",
    "lagged['first_cat_block_num'] = lagged.groupby('item_category_id')['date_block_num'].transform('min')\n",
    "lagged['first_sup_cat_block_num'] = lagged.groupby('super_category')['date_block_num'].transform('min')\n",
    "\n",
    "# Display the DataFrame with the new columns\n",
    "lagged[['item_id', 'item_category_id', 'date_block_num', 'first_date_block_num', 'first_cat_block_num']]"
   ]
  },
  {
   "cell_type": "code",
   "execution_count": 32,
   "id": "27a2d465-6f6e-4ec4-9d73-c0a4dfbbfb70",
   "metadata": {},
   "outputs": [],
   "source": [
    "\n",
    "def create_lags_columns(data, columns,item_lags=[1,2,3],price_lags=[1,2,3]):\n",
    "    \n",
    "    lagged_items = data[[*columns,'item_cnt_month']]\n",
    "    \n",
    "    for lag in item_lags:\n",
    "        lagged_items.loc[:,'date_block_num']+=lag#previous month becomes present\n",
    "\n",
    "        averaged = lagged_items.groupby(columns).mean().reset_index()\n",
    "        \n",
    "        data=data.merge(averaged, how='left',on=columns, suffixes=('', f'{'_'.join(columns[1:])}_lag_{lag}'))\n",
    "        \n",
    "        lagged_items.loc[:,'date_block_num']-=lag\n",
    "\n",
    "    lagged_prices = data[[*columns,'avg_item_price']]\n",
    "    for lag in price_lags:\n",
    "        lagged_prices.loc[:,'date_block_num']+=lag#previous month becomes present\n",
    "\n",
    "        averaged = lagged_prices.groupby(columns).mean().reset_index()\n",
    "        \n",
    "        data=data.merge(averaged, how='left',on=columns, suffixes=('', f'{'_'.join(columns[1:])}_lag_{lag}'))\n",
    "        lagged_prices.loc[:,'date_block_num']-=lag\n",
    "\n",
    "        \n",
    "    return data"
   ]
  },
  {
   "cell_type": "code",
   "execution_count": 33,
   "id": "365e906f-26a7-4f47-a0a0-40af46e10016",
   "metadata": {},
   "outputs": [],
   "source": [
    "#import warnings\n",
    "#warnings.simplefilter(action='ignore', category=FutureWarning)"
   ]
  },
  {
   "cell_type": "code",
   "execution_count": 34,
   "id": "5829b91e-97ee-4436-b036-6deb923ce5f5",
   "metadata": {
    "scrolled": true
   },
   "outputs": [],
   "source": [
    "lagged = create_lags_columns(lagged,columns=['date_block_num','shop_id','item_category_name'] )"
   ]
  },
  {
   "cell_type": "code",
   "execution_count": 35,
   "id": "148463cf-3935-485b-b789-e4add3eb881f",
   "metadata": {
    "scrolled": true
   },
   "outputs": [],
   "source": [
    "lagged = create_lags_columns(lagged,columns=['date_block_num','super_category'] )"
   ]
  },
  {
   "cell_type": "code",
   "execution_count": 36,
   "id": "4ebcbec9-fe5d-418c-83e5-21601b27464f",
   "metadata": {
    "scrolled": true
   },
   "outputs": [],
   "source": [
    "lagged = create_lags_columns(lagged,columns=['date_block_num','item_id'] )"
   ]
  },
  {
   "cell_type": "code",
   "execution_count": 37,
   "id": "62856026-c357-404a-8681-7320040303e9",
   "metadata": {
    "scrolled": true
   },
   "outputs": [],
   "source": [
    "lagged = create_lags_columns(lagged,columns=['date_block_num','item_category_name'] )"
   ]
  },
  {
   "cell_type": "code",
   "execution_count": 38,
   "id": "8f946442-204d-44bc-8df4-5e4c20187b46",
   "metadata": {
    "scrolled": true
   },
   "outputs": [],
   "source": [
    "lagged = create_lags_columns(lagged,columns=['date_block_num','city'] )"
   ]
  },
  {
   "cell_type": "code",
   "execution_count": 39,
   "id": "5270d978-9655-4863-a0a8-7c32fd725e0d",
   "metadata": {},
   "outputs": [
    {
     "name": "stderr",
     "output_type": "stream",
     "text": [
      "/tmp/ipykernel_4424/2877779004.py:5: FutureWarning: Support for axis=1 in DataFrame.ewm is deprecated and will be removed in a future version. Use obj.T.ewm(...) instead\n",
      "  ema_series = lag_data.ewm(alpha=0.5, min_periods=min_periods, axis=1)\n"
     ]
    }
   ],
   "source": [
    "target = 'item_cnt_month'\n",
    "group_col='city'\n",
    "min_periods=3\n",
    "lag_data = lagged[[f'{target}{group_col}_lag_1', f'{target}{group_col}_lag_2', f'{target}{group_col}_lag_3']]\n",
    "ema_series = lag_data.ewm(alpha=0.5, min_periods=min_periods, axis=1)"
   ]
  },
  {
   "cell_type": "code",
   "execution_count": 40,
   "id": "56821385-4ab6-452b-af92-73fca71e9a21",
   "metadata": {},
   "outputs": [],
   "source": [
    "rm = ema_series.mean()"
   ]
  },
  {
   "cell_type": "code",
   "execution_count": 40,
   "id": "6a11c074-b171-46b8-ba96-c7f9943c20e3",
   "metadata": {},
   "outputs": [],
   "source": [
    "import pandas as pd\n",
    "\n",
    "# Assuming your DataFrame is named 'df'\n",
    "\n",
    "# Function to calculate EMA over the lag columns\n",
    "#@numba.jit(, parallel = True, nogil = True) \n",
    "def calculate_ema_3(df, min_periods=3, target='item_cnt_month', columns=None, test_included=False):#pass date_block_num as a first colummn\n",
    "    # Create a temporary dataframe with the 3 lags\n",
    "    \n",
    "    def calculate_ema(df,group_col):#na not ignored\n",
    "        #print(df.head())\n",
    "        alpha=0.7\n",
    "        \n",
    "        lag_data = df.iloc[0][[f'{target}{'_'.join(group_col[1:])}_lag_1', f'{target}{'_'.join(group_col[1:])}_lag_2', f'{target}{'_'.join(group_col[1:])}_lag_3']]\n",
    "        lag_data=lag_data.fillna(0)\n",
    "        \n",
    "        weights = (1 - alpha) ** np.arange(3)\n",
    "        \n",
    "        weighted_sum = (lag_data * weights).sum()\n",
    "        \n",
    "        weights[lag_data==0]=0\n",
    "        \n",
    "        weight_sum = weights.sum()\n",
    "        if weight_sum == 0:\n",
    "            return np.nan\n",
    "            \n",
    "        results=weighted_sum/weight_sum\n",
    "        \n",
    "        return results\n",
    "\n",
    "    #print(columns)\n",
    "    calcs=df.groupby(columns).apply(lambda group: calculate_ema(group, columns),include_groups=False).reset_index(name =f'ema_{target}_{'_'.join(columns[1:])}')\n",
    "    #print(calcs)\n",
    "    \n",
    "    df = pd.merge(df, calcs, on=columns, how='left')\n",
    "    return df\n"
   ]
  },
  {
   "cell_type": "code",
   "execution_count": 41,
   "id": "02a55ad6-0f68-4ab8-b2a2-e1706d9061d7",
   "metadata": {},
   "outputs": [],
   "source": [
    "import warnings\n",
    "warnings.simplefilter(action='ignore', category=FutureWarning)"
   ]
  },
  {
   "cell_type": "code",
   "execution_count": 71,
   "id": "3669630c-ee63-416d-8cb5-72c26eaf324a",
   "metadata": {
    "scrolled": true
   },
   "outputs": [],
   "source": [
    "lagged = calculate_ema_3(lagged, target='item_cnt_month',columns=['date_block_num','shop_id','item_category_name'])#takes time(most - ema by shop_id item_id, VERY long)#if one of 3 lags exist than not none"
   ]
  },
  {
   "cell_type": "code",
   "execution_count": 43,
   "id": "42a9980a-348a-44c0-819d-c7cca56ee982",
   "metadata": {
    "scrolled": true
   },
   "outputs": [],
   "source": [
    "lagged = calculate_ema_3(lagged, target='item_cnt_month',columns=['date_block_num','super_category'])#takes time(most - ema by shop_id item_id, VERY long)(dont count here))))"
   ]
  },
  {
   "cell_type": "code",
   "execution_count": 44,
   "id": "ea9ccc67-6186-49e0-a4fa-3378397ac519",
   "metadata": {},
   "outputs": [],
   "source": [
    "lagged = calculate_ema_3(lagged, target='item_cnt_month',columns=['date_block_num','item_id'])#takes time(most - ema by shop_id item_id, VERY long)(dont count here))))"
   ]
  },
  {
   "cell_type": "code",
   "execution_count": 45,
   "id": "8ec109d6-bc42-4f66-83ac-141c786c863a",
   "metadata": {},
   "outputs": [],
   "source": [
    "lagged = calculate_ema_3(lagged, target='item_cnt_month',columns=['date_block_num','item_category_name'])#takes time(most - ema by shop_id item_id, VERY long)(dont count here))))"
   ]
  },
  {
   "cell_type": "code",
   "execution_count": 46,
   "id": "85a3fb76-554a-4e72-9662-392353c486bf",
   "metadata": {},
   "outputs": [
    {
     "name": "stdout",
     "output_type": "stream",
     "text": [
      "63212\n",
      "187264\n"
     ]
    }
   ],
   "source": [
    "print(lagged['ema_item_cnt_month_super_category'].isna().sum())\n",
    "print(lagged['item_cnt_monthsuper_category_lag_3'].isna().sum())"
   ]
  },
  {
   "cell_type": "code",
   "execution_count": 47,
   "id": "23080ff5-2e36-4045-afe9-40efe0ceec02",
   "metadata": {},
   "outputs": [
    {
     "data": {
      "text/plain": [
       "set()"
      ]
     },
     "execution_count": 47,
     "metadata": {},
     "output_type": "execute_result"
    }
   ],
   "source": [
    "s = set(set(lagged[lagged['ema_item_cnt_month_super_category'].isna()].index) - set(lagged[lagged['avg_item_pricesuper_category_lag_3'].isna()].index) )\n",
    "s"
   ]
  },
  {
   "cell_type": "code",
   "execution_count": 48,
   "id": "d79a3bc6-91a9-4221-b87c-0fff3464f047",
   "metadata": {},
   "outputs": [
    {
     "data": {
      "text/plain": [
       "np.float64(1.0)"
      ]
     },
     "execution_count": 48,
     "metadata": {},
     "output_type": "execute_result"
    }
   ],
   "source": [
    "lagged.iloc[241377].ema_item_cnt_month_super_category"
   ]
  },
  {
   "cell_type": "code",
   "execution_count": 49,
   "id": "62d86b02-9646-4e46-a41d-434e75746987",
   "metadata": {},
   "outputs": [
    {
     "data": {
      "text/plain": [
       "np.float64(1.0)"
      ]
     },
     "execution_count": 49,
     "metadata": {},
     "output_type": "execute_result"
    }
   ],
   "source": [
    "lagged.iloc[241377].ema_item_cnt_month_super_category"
   ]
  },
  {
   "cell_type": "code",
   "execution_count": null,
   "id": "98e29dcc-2692-4af0-89ce-8ecb9439cd51",
   "metadata": {},
   "outputs": [],
   "source": []
  },
  {
   "cell_type": "code",
   "execution_count": 50,
   "id": "80f0267f-28e0-4294-b21e-31377c2de68f",
   "metadata": {},
   "outputs": [
    {
     "data": {
      "text/plain": [
       "Index(['shop_id', 'item_id', 'date_block_num', 'avg_item_price',\n",
       "       'item_cnt_month', 'item_name', 'item_category_id', 'item_category_name',\n",
       "       'shop_name', 'month', 'year', 'super_category', 'city',\n",
       "       'item_cnt_month_lag_1', 'item_cnt_month_lag_2', 'item_cnt_month_lag_3',\n",
       "       'item_cnt_month_lag_4', 'item_cnt_month_lag_5', 'item_cnt_month_lag_11',\n",
       "       'item_cnt_month_lag_12', 'avg_item_price_lag_1', 'avg_item_price_lag_2',\n",
       "       'avg_item_price_lag_3', 'avg_item_price_lag_4', 'avg_item_price_lag_5',\n",
       "       'avg_item_price_lag_11', 'avg_item_price_lag_12', 'shop_id_cat',\n",
       "       'item_id_cat', 'item_category_id_cat', 'first_date_block_num',\n",
       "       'date_block_num_diff', 'first_cat_block_num', 'first_sup_cat_block_num',\n",
       "       'item_cnt_monthshop_id_item_category_name_lag_1',\n",
       "       'item_cnt_monthshop_id_item_category_name_lag_2',\n",
       "       'item_cnt_monthshop_id_item_category_name_lag_3',\n",
       "       'avg_item_priceshop_id_item_category_name_lag_1',\n",
       "       'avg_item_priceshop_id_item_category_name_lag_2',\n",
       "       'avg_item_priceshop_id_item_category_name_lag_3',\n",
       "       'item_cnt_monthsuper_category_lag_1',\n",
       "       'item_cnt_monthsuper_category_lag_2',\n",
       "       'item_cnt_monthsuper_category_lag_3',\n",
       "       'avg_item_pricesuper_category_lag_1',\n",
       "       'avg_item_pricesuper_category_lag_2',\n",
       "       'avg_item_pricesuper_category_lag_3', 'item_cnt_monthitem_id_lag_1',\n",
       "       'item_cnt_monthitem_id_lag_2', 'item_cnt_monthitem_id_lag_3',\n",
       "       'avg_item_priceitem_id_lag_1', 'avg_item_priceitem_id_lag_2',\n",
       "       'avg_item_priceitem_id_lag_3', 'item_cnt_monthitem_category_name_lag_1',\n",
       "       'item_cnt_monthitem_category_name_lag_2',\n",
       "       'item_cnt_monthitem_category_name_lag_3',\n",
       "       'avg_item_priceitem_category_name_lag_1',\n",
       "       'avg_item_priceitem_category_name_lag_2',\n",
       "       'avg_item_priceitem_category_name_lag_3', 'item_cnt_monthcity_lag_1',\n",
       "       'item_cnt_monthcity_lag_2', 'item_cnt_monthcity_lag_3',\n",
       "       'avg_item_pricecity_lag_1', 'avg_item_pricecity_lag_2',\n",
       "       'avg_item_pricecity_lag_3',\n",
       "       'ema_avg_item_price_shop_id_item_category_name',\n",
       "       'ema_item_cnt_month_super_category', 'ema_item_cnt_month_item_id',\n",
       "       'ema_item_cnt_month_item_category_name'],\n",
       "      dtype='object')"
      ]
     },
     "execution_count": 50,
     "metadata": {},
     "output_type": "execute_result"
    }
   ],
   "source": [
    "lagged.columns"
   ]
  },
  {
   "cell_type": "code",
   "execution_count": 51,
   "id": "bb26b68c-f36a-4304-a6e8-30ba9c784137",
   "metadata": {},
   "outputs": [
    {
     "data": {
      "text/html": [
       "<div>\n",
       "<style scoped>\n",
       "    .dataframe tbody tr th:only-of-type {\n",
       "        vertical-align: middle;\n",
       "    }\n",
       "\n",
       "    .dataframe tbody tr th {\n",
       "        vertical-align: top;\n",
       "    }\n",
       "\n",
       "    .dataframe thead th {\n",
       "        text-align: right;\n",
       "    }\n",
       "</style>\n",
       "<table border=\"1\" class=\"dataframe\">\n",
       "  <thead>\n",
       "    <tr style=\"text-align: right;\">\n",
       "      <th></th>\n",
       "      <th>shop_id</th>\n",
       "      <th>item_id</th>\n",
       "      <th>date_block_num</th>\n",
       "      <th>avg_item_price</th>\n",
       "      <th>item_cnt_month</th>\n",
       "      <th>item_name</th>\n",
       "      <th>item_category_id</th>\n",
       "      <th>item_category_name</th>\n",
       "      <th>shop_name</th>\n",
       "      <th>month</th>\n",
       "      <th>...</th>\n",
       "      <th>item_cnt_monthcity_lag_1</th>\n",
       "      <th>item_cnt_monthcity_lag_2</th>\n",
       "      <th>item_cnt_monthcity_lag_3</th>\n",
       "      <th>avg_item_pricecity_lag_1</th>\n",
       "      <th>avg_item_pricecity_lag_2</th>\n",
       "      <th>avg_item_pricecity_lag_3</th>\n",
       "      <th>ema_avg_item_price_shop_id_item_category_name</th>\n",
       "      <th>ema_item_cnt_month_super_category</th>\n",
       "      <th>ema_item_cnt_month_item_id</th>\n",
       "      <th>ema_item_cnt_month_item_category_name</th>\n",
       "    </tr>\n",
       "  </thead>\n",
       "  <tbody>\n",
       "    <tr>\n",
       "      <th>113</th>\n",
       "      <td>30</td>\n",
       "      <td>13345</td>\n",
       "      <td>0</td>\n",
       "      <td>25.0</td>\n",
       "      <td>3.0</td>\n",
       "      <td>Компактдиск Mirex CD-R 700 Мб 52x Slim case MA...</td>\n",
       "      <td>82</td>\n",
       "      <td>Чистые носители (штучные)</td>\n",
       "      <td>Москва ТЦ \"Перловский\"</td>\n",
       "      <td>0</td>\n",
       "      <td>...</td>\n",
       "      <td>NaN</td>\n",
       "      <td>NaN</td>\n",
       "      <td>NaN</td>\n",
       "      <td>NaN</td>\n",
       "      <td>NaN</td>\n",
       "      <td>NaN</td>\n",
       "      <td>NaN</td>\n",
       "      <td>NaN</td>\n",
       "      <td>NaN</td>\n",
       "      <td>NaN</td>\n",
       "    </tr>\n",
       "    <tr>\n",
       "      <th>5984</th>\n",
       "      <td>16</td>\n",
       "      <td>13345</td>\n",
       "      <td>0</td>\n",
       "      <td>25.0</td>\n",
       "      <td>9.0</td>\n",
       "      <td>Компактдиск Mirex CD-R 700 Мб 52x Slim case MA...</td>\n",
       "      <td>82</td>\n",
       "      <td>Чистые носители (штучные)</td>\n",
       "      <td>Коломна ТЦ \"Рио\"</td>\n",
       "      <td>0</td>\n",
       "      <td>...</td>\n",
       "      <td>NaN</td>\n",
       "      <td>NaN</td>\n",
       "      <td>NaN</td>\n",
       "      <td>NaN</td>\n",
       "      <td>NaN</td>\n",
       "      <td>NaN</td>\n",
       "      <td>NaN</td>\n",
       "      <td>NaN</td>\n",
       "      <td>NaN</td>\n",
       "      <td>NaN</td>\n",
       "    </tr>\n",
       "    <tr>\n",
       "      <th>7934</th>\n",
       "      <td>54</td>\n",
       "      <td>13345</td>\n",
       "      <td>0</td>\n",
       "      <td>25.0</td>\n",
       "      <td>17.0</td>\n",
       "      <td>Компактдиск Mirex CD-R 700 Мб 52x Slim case MA...</td>\n",
       "      <td>82</td>\n",
       "      <td>Чистые носители (штучные)</td>\n",
       "      <td>Химки ТЦ \"Мега\"</td>\n",
       "      <td>0</td>\n",
       "      <td>...</td>\n",
       "      <td>NaN</td>\n",
       "      <td>NaN</td>\n",
       "      <td>NaN</td>\n",
       "      <td>NaN</td>\n",
       "      <td>NaN</td>\n",
       "      <td>NaN</td>\n",
       "      <td>NaN</td>\n",
       "      <td>NaN</td>\n",
       "      <td>NaN</td>\n",
       "      <td>NaN</td>\n",
       "    </tr>\n",
       "    <tr>\n",
       "      <th>8464</th>\n",
       "      <td>51</td>\n",
       "      <td>13345</td>\n",
       "      <td>0</td>\n",
       "      <td>13.0</td>\n",
       "      <td>74.0</td>\n",
       "      <td>Компактдиск Mirex CD-R 700 Мб 52x Slim case MA...</td>\n",
       "      <td>82</td>\n",
       "      <td>Чистые носители (штучные)</td>\n",
       "      <td>Тюмень ТЦ \"Зеленый Берег\"</td>\n",
       "      <td>0</td>\n",
       "      <td>...</td>\n",
       "      <td>NaN</td>\n",
       "      <td>NaN</td>\n",
       "      <td>NaN</td>\n",
       "      <td>NaN</td>\n",
       "      <td>NaN</td>\n",
       "      <td>NaN</td>\n",
       "      <td>NaN</td>\n",
       "      <td>NaN</td>\n",
       "      <td>NaN</td>\n",
       "      <td>NaN</td>\n",
       "    </tr>\n",
       "    <tr>\n",
       "      <th>10802</th>\n",
       "      <td>2</td>\n",
       "      <td>13345</td>\n",
       "      <td>0</td>\n",
       "      <td>25.0</td>\n",
       "      <td>5.0</td>\n",
       "      <td>Компактдиск Mirex CD-R 700 Мб 52x Slim case MA...</td>\n",
       "      <td>82</td>\n",
       "      <td>Чистые носители (штучные)</td>\n",
       "      <td>Адыгея ТЦ \"Мега\"</td>\n",
       "      <td>0</td>\n",
       "      <td>...</td>\n",
       "      <td>NaN</td>\n",
       "      <td>NaN</td>\n",
       "      <td>NaN</td>\n",
       "      <td>NaN</td>\n",
       "      <td>NaN</td>\n",
       "      <td>NaN</td>\n",
       "      <td>NaN</td>\n",
       "      <td>NaN</td>\n",
       "      <td>NaN</td>\n",
       "      <td>NaN</td>\n",
       "    </tr>\n",
       "    <tr>\n",
       "      <th>...</th>\n",
       "      <td>...</td>\n",
       "      <td>...</td>\n",
       "      <td>...</td>\n",
       "      <td>...</td>\n",
       "      <td>...</td>\n",
       "      <td>...</td>\n",
       "      <td>...</td>\n",
       "      <td>...</td>\n",
       "      <td>...</td>\n",
       "      <td>...</td>\n",
       "      <td>...</td>\n",
       "      <td>...</td>\n",
       "      <td>...</td>\n",
       "      <td>...</td>\n",
       "      <td>...</td>\n",
       "      <td>...</td>\n",
       "      <td>...</td>\n",
       "      <td>...</td>\n",
       "      <td>...</td>\n",
       "      <td>...</td>\n",
       "      <td>...</td>\n",
       "    </tr>\n",
       "    <tr>\n",
       "      <th>833142</th>\n",
       "      <td>44</td>\n",
       "      <td>13345</td>\n",
       "      <td>14</td>\n",
       "      <td>25.0</td>\n",
       "      <td>48.0</td>\n",
       "      <td>Компактдиск Mirex CD-R 700 Мб 52x Slim case MA...</td>\n",
       "      <td>82</td>\n",
       "      <td>Чистые носители (штучные)</td>\n",
       "      <td>Самара ТЦ \"Мелодия\"</td>\n",
       "      <td>2</td>\n",
       "      <td>...</td>\n",
       "      <td>1.795639</td>\n",
       "      <td>1.641084</td>\n",
       "      <td>2.046501</td>\n",
       "      <td>688.035063</td>\n",
       "      <td>679.815975</td>\n",
       "      <td>750.279658</td>\n",
       "      <td>37.500000</td>\n",
       "      <td>15.553048</td>\n",
       "      <td>39.919424</td>\n",
       "      <td>20.063440</td>\n",
       "    </tr>\n",
       "    <tr>\n",
       "      <th>842881</th>\n",
       "      <td>44</td>\n",
       "      <td>13345</td>\n",
       "      <td>15</td>\n",
       "      <td>25.0</td>\n",
       "      <td>70.0</td>\n",
       "      <td>Компактдиск Mirex CD-R 700 Мб 52x Slim case MA...</td>\n",
       "      <td>82</td>\n",
       "      <td>Чистые носители (штучные)</td>\n",
       "      <td>Самара ТЦ \"Мелодия\"</td>\n",
       "      <td>3</td>\n",
       "      <td>...</td>\n",
       "      <td>1.831995</td>\n",
       "      <td>1.795639</td>\n",
       "      <td>1.641084</td>\n",
       "      <td>715.940704</td>\n",
       "      <td>688.035063</td>\n",
       "      <td>679.815975</td>\n",
       "      <td>40.497602</td>\n",
       "      <td>14.198470</td>\n",
       "      <td>29.705036</td>\n",
       "      <td>17.578212</td>\n",
       "    </tr>\n",
       "    <tr>\n",
       "      <th>922619</th>\n",
       "      <td>44</td>\n",
       "      <td>13345</td>\n",
       "      <td>16</td>\n",
       "      <td>25.0</td>\n",
       "      <td>12.0</td>\n",
       "      <td>Компактдиск Mirex CD-R 700 Мб 52x Slim case MA...</td>\n",
       "      <td>82</td>\n",
       "      <td>Чистые носители (штучные)</td>\n",
       "      <td>Самара ТЦ \"Мелодия\"</td>\n",
       "      <td>4</td>\n",
       "      <td>...</td>\n",
       "      <td>1.717193</td>\n",
       "      <td>1.831995</td>\n",
       "      <td>1.795639</td>\n",
       "      <td>723.654569</td>\n",
       "      <td>715.940704</td>\n",
       "      <td>688.035063</td>\n",
       "      <td>31.205036</td>\n",
       "      <td>17.922234</td>\n",
       "      <td>58.863309</td>\n",
       "      <td>27.682288</td>\n",
       "    </tr>\n",
       "    <tr>\n",
       "      <th>1092498</th>\n",
       "      <td>11</td>\n",
       "      <td>13345</td>\n",
       "      <td>20</td>\n",
       "      <td>13.0</td>\n",
       "      <td>1.0</td>\n",
       "      <td>Компактдиск Mirex CD-R 700 Мб 52x Slim case MA...</td>\n",
       "      <td>82</td>\n",
       "      <td>Чистые носители (штучные)</td>\n",
       "      <td>Жуковский ул. Чкалова 39м²</td>\n",
       "      <td>8</td>\n",
       "      <td>...</td>\n",
       "      <td>1.556627</td>\n",
       "      <td>1.447028</td>\n",
       "      <td>1.541555</td>\n",
       "      <td>682.207229</td>\n",
       "      <td>715.062016</td>\n",
       "      <td>730.554960</td>\n",
       "      <td>NaN</td>\n",
       "      <td>3.769231</td>\n",
       "      <td>NaN</td>\n",
       "      <td>3.769231</td>\n",
       "    </tr>\n",
       "    <tr>\n",
       "      <th>1269495</th>\n",
       "      <td>12</td>\n",
       "      <td>13345</td>\n",
       "      <td>24</td>\n",
       "      <td>13.0</td>\n",
       "      <td>50.0</td>\n",
       "      <td>Компактдиск Mirex CD-R 700 Мб 52x Slim case MA...</td>\n",
       "      <td>82</td>\n",
       "      <td>Чистые носители (штучные)</td>\n",
       "      <td>Интернет-магазин ЧС</td>\n",
       "      <td>0</td>\n",
       "      <td>...</td>\n",
       "      <td>3.877939</td>\n",
       "      <td>5.282885</td>\n",
       "      <td>4.882917</td>\n",
       "      <td>1523.127133</td>\n",
       "      <td>1602.573341</td>\n",
       "      <td>1440.074411</td>\n",
       "      <td>NaN</td>\n",
       "      <td>NaN</td>\n",
       "      <td>NaN</td>\n",
       "      <td>NaN</td>\n",
       "    </tr>\n",
       "  </tbody>\n",
       "</table>\n",
       "<p>165 rows × 68 columns</p>\n",
       "</div>"
      ],
      "text/plain": [
       "         shop_id  item_id  date_block_num  avg_item_price  item_cnt_month  \\\n",
       "113           30    13345               0            25.0             3.0   \n",
       "5984          16    13345               0            25.0             9.0   \n",
       "7934          54    13345               0            25.0            17.0   \n",
       "8464          51    13345               0            13.0            74.0   \n",
       "10802          2    13345               0            25.0             5.0   \n",
       "...          ...      ...             ...             ...             ...   \n",
       "833142        44    13345              14            25.0            48.0   \n",
       "842881        44    13345              15            25.0            70.0   \n",
       "922619        44    13345              16            25.0            12.0   \n",
       "1092498       11    13345              20            13.0             1.0   \n",
       "1269495       12    13345              24            13.0            50.0   \n",
       "\n",
       "                                                 item_name  item_category_id  \\\n",
       "113      Компактдиск Mirex CD-R 700 Мб 52x Slim case MA...                82   \n",
       "5984     Компактдиск Mirex CD-R 700 Мб 52x Slim case MA...                82   \n",
       "7934     Компактдиск Mirex CD-R 700 Мб 52x Slim case MA...                82   \n",
       "8464     Компактдиск Mirex CD-R 700 Мб 52x Slim case MA...                82   \n",
       "10802    Компактдиск Mirex CD-R 700 Мб 52x Slim case MA...                82   \n",
       "...                                                    ...               ...   \n",
       "833142   Компактдиск Mirex CD-R 700 Мб 52x Slim case MA...                82   \n",
       "842881   Компактдиск Mirex CD-R 700 Мб 52x Slim case MA...                82   \n",
       "922619   Компактдиск Mirex CD-R 700 Мб 52x Slim case MA...                82   \n",
       "1092498  Компактдиск Mirex CD-R 700 Мб 52x Slim case MA...                82   \n",
       "1269495  Компактдиск Mirex CD-R 700 Мб 52x Slim case MA...                82   \n",
       "\n",
       "                item_category_name                   shop_name  month  ...  \\\n",
       "113      Чистые носители (штучные)      Москва ТЦ \"Перловский\"      0  ...   \n",
       "5984     Чистые носители (штучные)            Коломна ТЦ \"Рио\"      0  ...   \n",
       "7934     Чистые носители (штучные)             Химки ТЦ \"Мега\"      0  ...   \n",
       "8464     Чистые носители (штучные)   Тюмень ТЦ \"Зеленый Берег\"      0  ...   \n",
       "10802    Чистые носители (штучные)            Адыгея ТЦ \"Мега\"      0  ...   \n",
       "...                            ...                         ...    ...  ...   \n",
       "833142   Чистые носители (штучные)         Самара ТЦ \"Мелодия\"      2  ...   \n",
       "842881   Чистые носители (штучные)         Самара ТЦ \"Мелодия\"      3  ...   \n",
       "922619   Чистые носители (штучные)         Самара ТЦ \"Мелодия\"      4  ...   \n",
       "1092498  Чистые носители (штучные)  Жуковский ул. Чкалова 39м²      8  ...   \n",
       "1269495  Чистые носители (штучные)         Интернет-магазин ЧС      0  ...   \n",
       "\n",
       "         item_cnt_monthcity_lag_1 item_cnt_monthcity_lag_2  \\\n",
       "113                           NaN                      NaN   \n",
       "5984                          NaN                      NaN   \n",
       "7934                          NaN                      NaN   \n",
       "8464                          NaN                      NaN   \n",
       "10802                         NaN                      NaN   \n",
       "...                           ...                      ...   \n",
       "833142                   1.795639                 1.641084   \n",
       "842881                   1.831995                 1.795639   \n",
       "922619                   1.717193                 1.831995   \n",
       "1092498                  1.556627                 1.447028   \n",
       "1269495                  3.877939                 5.282885   \n",
       "\n",
       "        item_cnt_monthcity_lag_3  avg_item_pricecity_lag_1  \\\n",
       "113                          NaN                       NaN   \n",
       "5984                         NaN                       NaN   \n",
       "7934                         NaN                       NaN   \n",
       "8464                         NaN                       NaN   \n",
       "10802                        NaN                       NaN   \n",
       "...                          ...                       ...   \n",
       "833142                  2.046501                688.035063   \n",
       "842881                  1.641084                715.940704   \n",
       "922619                  1.795639                723.654569   \n",
       "1092498                 1.541555                682.207229   \n",
       "1269495                 4.882917               1523.127133   \n",
       "\n",
       "         avg_item_pricecity_lag_2  avg_item_pricecity_lag_3  \\\n",
       "113                           NaN                       NaN   \n",
       "5984                          NaN                       NaN   \n",
       "7934                          NaN                       NaN   \n",
       "8464                          NaN                       NaN   \n",
       "10802                         NaN                       NaN   \n",
       "...                           ...                       ...   \n",
       "833142                 679.815975                750.279658   \n",
       "842881                 688.035063                679.815975   \n",
       "922619                 715.940704                688.035063   \n",
       "1092498                715.062016                730.554960   \n",
       "1269495               1602.573341               1440.074411   \n",
       "\n",
       "         ema_avg_item_price_shop_id_item_category_name  \\\n",
       "113                                                NaN   \n",
       "5984                                               NaN   \n",
       "7934                                               NaN   \n",
       "8464                                               NaN   \n",
       "10802                                              NaN   \n",
       "...                                                ...   \n",
       "833142                                       37.500000   \n",
       "842881                                       40.497602   \n",
       "922619                                       31.205036   \n",
       "1092498                                            NaN   \n",
       "1269495                                            NaN   \n",
       "\n",
       "         ema_item_cnt_month_super_category  ema_item_cnt_month_item_id  \\\n",
       "113                                    NaN                         NaN   \n",
       "5984                                   NaN                         NaN   \n",
       "7934                                   NaN                         NaN   \n",
       "8464                                   NaN                         NaN   \n",
       "10802                                  NaN                         NaN   \n",
       "...                                    ...                         ...   \n",
       "833142                           15.553048                   39.919424   \n",
       "842881                           14.198470                   29.705036   \n",
       "922619                           17.922234                   58.863309   \n",
       "1092498                           3.769231                         NaN   \n",
       "1269495                                NaN                         NaN   \n",
       "\n",
       "         ema_item_cnt_month_item_category_name  \n",
       "113                                        NaN  \n",
       "5984                                       NaN  \n",
       "7934                                       NaN  \n",
       "8464                                       NaN  \n",
       "10802                                      NaN  \n",
       "...                                        ...  \n",
       "833142                               20.063440  \n",
       "842881                               17.578212  \n",
       "922619                               27.682288  \n",
       "1092498                               3.769231  \n",
       "1269495                                    NaN  \n",
       "\n",
       "[165 rows x 68 columns]"
      ]
     },
     "execution_count": 51,
     "metadata": {},
     "output_type": "execute_result"
    }
   ],
   "source": [
    "lagged[lagged['item_id'] == 13345]"
   ]
  },
  {
   "cell_type": "code",
   "execution_count": 129,
   "id": "e478c2b9-ebf2-4277-91d9-4e120adb544a",
   "metadata": {
    "scrolled": true
   },
   "outputs": [
    {
     "ename": "NameError",
     "evalue": "name 'plt' is not defined",
     "output_type": "error",
     "traceback": [
      "\u001b[0;31m---------------------------------------------------------------------------\u001b[0m",
      "\u001b[0;31mNameError\u001b[0m                                 Traceback (most recent call last)",
      "Cell \u001b[0;32mIn[129], line 4\u001b[0m\n\u001b[1;32m      2\u001b[0m chosen \u001b[38;5;241m=\u001b[39m df[ df[\u001b[38;5;124m'\u001b[39m\u001b[38;5;124mitem_id\u001b[39m\u001b[38;5;124m'\u001b[39m]\u001b[38;5;241m.\u001b[39misin( df[df[\u001b[38;5;124m'\u001b[39m\u001b[38;5;124mfirst_date_block_num\u001b[39m\u001b[38;5;124m'\u001b[39m] \u001b[38;5;241m==\u001b[39m first_month][\u001b[38;5;124m'\u001b[39m\u001b[38;5;124mitem_id\u001b[39m\u001b[38;5;124m'\u001b[39m])]\u001b[38;5;66;03m#choose elemnents that were first time sold in 10 month\u001b[39;00m\n\u001b[1;32m      3\u001b[0m ch_gr \u001b[38;5;241m=\u001b[39m chosen\u001b[38;5;241m.\u001b[39mgroupby(\u001b[38;5;124m'\u001b[39m\u001b[38;5;124mdate_block_num\u001b[39m\u001b[38;5;124m'\u001b[39m)\u001b[38;5;241m.\u001b[39magg({\u001b[38;5;124m'\u001b[39m\u001b[38;5;124mitem_cnt_month\u001b[39m\u001b[38;5;124m'\u001b[39m:\u001b[38;5;124m'\u001b[39m\u001b[38;5;124mmean\u001b[39m\u001b[38;5;124m'\u001b[39m,\u001b[38;5;124m'\u001b[39m\u001b[38;5;124mavg_item_price\u001b[39m\u001b[38;5;124m'\u001b[39m:\u001b[38;5;124m'\u001b[39m\u001b[38;5;124mmean\u001b[39m\u001b[38;5;124m'\u001b[39m})\u001b[38;5;241m.\u001b[39mreset_index()\n\u001b[0;32m----> 4\u001b[0m \u001b[43mplt\u001b[49m\u001b[38;5;241m.\u001b[39mplot(ch_gr[\u001b[38;5;124m'\u001b[39m\u001b[38;5;124mdate_block_num\u001b[39m\u001b[38;5;124m'\u001b[39m], ch_gr[\u001b[38;5;124m'\u001b[39m\u001b[38;5;124mitem_cnt_month\u001b[39m\u001b[38;5;124m'\u001b[39m])\u001b[38;5;66;03m#use EMA may be good idea\u001b[39;00m\n",
      "\u001b[0;31mNameError\u001b[0m: name 'plt' is not defined"
     ]
    }
   ],
   "source": [
    "first_month = 5\n",
    "chosen = df[ df['item_id'].isin( df[df['first_date_block_num'] == first_month]['item_id'])]#choose elemnents that were first time sold in 10 month\n",
    "ch_gr = chosen.groupby('date_block_num').agg({'item_cnt_month':'mean','avg_item_price':'mean'}).reset_index()\n",
    "plt.plot(ch_gr['date_block_num'], ch_gr['item_cnt_month'])#use EMA may be good idea"
   ]
  },
  {
   "cell_type": "code",
   "execution_count": null,
   "id": "77007454-9bc5-492d-9d9a-1c89594b782a",
   "metadata": {},
   "outputs": [],
   "source": [
    "#df_without_first_3 = df[~df['date_block_num'].isin([0,1,2]) ]"
   ]
  },
  {
   "cell_type": "code",
   "execution_count": 52,
   "id": "cdf18425-7f1e-42c7-88f0-097461eb89d9",
   "metadata": {},
   "outputs": [],
   "source": [
    "first_index_block_3 = df[df['date_block_num'] == 3 ].index[0]"
   ]
  },
  {
   "cell_type": "code",
   "execution_count": 53,
   "id": "0f727067-24b8-4720-89d0-4fe20f56032b",
   "metadata": {},
   "outputs": [
    {
     "data": {
      "text/plain": [
       "np.int64(187032)"
      ]
     },
     "execution_count": 53,
     "metadata": {},
     "output_type": "execute_result"
    }
   ],
   "source": [
    "first_index_block_3"
   ]
  },
  {
   "cell_type": "code",
   "execution_count": 54,
   "id": "acecb488-c404-41f0-bee0-97da41b88167",
   "metadata": {},
   "outputs": [],
   "source": [
    "#df_without_first_3=df_without_first_3.drop('index',axis=1)\n",
    "#df=df.drop('index',axis=1)"
   ]
  },
  {
   "cell_type": "code",
   "execution_count": 55,
   "id": "6b6a96d2-8d54-4050-96b7-1ece0659dd28",
   "metadata": {
    "scrolled": true
   },
   "outputs": [
    {
     "data": {
      "text/html": [
       "<div>\n",
       "<style scoped>\n",
       "    .dataframe tbody tr th:only-of-type {\n",
       "        vertical-align: middle;\n",
       "    }\n",
       "\n",
       "    .dataframe tbody tr th {\n",
       "        vertical-align: top;\n",
       "    }\n",
       "\n",
       "    .dataframe thead th {\n",
       "        text-align: right;\n",
       "    }\n",
       "</style>\n",
       "<table border=\"1\" class=\"dataframe\">\n",
       "  <thead>\n",
       "    <tr style=\"text-align: right;\">\n",
       "      <th></th>\n",
       "      <th>shop_id</th>\n",
       "      <th>item_id</th>\n",
       "      <th>date_block_num</th>\n",
       "      <th>avg_item_price</th>\n",
       "      <th>item_cnt_month</th>\n",
       "      <th>item_name</th>\n",
       "      <th>item_category_id</th>\n",
       "      <th>item_category_name</th>\n",
       "      <th>shop_name</th>\n",
       "      <th>month</th>\n",
       "      <th>year</th>\n",
       "      <th>super_category</th>\n",
       "      <th>city</th>\n",
       "      <th>first_date_block_num</th>\n",
       "      <th>first_cat_block_num</th>\n",
       "      <th>first_sup_cat_block_num</th>\n",
       "    </tr>\n",
       "  </thead>\n",
       "  <tbody>\n",
       "    <tr>\n",
       "      <th>0</th>\n",
       "      <td>2</td>\n",
       "      <td>484</td>\n",
       "      <td>0</td>\n",
       "      <td>300.0</td>\n",
       "      <td>2.0</td>\n",
       "      <td>1С:Бухгалтерия 8. Учебная версия. Издание 6.</td>\n",
       "      <td>73</td>\n",
       "      <td>Программы - 1С:Предприятие 8</td>\n",
       "      <td>Адыгея ТЦ \"Мега\"</td>\n",
       "      <td>0</td>\n",
       "      <td>2013</td>\n",
       "      <td>Программы</td>\n",
       "      <td>Адыгея</td>\n",
       "      <td>0</td>\n",
       "      <td>0</td>\n",
       "      <td>0</td>\n",
       "    </tr>\n",
       "    <tr>\n",
       "      <th>1</th>\n",
       "      <td>59</td>\n",
       "      <td>22151</td>\n",
       "      <td>0</td>\n",
       "      <td>399.0</td>\n",
       "      <td>2.0</td>\n",
       "      <td>ЯВЛЕНИЕ (2012)</td>\n",
       "      <td>40</td>\n",
       "      <td>Кино - DVD</td>\n",
       "      <td>Ярославль ТЦ \"Альтаир\"</td>\n",
       "      <td>0</td>\n",
       "      <td>2013</td>\n",
       "      <td>Кино</td>\n",
       "      <td>Ярославль</td>\n",
       "      <td>0</td>\n",
       "      <td>0</td>\n",
       "      <td>0</td>\n",
       "    </tr>\n",
       "    <tr>\n",
       "      <th>2</th>\n",
       "      <td>2</td>\n",
       "      <td>482</td>\n",
       "      <td>0</td>\n",
       "      <td>3300.0</td>\n",
       "      <td>1.0</td>\n",
       "      <td>1С:Бухгалтерия 8. Базовая версия</td>\n",
       "      <td>73</td>\n",
       "      <td>Программы - 1С:Предприятие 8</td>\n",
       "      <td>Адыгея ТЦ \"Мега\"</td>\n",
       "      <td>0</td>\n",
       "      <td>2013</td>\n",
       "      <td>Программы</td>\n",
       "      <td>Адыгея</td>\n",
       "      <td>0</td>\n",
       "      <td>0</td>\n",
       "      <td>0</td>\n",
       "    </tr>\n",
       "    <tr>\n",
       "      <th>3</th>\n",
       "      <td>59</td>\n",
       "      <td>22154</td>\n",
       "      <td>0</td>\n",
       "      <td>999.0</td>\n",
       "      <td>1.0</td>\n",
       "      <td>ЯВЛЕНИЕ 2012 (BD)</td>\n",
       "      <td>37</td>\n",
       "      <td>Кино - Blu-Ray</td>\n",
       "      <td>Ярославль ТЦ \"Альтаир\"</td>\n",
       "      <td>0</td>\n",
       "      <td>2013</td>\n",
       "      <td>Кино</td>\n",
       "      <td>Ярославль</td>\n",
       "      <td>0</td>\n",
       "      <td>0</td>\n",
       "      <td>0</td>\n",
       "    </tr>\n",
       "    <tr>\n",
       "      <th>4</th>\n",
       "      <td>35</td>\n",
       "      <td>2934</td>\n",
       "      <td>0</td>\n",
       "      <td>599.0</td>\n",
       "      <td>1.0</td>\n",
       "      <td>Disney. Миссия Дарвина (Essentials) [PSP, русс...</td>\n",
       "      <td>21</td>\n",
       "      <td>Игры - PSP</td>\n",
       "      <td>Н.Новгород ТРЦ \"Фантастика\"</td>\n",
       "      <td>0</td>\n",
       "      <td>2013</td>\n",
       "      <td>Игры</td>\n",
       "      <td>Н.Новгород</td>\n",
       "      <td>0</td>\n",
       "      <td>0</td>\n",
       "      <td>0</td>\n",
       "    </tr>\n",
       "    <tr>\n",
       "      <th>...</th>\n",
       "      <td>...</td>\n",
       "      <td>...</td>\n",
       "      <td>...</td>\n",
       "      <td>...</td>\n",
       "      <td>...</td>\n",
       "      <td>...</td>\n",
       "      <td>...</td>\n",
       "      <td>...</td>\n",
       "      <td>...</td>\n",
       "      <td>...</td>\n",
       "      <td>...</td>\n",
       "      <td>...</td>\n",
       "      <td>...</td>\n",
       "      <td>...</td>\n",
       "      <td>...</td>\n",
       "      <td>...</td>\n",
       "    </tr>\n",
       "    <tr>\n",
       "      <th>1608220</th>\n",
       "      <td>31</td>\n",
       "      <td>16451</td>\n",
       "      <td>33</td>\n",
       "      <td>249.0</td>\n",
       "      <td>2.0</td>\n",
       "      <td>ОБЛАЧНЫЙ АТЛАС (BD)</td>\n",
       "      <td>37</td>\n",
       "      <td>Кино - Blu-Ray</td>\n",
       "      <td>Москва ТЦ \"Семеновский\"</td>\n",
       "      <td>9</td>\n",
       "      <td>2015</td>\n",
       "      <td>Кино</td>\n",
       "      <td>Москва</td>\n",
       "      <td>0</td>\n",
       "      <td>0</td>\n",
       "      <td>0</td>\n",
       "    </tr>\n",
       "    <tr>\n",
       "      <th>1608221</th>\n",
       "      <td>57</td>\n",
       "      <td>1545</td>\n",
       "      <td>33</td>\n",
       "      <td>5998.0</td>\n",
       "      <td>1.0</td>\n",
       "      <td>Assassin's Creed: Единство. Guillotine Edition...</td>\n",
       "      <td>20</td>\n",
       "      <td>Игры - PS4</td>\n",
       "      <td>Якутск Орджоникидзе, 56</td>\n",
       "      <td>9</td>\n",
       "      <td>2015</td>\n",
       "      <td>Игры</td>\n",
       "      <td>Якутск</td>\n",
       "      <td>27</td>\n",
       "      <td>10</td>\n",
       "      <td>0</td>\n",
       "    </tr>\n",
       "    <tr>\n",
       "      <th>1608222</th>\n",
       "      <td>57</td>\n",
       "      <td>1540</td>\n",
       "      <td>33</td>\n",
       "      <td>1999.0</td>\n",
       "      <td>1.0</td>\n",
       "      <td>Assassin's Creed: Единство [PS4, русская версия]</td>\n",
       "      <td>20</td>\n",
       "      <td>Игры - PS4</td>\n",
       "      <td>Якутск Орджоникидзе, 56</td>\n",
       "      <td>9</td>\n",
       "      <td>2015</td>\n",
       "      <td>Игры</td>\n",
       "      <td>Якутск</td>\n",
       "      <td>31</td>\n",
       "      <td>10</td>\n",
       "      <td>0</td>\n",
       "    </tr>\n",
       "    <tr>\n",
       "      <th>1608223</th>\n",
       "      <td>57</td>\n",
       "      <td>1539</td>\n",
       "      <td>33</td>\n",
       "      <td>1199.0</td>\n",
       "      <td>3.0</td>\n",
       "      <td>Assassin's Creed: Единство [PC, русская версия]</td>\n",
       "      <td>30</td>\n",
       "      <td>Игры PC - Стандартные издания</td>\n",
       "      <td>Якутск Орджоникидзе, 56</td>\n",
       "      <td>9</td>\n",
       "      <td>2015</td>\n",
       "      <td>Игры</td>\n",
       "      <td>Якутск</td>\n",
       "      <td>28</td>\n",
       "      <td>0</td>\n",
       "      <td>0</td>\n",
       "    </tr>\n",
       "    <tr>\n",
       "      <th>1608224</th>\n",
       "      <td>31</td>\n",
       "      <td>16450</td>\n",
       "      <td>33</td>\n",
       "      <td>169.0</td>\n",
       "      <td>1.0</td>\n",
       "      <td>ОБЛАЧНЫЙ АТЛАС</td>\n",
       "      <td>40</td>\n",
       "      <td>Кино - DVD</td>\n",
       "      <td>Москва ТЦ \"Семеновский\"</td>\n",
       "      <td>9</td>\n",
       "      <td>2015</td>\n",
       "      <td>Кино</td>\n",
       "      <td>Москва</td>\n",
       "      <td>0</td>\n",
       "      <td>0</td>\n",
       "      <td>0</td>\n",
       "    </tr>\n",
       "  </tbody>\n",
       "</table>\n",
       "<p>1608225 rows × 16 columns</p>\n",
       "</div>"
      ],
      "text/plain": [
       "         shop_id  item_id  date_block_num  avg_item_price  item_cnt_month  \\\n",
       "0              2      484               0           300.0             2.0   \n",
       "1             59    22151               0           399.0             2.0   \n",
       "2              2      482               0          3300.0             1.0   \n",
       "3             59    22154               0           999.0             1.0   \n",
       "4             35     2934               0           599.0             1.0   \n",
       "...          ...      ...             ...             ...             ...   \n",
       "1608220       31    16451              33           249.0             2.0   \n",
       "1608221       57     1545              33          5998.0             1.0   \n",
       "1608222       57     1540              33          1999.0             1.0   \n",
       "1608223       57     1539              33          1199.0             3.0   \n",
       "1608224       31    16450              33           169.0             1.0   \n",
       "\n",
       "                                                 item_name  item_category_id  \\\n",
       "0             1С:Бухгалтерия 8. Учебная версия. Издание 6.                73   \n",
       "1                                           ЯВЛЕНИЕ (2012)                40   \n",
       "2                         1С:Бухгалтерия 8. Базовая версия                73   \n",
       "3                                        ЯВЛЕНИЕ 2012 (BD)                37   \n",
       "4        Disney. Миссия Дарвина (Essentials) [PSP, русс...                21   \n",
       "...                                                    ...               ...   \n",
       "1608220                                ОБЛАЧНЫЙ АТЛАС (BD)                37   \n",
       "1608221  Assassin's Creed: Единство. Guillotine Edition...                20   \n",
       "1608222   Assassin's Creed: Единство [PS4, русская версия]                20   \n",
       "1608223    Assassin's Creed: Единство [PC, русская версия]                30   \n",
       "1608224                                     ОБЛАЧНЫЙ АТЛАС                40   \n",
       "\n",
       "                    item_category_name                    shop_name  month  \\\n",
       "0         Программы - 1С:Предприятие 8             Адыгея ТЦ \"Мега\"      0   \n",
       "1                           Кино - DVD       Ярославль ТЦ \"Альтаир\"      0   \n",
       "2         Программы - 1С:Предприятие 8             Адыгея ТЦ \"Мега\"      0   \n",
       "3                       Кино - Blu-Ray       Ярославль ТЦ \"Альтаир\"      0   \n",
       "4                           Игры - PSP  Н.Новгород ТРЦ \"Фантастика\"      0   \n",
       "...                                ...                          ...    ...   \n",
       "1608220                 Кино - Blu-Ray      Москва ТЦ \"Семеновский\"      9   \n",
       "1608221                     Игры - PS4      Якутск Орджоникидзе, 56      9   \n",
       "1608222                     Игры - PS4      Якутск Орджоникидзе, 56      9   \n",
       "1608223  Игры PC - Стандартные издания      Якутск Орджоникидзе, 56      9   \n",
       "1608224                     Кино - DVD      Москва ТЦ \"Семеновский\"      9   \n",
       "\n",
       "         year super_category        city  first_date_block_num  \\\n",
       "0        2013      Программы      Адыгея                     0   \n",
       "1        2013           Кино   Ярославль                     0   \n",
       "2        2013      Программы      Адыгея                     0   \n",
       "3        2013           Кино   Ярославль                     0   \n",
       "4        2013           Игры  Н.Новгород                     0   \n",
       "...       ...            ...         ...                   ...   \n",
       "1608220  2015           Кино      Москва                     0   \n",
       "1608221  2015           Игры      Якутск                    27   \n",
       "1608222  2015           Игры      Якутск                    31   \n",
       "1608223  2015           Игры      Якутск                    28   \n",
       "1608224  2015           Кино      Москва                     0   \n",
       "\n",
       "         first_cat_block_num  first_sup_cat_block_num  \n",
       "0                          0                        0  \n",
       "1                          0                        0  \n",
       "2                          0                        0  \n",
       "3                          0                        0  \n",
       "4                          0                        0  \n",
       "...                      ...                      ...  \n",
       "1608220                    0                        0  \n",
       "1608221                   10                        0  \n",
       "1608222                   10                        0  \n",
       "1608223                    0                        0  \n",
       "1608224                    0                        0  \n",
       "\n",
       "[1608225 rows x 16 columns]"
      ]
     },
     "execution_count": 55,
     "metadata": {},
     "output_type": "execute_result"
    }
   ],
   "source": [
    "df"
   ]
  },
  {
   "cell_type": "code",
   "execution_count": 56,
   "id": "ecd57716-5788-4745-b308-54e94454b324",
   "metadata": {},
   "outputs": [
    {
     "data": {
      "text/plain": [
       "array([ 1,  2,  3,  4,  5,  6,  7,  8,  9, 10, 11, 12, 13, 14, 15, 16, 17,\n",
       "       18, 19, 20, 21, 22, 23, 24, 25, 26, 27, 28, 29, 30, 31, 32, 33])"
      ]
     },
     "execution_count": 56,
     "metadata": {},
     "output_type": "execute_result"
    }
   ],
   "source": [
    "np.sort(df.date_block_num.unique())[1:]"
   ]
  },
  {
   "cell_type": "code",
   "execution_count": 57,
   "id": "b76af77b-35b8-41f7-9135-c4baf9f54c9e",
   "metadata": {},
   "outputs": [],
   "source": [
    "blocks = [df[df['date_block_num'] == block-1 ].index[-1] for block in np.sort(df.date_block_num.unique())[1:]]"
   ]
  },
  {
   "cell_type": "code",
   "execution_count": 58,
   "id": "21bfc777-4f79-42c8-8091-6a7187909f6d",
   "metadata": {},
   "outputs": [
    {
     "data": {
      "text/plain": [
       "[np.int64(63169),\n",
       " np.int64(123080),\n",
       " np.int64(187031),\n",
       " np.int64(241621),\n",
       " np.int64(294897),\n",
       " np.int64(351070),\n",
       " np.int64(409074),\n",
       " np.int64(467062),\n",
       " np.int64(518605),\n",
       " np.int64(569662),\n",
       " np.int64(621094),\n",
       " np.int64(687351),\n",
       " np.int64(740621),\n",
       " np.int64(788277),\n",
       " np.int64(837535),\n",
       " np.int64(882254),\n",
       " np.int64(927997),\n",
       " np.int64(974455),\n",
       " np.int64(1020186),\n",
       " np.int64(1066604),\n",
       " np.int64(1106996),\n",
       " np.int64(1149577),\n",
       " np.int64(1195318),\n",
       " np.int64(1254572),\n",
       " np.int64(1301310),\n",
       " np.int64(1342670),\n",
       " np.int64(1383112),\n",
       " np.int64(1415963),\n",
       " np.int64(1448169),\n",
       " np.int64(1480064),\n",
       " np.int64(1513579),\n",
       " np.int64(1547051),\n",
       " np.int64(1576703)]"
      ]
     },
     "execution_count": 58,
     "metadata": {},
     "output_type": "execute_result"
    }
   ],
   "source": [
    "blocks"
   ]
  },
  {
   "cell_type": "code",
   "execution_count": 59,
   "id": "4911ebaf-2889-433a-b968-feb6398b8292",
   "metadata": {},
   "outputs": [],
   "source": [
    "def choose_previos_blocks(data_SORTED, idx):\n",
    "    #idx - idx in data_SORTED\n",
    "    block = data_SORTED.iloc[idx]['date_block_num']\n",
    "    last_index_block = blocks[block-1]\n",
    "    return data_SORTED.iloc[0:last_index_block]"
   ]
  },
  {
   "cell_type": "code",
   "execution_count": 60,
   "id": "fd8a1a00-e797-499b-a1d8-a7022cf45fed",
   "metadata": {},
   "outputs": [
    {
     "data": {
      "text/plain": [
       "<Axes: >"
      ]
     },
     "execution_count": 60,
     "metadata": {},
     "output_type": "execute_result"
    },
    {
     "data": {
      "image/png": "[encoded data removed]",
      "text/plain": [
       "<Figure size 640x480 with 1 Axes>"
      ]
     },
     "metadata": {},
     "output_type": "display_data"
    }
   ],
   "source": [
    "lagged['avg_item_price'].hist(bins=500, range=[0,50])"
   ]
  },
  {
   "cell_type": "code",
   "execution_count": 61,
   "id": "16bd9de8-a28d-429f-9e47-1ccde6c15287",
   "metadata": {},
   "outputs": [
    {
     "name": "stdout",
     "output_type": "stream",
     "text": [
      "/home/valeriy/python_projects/predict_future_sales/EDA\n"
     ]
    }
   ],
   "source": [
    "!pwd"
   ]
  },
  {
   "cell_type": "code",
   "execution_count": 62,
   "id": "5018cc3f-9436-420e-9805-58fa1ed0fe10",
   "metadata": {},
   "outputs": [
    {
     "data": {
      "text/html": [
       "<div>\n",
       "<style scoped>\n",
       "    .dataframe tbody tr th:only-of-type {\n",
       "        vertical-align: middle;\n",
       "    }\n",
       "\n",
       "    .dataframe tbody tr th {\n",
       "        vertical-align: top;\n",
       "    }\n",
       "\n",
       "    .dataframe thead th {\n",
       "        text-align: right;\n",
       "    }\n",
       "</style>\n",
       "<table border=\"1\" class=\"dataframe\">\n",
       "  <thead>\n",
       "    <tr style=\"text-align: right;\">\n",
       "      <th></th>\n",
       "      <th>shop_id</th>\n",
       "      <th>item_id</th>\n",
       "      <th>date_block_num</th>\n",
       "      <th>avg_item_price</th>\n",
       "      <th>item_cnt_month</th>\n",
       "      <th>item_name</th>\n",
       "      <th>item_category_id</th>\n",
       "      <th>item_category_name</th>\n",
       "      <th>shop_name</th>\n",
       "      <th>month</th>\n",
       "      <th>...</th>\n",
       "      <th>item_cnt_monthcity_lag_1</th>\n",
       "      <th>item_cnt_monthcity_lag_2</th>\n",
       "      <th>item_cnt_monthcity_lag_3</th>\n",
       "      <th>avg_item_pricecity_lag_1</th>\n",
       "      <th>avg_item_pricecity_lag_2</th>\n",
       "      <th>avg_item_pricecity_lag_3</th>\n",
       "      <th>ema_avg_item_price_shop_id_item_category_name</th>\n",
       "      <th>ema_item_cnt_month_super_category</th>\n",
       "      <th>ema_item_cnt_month_item_id</th>\n",
       "      <th>ema_item_cnt_month_item_category_name</th>\n",
       "    </tr>\n",
       "  </thead>\n",
       "  <tbody>\n",
       "    <tr>\n",
       "      <th>0</th>\n",
       "      <td>2</td>\n",
       "      <td>484</td>\n",
       "      <td>0</td>\n",
       "      <td>300.0</td>\n",
       "      <td>2.0</td>\n",
       "      <td>1С:Бухгалтерия 8. Учебная версия. Издание 6.</td>\n",
       "      <td>73</td>\n",
       "      <td>Программы - 1С:Предприятие 8</td>\n",
       "      <td>Адыгея ТЦ \"Мега\"</td>\n",
       "      <td>0</td>\n",
       "      <td>...</td>\n",
       "      <td>NaN</td>\n",
       "      <td>NaN</td>\n",
       "      <td>NaN</td>\n",
       "      <td>NaN</td>\n",
       "      <td>NaN</td>\n",
       "      <td>NaN</td>\n",
       "      <td>NaN</td>\n",
       "      <td>NaN</td>\n",
       "      <td>NaN</td>\n",
       "      <td>NaN</td>\n",
       "    </tr>\n",
       "    <tr>\n",
       "      <th>1</th>\n",
       "      <td>59</td>\n",
       "      <td>22151</td>\n",
       "      <td>0</td>\n",
       "      <td>399.0</td>\n",
       "      <td>2.0</td>\n",
       "      <td>ЯВЛЕНИЕ (2012)</td>\n",
       "      <td>40</td>\n",
       "      <td>Кино - DVD</td>\n",
       "      <td>Ярославль ТЦ \"Альтаир\"</td>\n",
       "      <td>0</td>\n",
       "      <td>...</td>\n",
       "      <td>NaN</td>\n",
       "      <td>NaN</td>\n",
       "      <td>NaN</td>\n",
       "      <td>NaN</td>\n",
       "      <td>NaN</td>\n",
       "      <td>NaN</td>\n",
       "      <td>NaN</td>\n",
       "      <td>NaN</td>\n",
       "      <td>NaN</td>\n",
       "      <td>NaN</td>\n",
       "    </tr>\n",
       "    <tr>\n",
       "      <th>2</th>\n",
       "      <td>2</td>\n",
       "      <td>482</td>\n",
       "      <td>0</td>\n",
       "      <td>3300.0</td>\n",
       "      <td>1.0</td>\n",
       "      <td>1С:Бухгалтерия 8. Базовая версия</td>\n",
       "      <td>73</td>\n",
       "      <td>Программы - 1С:Предприятие 8</td>\n",
       "      <td>Адыгея ТЦ \"Мега\"</td>\n",
       "      <td>0</td>\n",
       "      <td>...</td>\n",
       "      <td>NaN</td>\n",
       "      <td>NaN</td>\n",
       "      <td>NaN</td>\n",
       "      <td>NaN</td>\n",
       "      <td>NaN</td>\n",
       "      <td>NaN</td>\n",
       "      <td>NaN</td>\n",
       "      <td>NaN</td>\n",
       "      <td>NaN</td>\n",
       "      <td>NaN</td>\n",
       "    </tr>\n",
       "    <tr>\n",
       "      <th>3</th>\n",
       "      <td>59</td>\n",
       "      <td>22154</td>\n",
       "      <td>0</td>\n",
       "      <td>999.0</td>\n",
       "      <td>1.0</td>\n",
       "      <td>ЯВЛЕНИЕ 2012 (BD)</td>\n",
       "      <td>37</td>\n",
       "      <td>Кино - Blu-Ray</td>\n",
       "      <td>Ярославль ТЦ \"Альтаир\"</td>\n",
       "      <td>0</td>\n",
       "      <td>...</td>\n",
       "      <td>NaN</td>\n",
       "      <td>NaN</td>\n",
       "      <td>NaN</td>\n",
       "      <td>NaN</td>\n",
       "      <td>NaN</td>\n",
       "      <td>NaN</td>\n",
       "      <td>NaN</td>\n",
       "      <td>NaN</td>\n",
       "      <td>NaN</td>\n",
       "      <td>NaN</td>\n",
       "    </tr>\n",
       "    <tr>\n",
       "      <th>4</th>\n",
       "      <td>35</td>\n",
       "      <td>2934</td>\n",
       "      <td>0</td>\n",
       "      <td>599.0</td>\n",
       "      <td>1.0</td>\n",
       "      <td>Disney. Миссия Дарвина (Essentials) [PSP, русс...</td>\n",
       "      <td>21</td>\n",
       "      <td>Игры - PSP</td>\n",
       "      <td>Н.Новгород ТРЦ \"Фантастика\"</td>\n",
       "      <td>0</td>\n",
       "      <td>...</td>\n",
       "      <td>NaN</td>\n",
       "      <td>NaN</td>\n",
       "      <td>NaN</td>\n",
       "      <td>NaN</td>\n",
       "      <td>NaN</td>\n",
       "      <td>NaN</td>\n",
       "      <td>NaN</td>\n",
       "      <td>NaN</td>\n",
       "      <td>NaN</td>\n",
       "      <td>NaN</td>\n",
       "    </tr>\n",
       "    <tr>\n",
       "      <th>...</th>\n",
       "      <td>...</td>\n",
       "      <td>...</td>\n",
       "      <td>...</td>\n",
       "      <td>...</td>\n",
       "      <td>...</td>\n",
       "      <td>...</td>\n",
       "      <td>...</td>\n",
       "      <td>...</td>\n",
       "      <td>...</td>\n",
       "      <td>...</td>\n",
       "      <td>...</td>\n",
       "      <td>...</td>\n",
       "      <td>...</td>\n",
       "      <td>...</td>\n",
       "      <td>...</td>\n",
       "      <td>...</td>\n",
       "      <td>...</td>\n",
       "      <td>...</td>\n",
       "      <td>...</td>\n",
       "      <td>...</td>\n",
       "      <td>...</td>\n",
       "    </tr>\n",
       "    <tr>\n",
       "      <th>1608220</th>\n",
       "      <td>31</td>\n",
       "      <td>16451</td>\n",
       "      <td>33</td>\n",
       "      <td>249.0</td>\n",
       "      <td>2.0</td>\n",
       "      <td>ОБЛАЧНЫЙ АТЛАС (BD)</td>\n",
       "      <td>37</td>\n",
       "      <td>Кино - Blu-Ray</td>\n",
       "      <td>Москва ТЦ \"Семеновский\"</td>\n",
       "      <td>9</td>\n",
       "      <td>...</td>\n",
       "      <td>2.682759</td>\n",
       "      <td>2.271802</td>\n",
       "      <td>2.208756</td>\n",
       "      <td>1008.434959</td>\n",
       "      <td>866.729586</td>\n",
       "      <td>887.674964</td>\n",
       "      <td>397.864780</td>\n",
       "      <td>1.547242</td>\n",
       "      <td>NaN</td>\n",
       "      <td>1.508495</td>\n",
       "    </tr>\n",
       "    <tr>\n",
       "      <th>1608221</th>\n",
       "      <td>57</td>\n",
       "      <td>1545</td>\n",
       "      <td>33</td>\n",
       "      <td>5998.0</td>\n",
       "      <td>1.0</td>\n",
       "      <td>Assassin's Creed: Единство. Guillotine Edition...</td>\n",
       "      <td>20</td>\n",
       "      <td>Игры - PS4</td>\n",
       "      <td>Якутск Орджоникидзе, 56</td>\n",
       "      <td>9</td>\n",
       "      <td>...</td>\n",
       "      <td>1.939018</td>\n",
       "      <td>1.919915</td>\n",
       "      <td>1.833333</td>\n",
       "      <td>959.432440</td>\n",
       "      <td>833.283831</td>\n",
       "      <td>806.929796</td>\n",
       "      <td>2392.312978</td>\n",
       "      <td>2.578259</td>\n",
       "      <td>1.359712</td>\n",
       "      <td>3.937857</td>\n",
       "    </tr>\n",
       "    <tr>\n",
       "      <th>1608222</th>\n",
       "      <td>57</td>\n",
       "      <td>1540</td>\n",
       "      <td>33</td>\n",
       "      <td>1999.0</td>\n",
       "      <td>1.0</td>\n",
       "      <td>Assassin's Creed: Единство [PS4, русская версия]</td>\n",
       "      <td>20</td>\n",
       "      <td>Игры - PS4</td>\n",
       "      <td>Якутск Орджоникидзе, 56</td>\n",
       "      <td>9</td>\n",
       "      <td>...</td>\n",
       "      <td>1.939018</td>\n",
       "      <td>1.919915</td>\n",
       "      <td>1.833333</td>\n",
       "      <td>959.432440</td>\n",
       "      <td>833.283831</td>\n",
       "      <td>806.929796</td>\n",
       "      <td>2392.312978</td>\n",
       "      <td>2.578259</td>\n",
       "      <td>7.057199</td>\n",
       "      <td>3.937857</td>\n",
       "    </tr>\n",
       "    <tr>\n",
       "      <th>1608223</th>\n",
       "      <td>57</td>\n",
       "      <td>1539</td>\n",
       "      <td>33</td>\n",
       "      <td>1199.0</td>\n",
       "      <td>3.0</td>\n",
       "      <td>Assassin's Creed: Единство [PC, русская версия]</td>\n",
       "      <td>30</td>\n",
       "      <td>Игры PC - Стандартные издания</td>\n",
       "      <td>Якутск Орджоникидзе, 56</td>\n",
       "      <td>9</td>\n",
       "      <td>...</td>\n",
       "      <td>1.939018</td>\n",
       "      <td>1.919915</td>\n",
       "      <td>1.833333</td>\n",
       "      <td>959.432440</td>\n",
       "      <td>833.283831</td>\n",
       "      <td>806.929796</td>\n",
       "      <td>517.799098</td>\n",
       "      <td>2.578259</td>\n",
       "      <td>2.466326</td>\n",
       "      <td>2.643525</td>\n",
       "    </tr>\n",
       "    <tr>\n",
       "      <th>1608224</th>\n",
       "      <td>31</td>\n",
       "      <td>16450</td>\n",
       "      <td>33</td>\n",
       "      <td>169.0</td>\n",
       "      <td>1.0</td>\n",
       "      <td>ОБЛАЧНЫЙ АТЛАС</td>\n",
       "      <td>40</td>\n",
       "      <td>Кино - DVD</td>\n",
       "      <td>Москва ТЦ \"Семеновский\"</td>\n",
       "      <td>9</td>\n",
       "      <td>...</td>\n",
       "      <td>2.682759</td>\n",
       "      <td>2.271802</td>\n",
       "      <td>2.208756</td>\n",
       "      <td>1008.434959</td>\n",
       "      <td>866.729586</td>\n",
       "      <td>887.674964</td>\n",
       "      <td>209.489024</td>\n",
       "      <td>1.547242</td>\n",
       "      <td>1.255396</td>\n",
       "      <td>1.578073</td>\n",
       "    </tr>\n",
       "  </tbody>\n",
       "</table>\n",
       "<p>1608225 rows × 68 columns</p>\n",
       "</div>"
      ],
      "text/plain": [
       "         shop_id  item_id  date_block_num  avg_item_price  item_cnt_month  \\\n",
       "0              2      484               0           300.0             2.0   \n",
       "1             59    22151               0           399.0             2.0   \n",
       "2              2      482               0          3300.0             1.0   \n",
       "3             59    22154               0           999.0             1.0   \n",
       "4             35     2934               0           599.0             1.0   \n",
       "...          ...      ...             ...             ...             ...   \n",
       "1608220       31    16451              33           249.0             2.0   \n",
       "1608221       57     1545              33          5998.0             1.0   \n",
       "1608222       57     1540              33          1999.0             1.0   \n",
       "1608223       57     1539              33          1199.0             3.0   \n",
       "1608224       31    16450              33           169.0             1.0   \n",
       "\n",
       "                                                 item_name  item_category_id  \\\n",
       "0             1С:Бухгалтерия 8. Учебная версия. Издание 6.                73   \n",
       "1                                           ЯВЛЕНИЕ (2012)                40   \n",
       "2                         1С:Бухгалтерия 8. Базовая версия                73   \n",
       "3                                        ЯВЛЕНИЕ 2012 (BD)                37   \n",
       "4        Disney. Миссия Дарвина (Essentials) [PSP, русс...                21   \n",
       "...                                                    ...               ...   \n",
       "1608220                                ОБЛАЧНЫЙ АТЛАС (BD)                37   \n",
       "1608221  Assassin's Creed: Единство. Guillotine Edition...                20   \n",
       "1608222   Assassin's Creed: Единство [PS4, русская версия]                20   \n",
       "1608223    Assassin's Creed: Единство [PC, русская версия]                30   \n",
       "1608224                                     ОБЛАЧНЫЙ АТЛАС                40   \n",
       "\n",
       "                    item_category_name                    shop_name  month  \\\n",
       "0         Программы - 1С:Предприятие 8             Адыгея ТЦ \"Мега\"      0   \n",
       "1                           Кино - DVD       Ярославль ТЦ \"Альтаир\"      0   \n",
       "2         Программы - 1С:Предприятие 8             Адыгея ТЦ \"Мега\"      0   \n",
       "3                       Кино - Blu-Ray       Ярославль ТЦ \"Альтаир\"      0   \n",
       "4                           Игры - PSP  Н.Новгород ТРЦ \"Фантастика\"      0   \n",
       "...                                ...                          ...    ...   \n",
       "1608220                 Кино - Blu-Ray      Москва ТЦ \"Семеновский\"      9   \n",
       "1608221                     Игры - PS4      Якутск Орджоникидзе, 56      9   \n",
       "1608222                     Игры - PS4      Якутск Орджоникидзе, 56      9   \n",
       "1608223  Игры PC - Стандартные издания      Якутск Орджоникидзе, 56      9   \n",
       "1608224                     Кино - DVD      Москва ТЦ \"Семеновский\"      9   \n",
       "\n",
       "         ...  item_cnt_monthcity_lag_1 item_cnt_monthcity_lag_2  \\\n",
       "0        ...                       NaN                      NaN   \n",
       "1        ...                       NaN                      NaN   \n",
       "2        ...                       NaN                      NaN   \n",
       "3        ...                       NaN                      NaN   \n",
       "4        ...                       NaN                      NaN   \n",
       "...      ...                       ...                      ...   \n",
       "1608220  ...                  2.682759                 2.271802   \n",
       "1608221  ...                  1.939018                 1.919915   \n",
       "1608222  ...                  1.939018                 1.919915   \n",
       "1608223  ...                  1.939018                 1.919915   \n",
       "1608224  ...                  2.682759                 2.271802   \n",
       "\n",
       "        item_cnt_monthcity_lag_3  avg_item_pricecity_lag_1  \\\n",
       "0                            NaN                       NaN   \n",
       "1                            NaN                       NaN   \n",
       "2                            NaN                       NaN   \n",
       "3                            NaN                       NaN   \n",
       "4                            NaN                       NaN   \n",
       "...                          ...                       ...   \n",
       "1608220                 2.208756               1008.434959   \n",
       "1608221                 1.833333                959.432440   \n",
       "1608222                 1.833333                959.432440   \n",
       "1608223                 1.833333                959.432440   \n",
       "1608224                 2.208756               1008.434959   \n",
       "\n",
       "         avg_item_pricecity_lag_2  avg_item_pricecity_lag_3  \\\n",
       "0                             NaN                       NaN   \n",
       "1                             NaN                       NaN   \n",
       "2                             NaN                       NaN   \n",
       "3                             NaN                       NaN   \n",
       "4                             NaN                       NaN   \n",
       "...                           ...                       ...   \n",
       "1608220                866.729586                887.674964   \n",
       "1608221                833.283831                806.929796   \n",
       "1608222                833.283831                806.929796   \n",
       "1608223                833.283831                806.929796   \n",
       "1608224                866.729586                887.674964   \n",
       "\n",
       "         ema_avg_item_price_shop_id_item_category_name  \\\n",
       "0                                                  NaN   \n",
       "1                                                  NaN   \n",
       "2                                                  NaN   \n",
       "3                                                  NaN   \n",
       "4                                                  NaN   \n",
       "...                                                ...   \n",
       "1608220                                     397.864780   \n",
       "1608221                                    2392.312978   \n",
       "1608222                                    2392.312978   \n",
       "1608223                                     517.799098   \n",
       "1608224                                     209.489024   \n",
       "\n",
       "         ema_item_cnt_month_super_category  ema_item_cnt_month_item_id  \\\n",
       "0                                      NaN                         NaN   \n",
       "1                                      NaN                         NaN   \n",
       "2                                      NaN                         NaN   \n",
       "3                                      NaN                         NaN   \n",
       "4                                      NaN                         NaN   \n",
       "...                                    ...                         ...   \n",
       "1608220                           1.547242                         NaN   \n",
       "1608221                           2.578259                    1.359712   \n",
       "1608222                           2.578259                    7.057199   \n",
       "1608223                           2.578259                    2.466326   \n",
       "1608224                           1.547242                    1.255396   \n",
       "\n",
       "         ema_item_cnt_month_item_category_name  \n",
       "0                                          NaN  \n",
       "1                                          NaN  \n",
       "2                                          NaN  \n",
       "3                                          NaN  \n",
       "4                                          NaN  \n",
       "...                                        ...  \n",
       "1608220                               1.508495  \n",
       "1608221                               3.937857  \n",
       "1608222                               3.937857  \n",
       "1608223                               2.643525  \n",
       "1608224                               1.578073  \n",
       "\n",
       "[1608225 rows x 68 columns]"
      ]
     },
     "execution_count": 62,
     "metadata": {},
     "output_type": "execute_result"
    }
   ],
   "source": [
    "lagged"
   ]
  },
  {
   "cell_type": "code",
   "execution_count": 63,
   "id": "7f616d07-eb74-4a6d-b8e6-261c177f91b0",
   "metadata": {},
   "outputs": [],
   "source": [
    "import pandas as pd\n",
    "import numpy as np\n",
    "\n",
    "# Efficiently calculate the means for rows where date_block_num_diff <= 2 using groupby and cumulative statistics\n",
    "def calculate_medians_for_diff_leq_2(df):\n",
    "    # Create placeholders for the 5 columns of means\n",
    "    df['new_cat_shop_avg'] = np.nan\n",
    "    df['new_cat_city_avg'] = np.nan\n",
    "    df['new_cat_avg'] = np.nan\n",
    "    df['new_sup_cat_city_avg'] = np.nan\n",
    "    df['sup_cat_avg'] = np.nan\n",
    "\n",
    "    # Filter rows where date_block_num_diff <= 2\n",
    "    df_leq_2 = df[df['date_block_num_diff'] <= 2]\n",
    "\n",
    "    # Precompute groupings based on 'date_block_num'\n",
    "    for curr_block in df_leq_2['date_block_num'].unique():\n",
    "        # Consider all rows with date_block_num < curr_block\n",
    "        prev_blocks = df[df['date_block_num'] < curr_block]\n",
    "\n",
    "        # Group by the 5 criteria and calculate the means\n",
    "        cat_shop_avg = prev_blocks.groupby(['item_category_name', 'shop_id'])['item_cnt_month'].mean()\n",
    "        cat_city_avg = prev_blocks.groupby(['item_category_name', 'city'])['item_cnt_month'].mean()\n",
    "        cat_avg = prev_blocks.groupby('item_category_name')['item_cnt_month'].mean()\n",
    "        sup_cat_city_avg = prev_blocks.groupby(['super_category', 'city'])['item_cnt_month'].mean()\n",
    "        sup_cat_avg = prev_blocks.groupby('super_category')['item_cnt_month'].mean()\n",
    "\n",
    "        # Assign means back to the rows with current 'date_block_num'\n",
    "        mask = df['date_block_num'] == curr_block\n",
    "        df.loc[mask, 'new_cat_shop_avg'] = df[mask].set_index(['item_category_name', 'shop_id']).index.map(cat_shop_avg)\n",
    "        df.loc[mask, 'new_cat_city_avg'] = df[mask].set_index(['item_category_name', 'city']).index.map(cat_city_avg)\n",
    "        df.loc[mask, 'new_cat_avg'] = df[mask].set_index('item_category_name').index.map(cat_avg)\n",
    "        df.loc[mask, 'new_sup_cat_city_avg'] = df[mask].set_index(['super_category', 'city']).index.map(sup_cat_city_avg)\n",
    "        df.loc[mask, 'sup_cat_avg'] = df[mask].set_index('super_category').index.map(sup_cat_avg)\n",
    "\n",
    "    return df\n",
    "\n"
   ]
  },
  {
   "cell_type": "code",
   "execution_count": 64,
   "id": "c0e37270-6f8f-4bb0-a7b1-5fe0127ec9c5",
   "metadata": {},
   "outputs": [],
   "source": [
    "lagged = calculate_medians_for_diff_leq_2(lagged)"
   ]
  },
  {
   "cell_type": "code",
   "execution_count": 65,
   "id": "72c4b698-d385-4a8a-ac91-d21afb04ac37",
   "metadata": {},
   "outputs": [],
   "source": [
    "lagged.to_csv('lagged_final')"
   ]
  },
  {
   "cell_type": "code",
   "execution_count": 70,
   "id": "a91950ae-fce1-440b-98b8-0a758e88885e",
   "metadata": {},
   "outputs": [
    {
     "data": {
      "text/plain": [
       "np.int64(69612)"
      ]
     },
     "execution_count": 70,
     "metadata": {},
     "output_type": "execute_result"
    }
   ],
   "source": [
    "lagged['new_cat_shop_avg'].isna().sum()"
   ]
  },
  {
   "cell_type": "code",
   "execution_count": 66,
   "id": "57574f49-6db3-4b03-be64-0ce671f6c391",
   "metadata": {},
   "outputs": [],
   "source": [
    "a=0\n",
    "b=0\n",
    "c=0\n",
    "d=0\n",
    "e=0\n",
    "def make_prediction_median(medians):\n",
    "    new_cat_shop, new_cat_city, new_cat, new_sup_cat_city, sup_cat=medians\n",
    "    #print(new_cat_shop, new_cat_city, new_cat, new_sup_cat_city, sup_cat)\n",
    "    if new_cat_shop is not None and not np.isnan(new_cat_shop):\n",
    "        global a\n",
    "        a+=1\n",
    "        #print(new_cat_shop, new_cat_city, new_cat, new_sup_cat_city, sup_cat)\n",
    "        sales=new_cat_shop\n",
    "    elif new_cat_city is not None  and not np.isnan(new_cat_city):\n",
    "        global b\n",
    "        b+=1\n",
    "        sales = new_cat_city\n",
    "    elif new_cat is not None  and not np.isnan(new_cat):\n",
    "        global c\n",
    "        c+=1\n",
    "        sales = new_cat\n",
    "    elif new_sup_cat_city is not None and not np.isnan(new_sup_cat_city):\n",
    "        global d\n",
    "        d+=1\n",
    "        sales = new_sup_cat_city\n",
    "    elif sup_cat is not None  and not np.isnan(sup_cat):\n",
    "        global e\n",
    "        e+=1\n",
    "        sales = sup_cat\n",
    "    #print(sales)\n",
    "          \n",
    "    assert (not np.isnan(sales)) and (sales is not None)\n",
    "    return sales"
   ]
  },
  {
   "cell_type": "code",
   "execution_count": 67,
   "id": "112f8b80-17bf-4799-bad8-be575846685a",
   "metadata": {},
   "outputs": [],
   "source": [
    "def predict_EMA(row):\n",
    "        #skipped (shop_id,item_id)\n",
    "        #print(row)\n",
    "        if not np.isnan(row['ema_item_cnt_month_item_id']) and row['ema_item_cnt_month_item_id'] is not None:#predict on item_id\n",
    "            sales = row['ema_item_cnt_month_item_id']\n",
    "            \n",
    "        elif not np.isnan(row['ema_item_cnt_month_shop_id_item_category_name'])  and row['ema_item_cnt_month_shop_id_item_category_name'] is not None:   #predict on category, shop\n",
    "            sales = row['ema_item_cnt_month_shop_id_item_category_name']\n",
    "        elif not np.isnan(row['ema_item_cnt_month_item_category_name']):\n",
    "            #row['ema_item_cnt_month_item_category_name'] is not None:#predict on category\n",
    "            sales = row['ema_item_cnt_month_item_category_name']#may be nan\n",
    "        else:\n",
    "            sales = row['ema_item_cnt_month_super_category']\n",
    "            assert not np.isnan(sales) and sales is not None, row\n",
    "        \n",
    "        assert (not np.isnan(sales) )and (sales is not None)\n",
    "        return sales"
   ]
  },
  {
   "cell_type": "code",
   "execution_count": 81,
   "id": "2b4df60f-0901-4a43-8406-ff314bd06deb",
   "metadata": {},
   "outputs": [],
   "source": [
    "idx_range = [100000,200000]\n",
    "def manual_preds(data):\n",
    "    c1=0\n",
    "    c2=0\n",
    "    preds = []\n",
    "    data['date_block_num_diff'] = data['date_block_num'] - data['first_date_block_num']#per ID\n",
    "    data['cat_diff'] = data['date_block_num'] - data['first_cat_block_num']\n",
    "    data['super_cat_diff'] = data['date_block_num'] - data['first_sup_cat_block_num']\n",
    "    #print(data['super_cat_diff'])\n",
    "    global idx_range\n",
    "    for idx in range(first_index_block_3+idx_range[0],first_index_block_3+idx_range[1]):\n",
    "        #sales = None\n",
    "        row = data.iloc[idx]\n",
    "        prev = choose_previos_blocks(data,idx)\n",
    "\n",
    "        #HAVE info for last 3 monthe for item_id(independent from shop)\n",
    "        sales=predict_EMA(row)\n",
    "        preds.append(sales)\n",
    "        \"\"\"\n",
    "        if row['date_block_num_diff'] > 2:#can make preds based on EMA (it may be improved with city, super_category)\n",
    "            c1+=1\n",
    "            \n",
    "            sales=predict_EMA(row)#each here have ema by category\n",
    "        #NO info for last 3 monthes for item_id(independent from shop)\n",
    "        else:\n",
    "            c2+=1\n",
    "            #medians=calculate_median(row,prev)#may be precompute here\n",
    "            medians = row[['new_cat_shop_avg', 'new_cat_city_avg', 'new_cat_avg', 'new_sup_cat_city_avg', 'sup_cat_avg']]\n",
    "            sales = make_prediction_median(medians)\n",
    "            \n",
    "        assert   not np.isnan(sales) and sales is not None\n",
    "        preds.append(sales)\n",
    "        \"\"\"\n",
    "    print(c1,c2)\n",
    "    \n",
    "    return  preds\n",
    "    "
   ]
  },
  {
   "cell_type": "code",
   "execution_count": 82,
   "id": "ea04edc2-8b0f-4e0c-bf47-61ac2253130a",
   "metadata": {},
   "outputs": [],
   "source": [
    "#lagged = pd.read_csv('lagged_final')"
   ]
  },
  {
   "cell_type": "code",
   "execution_count": 83,
   "id": "0357e3b7-9141-47b7-94d2-d732705d52e9",
   "metadata": {
    "scrolled": true
   },
   "outputs": [
    {
     "name": "stdout",
     "output_type": "stream",
     "text": [
      "0 0\n"
     ]
    }
   ],
   "source": [
    "preds = manual_preds(lagged)"
   ]
  },
  {
   "cell_type": "code",
   "execution_count": null,
   "id": "60ea5d3f-4278-461f-81f5-15cabfe93320",
   "metadata": {},
   "outputs": [],
   "source": []
  },
  {
   "cell_type": "code",
   "execution_count": 84,
   "id": "04f16a77-cfdb-4096-8d7e-de74db89c588",
   "metadata": {},
   "outputs": [],
   "source": [
    "#lagged.iloc[241377]"
   ]
  },
  {
   "cell_type": "code",
   "execution_count": 85,
   "id": "5d61f601-28c5-4596-ba1d-af05a284c9d1",
   "metadata": {
    "scrolled": true
   },
   "outputs": [
    {
     "data": {
      "text/plain": [
       "np.int64(0)"
      ]
     },
     "execution_count": 85,
     "metadata": {},
     "output_type": "execute_result"
    }
   ],
   "source": [
    "np.isnan(np.array(preds)).sum()"
   ]
  },
  {
   "cell_type": "code",
   "execution_count": 86,
   "id": "ca9a1694-adf5-489e-a167-fec9394e6d74",
   "metadata": {},
   "outputs": [
    {
     "data": {
      "text/plain": [
       "np.int64(0)"
      ]
     },
     "execution_count": 86,
     "metadata": {},
     "output_type": "execute_result"
    }
   ],
   "source": [
    "sum(np.array(preds) == 0)"
   ]
  },
  {
   "cell_type": "code",
   "execution_count": 87,
   "id": "cc4a7e9a-d135-41f2-86bc-3a3601ff3a23",
   "metadata": {},
   "outputs": [],
   "source": [
    "#df.iloc[first_index_block_3+7284]"
   ]
  },
  {
   "cell_type": "code",
   "execution_count": 88,
   "id": "efd3baae-4af4-4697-b1d8-f571a596ba32",
   "metadata": {},
   "outputs": [],
   "source": [
    "sales_pred_true = pd.DataFrame({ 'pred':preds, 'true':df[first_index_block_3+idx_range[0]:first_index_block_3+idx_range[1]] ['item_cnt_month']})"
   ]
  },
  {
   "cell_type": "code",
   "execution_count": 89,
   "id": "379f7de8-83ee-4f88-8cbd-f53ff1342ab9",
   "metadata": {},
   "outputs": [
    {
     "name": "stdout",
     "output_type": "stream",
     "text": [
      "310959   -693.272849\n",
      "346469   -690.272849\n",
      "360063   -640.857457\n",
      "319797   -628.272849\n",
      "326747   -561.272849\n",
      "             ...    \n",
      "366808    113.142543\n",
      "365784    120.142543\n",
      "380927    135.142543\n",
      "360250    141.142543\n",
      "378538    152.142543\n",
      "Length: 100000, dtype: float64\n"
     ]
    }
   ],
   "source": [
    "sales_preds = (sales_pred_true['pred'] - sales_pred_true['true'] ).sort_values()\n",
    "print(sales_preds)"
   ]
  },
  {
   "cell_type": "code",
   "execution_count": null,
   "id": "ddb08ec4-664f-4ba1-946e-b9da77b6cdd6",
   "metadata": {},
   "outputs": [],
   "source": []
  },
  {
   "cell_type": "code",
   "execution_count": 90,
   "id": "4fb81f0d-bd9f-460f-9192-ec6045e1aa15",
   "metadata": {},
   "outputs": [],
   "source": [
    "from sklearn.metrics import mean_squared_error"
   ]
  },
  {
   "cell_type": "code",
   "execution_count": 91,
   "id": "e09c390e-d92c-43d8-bbaf-90f2487483e5",
   "metadata": {},
   "outputs": [
    {
     "name": "stdout",
     "output_type": "stream",
     "text": [
      "count    100000.000000\n",
      "mean         -0.050855\n",
      "std           6.970533\n",
      "min        -693.272849\n",
      "25%           0.000000\n",
      "50%           0.144565\n",
      "75%           0.509510\n",
      "max         152.142543\n",
      "dtype: float64\n",
      "rmse simple mode().mean() 4.6178528006138375\n"
     ]
    },
    {
     "data": {
      "image/png": "[encoded data removed]",
      "text/plain": [
       "<Figure size 640x480 with 1 Axes>"
      ]
     },
     "metadata": {},
     "output_type": "display_data"
    }
   ],
   "source": [
    "print((sales_pred_true['pred'] - sales_pred_true['true']).describe())\n",
    "sns.histplot(sales_pred_true['pred'] - sales_pred_true['true'], binrange=[-10,10], bins=100)\n",
    "print('rmse simple mode().mean()',mean_squared_error(np.clip(sales_pred_true['true'],0,20),np.clip(sales_pred_true['pred'],0,20)))"
   ]
  },
  {
   "cell_type": "code",
   "execution_count": 467,
   "id": "39367284-2e61-497a-b981-20bd55da6c71",
   "metadata": {},
   "outputs": [
    {
     "data": {
      "text/plain": [
       "287948    19.780350\n",
       "291167    16.026696\n",
       "291601    26.643064\n",
       "292486    26.643064\n",
       "293471    26.643064\n",
       "            ...    \n",
       "385735    23.321684\n",
       "385977    16.774733\n",
       "386006    16.774733\n",
       "386172    23.321684\n",
       "386983    23.321684\n",
       "Name: pred, Length: 193, dtype: float64"
      ]
     },
     "execution_count": 467,
     "metadata": {},
     "output_type": "execute_result"
    }
   ],
   "source": [
    "sales_pred_true['pred'] [(sales_pred_true['pred'] - sales_pred_true['true']) >15]"
   ]
  },
  {
   "cell_type": "code",
   "execution_count": 468,
   "id": "27117095-0d36-44f2-adfc-7aa0ddc8929c",
   "metadata": {},
   "outputs": [
    {
     "data": {
      "text/plain": [
       "shop_id                         31\n",
       "item_id                      21376\n",
       "date_block_num                   3\n",
       "avg_item_price          398.146078\n",
       "item_cnt_month               175.0\n",
       "                           ...    \n",
       "new_cat_shop_avg          3.082817\n",
       "new_cat_city_avg          2.338634\n",
       "new_cat_avg               1.962594\n",
       "new_sup_cat_city_avg      2.167951\n",
       "sup_cat_avg               1.837896\n",
       "Name: 187940, Length: 81, dtype: object"
      ]
     },
     "execution_count": 468,
     "metadata": {},
     "output_type": "execute_result"
    }
   ],
   "source": [
    "lagged.iloc[187940]"
   ]
  },
  {
   "cell_type": "code",
   "execution_count": 469,
   "id": "9f05fd84-94df-4d3a-affb-17811303245b",
   "metadata": {},
   "outputs": [
    {
     "data": {
      "text/plain": [
       "pred    1.114286\n",
       "true    1.000000\n",
       "Name: 287940, dtype: float64"
      ]
     },
     "execution_count": 469,
     "metadata": {},
     "output_type": "execute_result"
    }
   ],
   "source": [
    "sales_pred_true.iloc[187940- first_index_block_3]"
   ]
  },
  {
   "cell_type": "code",
   "execution_count": 470,
   "id": "c0f2af6d-556c-4426-b336-e280f5cbd470",
   "metadata": {},
   "outputs": [
    {
     "data": {
      "text/plain": [
       "count    51729.000000\n",
       "mean         1.962594\n",
       "std          4.095558\n",
       "min          1.000000\n",
       "25%          1.000000\n",
       "50%          1.000000\n",
       "75%          2.000000\n",
       "max        169.000000\n",
       "Name: item_cnt_month, dtype: float64"
      ]
     },
     "execution_count": 470,
     "metadata": {},
     "output_type": "execute_result"
    }
   ],
   "source": [
    "lagged[ (lagged['item_category_name'] == 'Кино - DVD') & (lagged['date_block_num'].isin ([0,1,2]) ) ]['item_cnt_month'].describe()"
   ]
  },
  {
   "cell_type": "code",
   "execution_count": 239,
   "id": "2a65d806-0433-4b1a-ba9f-9d2c45158ec1",
   "metadata": {},
   "outputs": [],
   "source": [
    "import matplotlib.pyplot as plt"
   ]
  },
  {
   "cell_type": "code",
   "execution_count": 240,
   "id": "99e60820-5403-421f-94fc-d81cc15dd837",
   "metadata": {},
   "outputs": [
    {
     "data": {
      "text/plain": [
       "<matplotlib.lines.Line2D at 0x74d96a72ed80>"
      ]
     },
     "execution_count": 240,
     "metadata": {},
     "output_type": "execute_result"
    },
    {
     "data": {
      "image/png": "[encoded data removed]",
      "text/plain": [
       "<Figure size 640x480 with 1 Axes>"
      ]
     },
     "metadata": {},
     "output_type": "display_data"
    }
   ],
   "source": [
    "f=lagged[lagged['item_id']== 21376][['item_cnt_month','date_block_num']].groupby('date_block_num').agg({'item_cnt_month':'mean'}).reset_index()\n",
    "plt.plot(f['date_block_num'], f['item_cnt_month'])\n",
    "plt.axvline(x = 11, color = 'b', label = 'axvline - full height')\n",
    "plt.axvline(x = 23, color = 'b', label = 'axvline - full height')"
   ]
  },
  {
   "cell_type": "code",
   "execution_count": 197,
   "id": "9a502730-8ae0-4976-96f8-bd787103e999",
   "metadata": {},
   "outputs": [
    {
     "data": {
      "text/plain": [
       "pred    20.1706\n",
       "true     1.0000\n",
       "Name: 190391, dtype: float64"
      ]
     },
     "execution_count": 197,
     "metadata": {},
     "output_type": "execute_result"
    }
   ],
   "source": [
    "sales_pred_true.iloc[190391 - first_index_block_3]"
   ]
  },
  {
   "cell_type": "code",
   "execution_count": 101,
   "id": "bea7d159-1ad2-4d8d-b3be-5be00035f16c",
   "metadata": {},
   "outputs": [
    {
     "data": {
      "text/plain": [
       "<Axes: ylabel='item_cnt_month'>"
      ]
     },
     "execution_count": 101,
     "metadata": {},
     "output_type": "execute_result"
    },
    {
     "data": {
      "image/png": "[encoded data removed]",
      "text/plain": [
       "<Figure size 640x480 with 1 Axes>"
      ]
     },
     "metadata": {},
     "output_type": "display_data"
    }
   ],
   "source": [
    "sns.boxplot(df[df['item_id']==\t6738]['item_cnt_month'])"
   ]
  },
  {
   "cell_type": "code",
   "execution_count": null,
   "id": "ca0a7ead-4ccd-4d4a-bfc1-bd61e4162e2f",
   "metadata": {},
   "outputs": [],
   "source": [
    "df = merged[merged['item_id']==22045].sort_values(by='date_block_num')[['date_block_num','item_cnt_month']]"
   ]
  },
  {
   "cell_type": "code",
   "execution_count": null,
   "id": "5a913671-9407-4ede-b667-28074318f058",
   "metadata": {},
   "outputs": [],
   "source": [
    "a=df.groupby('date_block_num').agg({'item_cnt_month':'mean'}).reset_index()\n",
    "plt.plot(a['date_block_num'],a['item_cnt_month'])"
   ]
  },
  {
   "cell_type": "code",
   "execution_count": null,
   "id": "158605e7-fed7-472d-8ca4-8c39d7acb7b0",
   "metadata": {},
   "outputs": [],
   "source": [
    "df = merged[merged['item_id']==2244].sort_values(by='date_block_num')[['date_block_num','item_cnt_month']]"
   ]
  },
  {
   "cell_type": "code",
   "execution_count": null,
   "id": "3d681219-fac7-4b2f-9186-2acd3cb1e897",
   "metadata": {},
   "outputs": [],
   "source": [
    "a=df.groupby('date_block_num').agg({'item_cnt_month':'mean'}).reset_index()\n",
    "plt.plot(a['date_block_num'],a['item_cnt_month'])"
   ]
  },
  {
   "cell_type": "code",
   "execution_count": null,
   "id": "0a8f34c9-325d-4dd3-a006-4483fd804e74",
   "metadata": {},
   "outputs": [],
   "source": [
    "#big errors when item entered data (both for first prediction and few next monthes)\n",
    "#may be a good idea to delete first 1-3 monthes"
   ]
  },
  {
   "cell_type": "code",
   "execution_count": null,
   "id": "e5eb5cb2-6f57-405d-a0be-7b70b27f5996",
   "metadata": {},
   "outputs": [],
   "source": []
  },
  {
   "cell_type": "code",
   "execution_count": 1,
   "id": "5dc5fd5e-198d-4d92-b03f-c4efc5bb8b53",
   "metadata": {},
   "outputs": [
    {
     "ename": "SyntaxError",
     "evalue": "invalid syntax (398585007.py, line 5)",
     "output_type": "error",
     "traceback": [
      "\u001b[0;36m  Cell \u001b[0;32mIn[1], line 5\u001b[0;36m\u001b[0m\n\u001b[0;31m    rmse 6.0037769534512515\u001b[0m\n\u001b[0m         ^\u001b[0m\n\u001b[0;31mSyntaxError\u001b[0m\u001b[0;31m:\u001b[0m invalid syntax\n"
     ]
    }
   ],
   "source": [
    "\n",
    "preds=manual_preds(lagged, alpha1=0.7, alpha2=1)\n",
    "rmse: 4.353414981785467\n",
    "\n",
    "#preds=manual_preds(lagged, alpha1=1, alpha2=1)\n",
    "#rmse 6.0037769534512515\n",
    "\n",
    "predict with EMA only (without medinas)\n",
    "rmse 4.6178528006138375\n",
    "\n",
    "consider only date_block_num>=3, else too much items appeared first"
   ]
  },
  {
   "cell_type": "code",
   "execution_count": null,
   "id": "2978f913-8eb4-45b2-b2b1-d1ab36d9870f",
   "metadata": {},
   "outputs": [],
   "source": []
  }
 ],
 "metadata": {
  "kernelspec": {
   "display_name": "Python 3 (ipykernel)",
   "language": "python",
   "name": "python3"
  },
  "language_info": {
   "codemirror_mode": {
    "name": "ipython",
    "version": 3
   },
   "file_extension": ".py",
   "mimetype": "text/x-python",
   "name": "python",
   "nbconvert_exporter": "python",
   "pygments_lexer": "ipython3",
   "version": "3.12.3"
  }
 },
 "nbformat": 4,
 "nbformat_minor": 5
}
