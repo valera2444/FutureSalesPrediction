{
 "cells": [
  {
   "cell_type": "code",
   "execution_count": 1,
   "id": "b9e9d212-ac1c-456a-a6ba-4a994f365279",
   "metadata": {},
   "outputs": [],
   "source": [
    "import pandas as pd\n",
    "import matplotlib.pyplot as plt\n",
    "import numpy as np\n",
    "import seaborn as sns"
   ]
  },
  {
   "cell_type": "code",
   "execution_count": 2,
   "id": "0222c3ea-11fa-4434-b899-31a49e012507",
   "metadata": {},
   "outputs": [],
   "source": [
    "data_train = pd.read_csv('../data_cleaned/data_train.csv')\n",
    "item_categories = pd.read_csv('../data_cleaned/item_categories.csv')\n",
    "items = pd.read_csv('../data_cleaned/items.csv')\n",
    "shops = pd.read_csv('../data_cleaned/shops.csv')"
   ]
  },
  {
   "cell_type": "code",
   "execution_count": 3,
   "id": "c7031611-d14f-438c-94a9-a24289827ffe",
   "metadata": {},
   "outputs": [],
   "source": [
    "merged = data_train.merge(items, how='left').merge(item_categories, how='left').merge(shops, how='left')"
   ]
  },
  {
   "cell_type": "code",
   "execution_count": 4,
   "id": "a4cf844d-c9eb-4cf0-bb1b-b4c8807ac2d1",
   "metadata": {},
   "outputs": [
    {
     "data": {
      "text/html": [
       "<div>\n",
       "<style scoped>\n",
       "    .dataframe tbody tr th:only-of-type {\n",
       "        vertical-align: middle;\n",
       "    }\n",
       "\n",
       "    .dataframe tbody tr th {\n",
       "        vertical-align: top;\n",
       "    }\n",
       "\n",
       "    .dataframe thead th {\n",
       "        text-align: right;\n",
       "    }\n",
       "</style>\n",
       "<table border=\"1\" class=\"dataframe\">\n",
       "  <thead>\n",
       "    <tr style=\"text-align: right;\">\n",
       "      <th></th>\n",
       "      <th>date</th>\n",
       "      <th>date_block_num</th>\n",
       "      <th>shop_id</th>\n",
       "      <th>item_id</th>\n",
       "      <th>item_price</th>\n",
       "      <th>item_cnt_day</th>\n",
       "      <th>item_name</th>\n",
       "      <th>item_category_id</th>\n",
       "      <th>item_category_name</th>\n",
       "      <th>shop_name</th>\n",
       "    </tr>\n",
       "  </thead>\n",
       "  <tbody>\n",
       "    <tr>\n",
       "      <th>0</th>\n",
       "      <td>02.01.2013</td>\n",
       "      <td>0</td>\n",
       "      <td>59</td>\n",
       "      <td>22154</td>\n",
       "      <td>999.00</td>\n",
       "      <td>1.0</td>\n",
       "      <td>ЯВЛЕНИЕ 2012 (BD)</td>\n",
       "      <td>37</td>\n",
       "      <td>Кино - Blu-Ray</td>\n",
       "      <td>Ярославль ТЦ \"Альтаир\"</td>\n",
       "    </tr>\n",
       "    <tr>\n",
       "      <th>1</th>\n",
       "      <td>03.01.2013</td>\n",
       "      <td>0</td>\n",
       "      <td>25</td>\n",
       "      <td>2552</td>\n",
       "      <td>899.00</td>\n",
       "      <td>1.0</td>\n",
       "      <td>DEEP PURPLE  The House Of Blue Light  LP</td>\n",
       "      <td>58</td>\n",
       "      <td>Музыка - Винил</td>\n",
       "      <td>Москва ТРК \"Атриум\"</td>\n",
       "    </tr>\n",
       "    <tr>\n",
       "      <th>2</th>\n",
       "      <td>06.01.2013</td>\n",
       "      <td>0</td>\n",
       "      <td>25</td>\n",
       "      <td>2554</td>\n",
       "      <td>1709.05</td>\n",
       "      <td>1.0</td>\n",
       "      <td>DEEP PURPLE  Who Do You Think We Are  LP</td>\n",
       "      <td>58</td>\n",
       "      <td>Музыка - Винил</td>\n",
       "      <td>Москва ТРК \"Атриум\"</td>\n",
       "    </tr>\n",
       "    <tr>\n",
       "      <th>3</th>\n",
       "      <td>15.01.2013</td>\n",
       "      <td>0</td>\n",
       "      <td>25</td>\n",
       "      <td>2555</td>\n",
       "      <td>1099.00</td>\n",
       "      <td>1.0</td>\n",
       "      <td>DEEP PURPLE 30 Very Best Of 2CD (Фирм.)</td>\n",
       "      <td>56</td>\n",
       "      <td>Музыка - CD фирменного производства</td>\n",
       "      <td>Москва ТРК \"Атриум\"</td>\n",
       "    </tr>\n",
       "    <tr>\n",
       "      <th>4</th>\n",
       "      <td>10.01.2013</td>\n",
       "      <td>0</td>\n",
       "      <td>25</td>\n",
       "      <td>2564</td>\n",
       "      <td>349.00</td>\n",
       "      <td>1.0</td>\n",
       "      <td>DEEP PURPLE Perihelion: Live In Concert DVD (К...</td>\n",
       "      <td>59</td>\n",
       "      <td>Музыка - Музыкальное видео</td>\n",
       "      <td>Москва ТРК \"Атриум\"</td>\n",
       "    </tr>\n",
       "    <tr>\n",
       "      <th>...</th>\n",
       "      <td>...</td>\n",
       "      <td>...</td>\n",
       "      <td>...</td>\n",
       "      <td>...</td>\n",
       "      <td>...</td>\n",
       "      <td>...</td>\n",
       "      <td>...</td>\n",
       "      <td>...</td>\n",
       "      <td>...</td>\n",
       "      <td>...</td>\n",
       "    </tr>\n",
       "    <tr>\n",
       "      <th>2928480</th>\n",
       "      <td>10.10.2015</td>\n",
       "      <td>33</td>\n",
       "      <td>25</td>\n",
       "      <td>7409</td>\n",
       "      <td>299.00</td>\n",
       "      <td>1.0</td>\n",
       "      <td>V/A Nu Jazz Selection (digipack)</td>\n",
       "      <td>55</td>\n",
       "      <td>Музыка - CD локального производства</td>\n",
       "      <td>Москва ТРК \"Атриум\"</td>\n",
       "    </tr>\n",
       "    <tr>\n",
       "      <th>2928481</th>\n",
       "      <td>09.10.2015</td>\n",
       "      <td>33</td>\n",
       "      <td>25</td>\n",
       "      <td>7460</td>\n",
       "      <td>299.00</td>\n",
       "      <td>1.0</td>\n",
       "      <td>V/A The Golden Jazz Collection  1  2CD</td>\n",
       "      <td>55</td>\n",
       "      <td>Музыка - CD локального производства</td>\n",
       "      <td>Москва ТРК \"Атриум\"</td>\n",
       "    </tr>\n",
       "    <tr>\n",
       "      <th>2928482</th>\n",
       "      <td>14.10.2015</td>\n",
       "      <td>33</td>\n",
       "      <td>25</td>\n",
       "      <td>7459</td>\n",
       "      <td>349.00</td>\n",
       "      <td>1.0</td>\n",
       "      <td>V/A The Best Of The 3 Tenors</td>\n",
       "      <td>55</td>\n",
       "      <td>Музыка - CD локального производства</td>\n",
       "      <td>Москва ТРК \"Атриум\"</td>\n",
       "    </tr>\n",
       "    <tr>\n",
       "      <th>2928483</th>\n",
       "      <td>22.10.2015</td>\n",
       "      <td>33</td>\n",
       "      <td>25</td>\n",
       "      <td>7440</td>\n",
       "      <td>299.00</td>\n",
       "      <td>1.0</td>\n",
       "      <td>V/A Relax Collection  Planet MP3 (mp3-CD) (jewel)</td>\n",
       "      <td>57</td>\n",
       "      <td>Музыка - MP3</td>\n",
       "      <td>Москва ТРК \"Атриум\"</td>\n",
       "    </tr>\n",
       "    <tr>\n",
       "      <th>2928484</th>\n",
       "      <td>03.10.2015</td>\n",
       "      <td>33</td>\n",
       "      <td>25</td>\n",
       "      <td>7460</td>\n",
       "      <td>299.00</td>\n",
       "      <td>1.0</td>\n",
       "      <td>V/A The Golden Jazz Collection  1  2CD</td>\n",
       "      <td>55</td>\n",
       "      <td>Музыка - CD локального производства</td>\n",
       "      <td>Москва ТРК \"Атриум\"</td>\n",
       "    </tr>\n",
       "  </tbody>\n",
       "</table>\n",
       "<p>2928485 rows × 10 columns</p>\n",
       "</div>"
      ],
      "text/plain": [
       "               date  date_block_num  shop_id  item_id  item_price  \\\n",
       "0        02.01.2013               0       59    22154      999.00   \n",
       "1        03.01.2013               0       25     2552      899.00   \n",
       "2        06.01.2013               0       25     2554     1709.05   \n",
       "3        15.01.2013               0       25     2555     1099.00   \n",
       "4        10.01.2013               0       25     2564      349.00   \n",
       "...             ...             ...      ...      ...         ...   \n",
       "2928480  10.10.2015              33       25     7409      299.00   \n",
       "2928481  09.10.2015              33       25     7460      299.00   \n",
       "2928482  14.10.2015              33       25     7459      349.00   \n",
       "2928483  22.10.2015              33       25     7440      299.00   \n",
       "2928484  03.10.2015              33       25     7460      299.00   \n",
       "\n",
       "         item_cnt_day                                          item_name  \\\n",
       "0                 1.0                                  ЯВЛЕНИЕ 2012 (BD)   \n",
       "1                 1.0           DEEP PURPLE  The House Of Blue Light  LP   \n",
       "2                 1.0           DEEP PURPLE  Who Do You Think We Are  LP   \n",
       "3                 1.0            DEEP PURPLE 30 Very Best Of 2CD (Фирм.)   \n",
       "4                 1.0  DEEP PURPLE Perihelion: Live In Concert DVD (К...   \n",
       "...               ...                                                ...   \n",
       "2928480           1.0                   V/A Nu Jazz Selection (digipack)   \n",
       "2928481           1.0             V/A The Golden Jazz Collection  1  2CD   \n",
       "2928482           1.0                       V/A The Best Of The 3 Tenors   \n",
       "2928483           1.0  V/A Relax Collection  Planet MP3 (mp3-CD) (jewel)   \n",
       "2928484           1.0             V/A The Golden Jazz Collection  1  2CD   \n",
       "\n",
       "         item_category_id                   item_category_name  \\\n",
       "0                      37                       Кино - Blu-Ray   \n",
       "1                      58                       Музыка - Винил   \n",
       "2                      58                       Музыка - Винил   \n",
       "3                      56  Музыка - CD фирменного производства   \n",
       "4                      59           Музыка - Музыкальное видео   \n",
       "...                   ...                                  ...   \n",
       "2928480                55  Музыка - CD локального производства   \n",
       "2928481                55  Музыка - CD локального производства   \n",
       "2928482                55  Музыка - CD локального производства   \n",
       "2928483                57                         Музыка - MP3   \n",
       "2928484                55  Музыка - CD локального производства   \n",
       "\n",
       "                      shop_name  \n",
       "0        Ярославль ТЦ \"Альтаир\"  \n",
       "1           Москва ТРК \"Атриум\"  \n",
       "2           Москва ТРК \"Атриум\"  \n",
       "3           Москва ТРК \"Атриум\"  \n",
       "4           Москва ТРК \"Атриум\"  \n",
       "...                         ...  \n",
       "2928480     Москва ТРК \"Атриум\"  \n",
       "2928481     Москва ТРК \"Атриум\"  \n",
       "2928482     Москва ТРК \"Атриум\"  \n",
       "2928483     Москва ТРК \"Атриум\"  \n",
       "2928484     Москва ТРК \"Атриум\"  \n",
       "\n",
       "[2928485 rows x 10 columns]"
      ]
     },
     "execution_count": 4,
     "metadata": {},
     "output_type": "execute_result"
    }
   ],
   "source": [
    "merged"
   ]
  },
  {
   "cell_type": "code",
   "execution_count": 5,
   "id": "cfadfd86-36f5-4492-ac4c-e8f3410cd830",
   "metadata": {},
   "outputs": [],
   "source": [
    "dates = pd.to_datetime(merged['date'], format='%d.%m.%Y')\n"
   ]
  },
  {
   "cell_type": "code",
   "execution_count": 6,
   "id": "593e8e6c-c879-4054-a893-bdc704f6ac20",
   "metadata": {},
   "outputs": [],
   "source": [
    "merged['month'] = dates.apply(lambda x:x.month)"
   ]
  },
  {
   "cell_type": "code",
   "execution_count": 7,
   "id": "df28be53-21af-4f89-a415-47d6dc093a04",
   "metadata": {
    "scrolled": true
   },
   "outputs": [
    {
     "data": {
      "text/html": [
       "<div>\n",
       "<style scoped>\n",
       "    .dataframe tbody tr th:only-of-type {\n",
       "        vertical-align: middle;\n",
       "    }\n",
       "\n",
       "    .dataframe tbody tr th {\n",
       "        vertical-align: top;\n",
       "    }\n",
       "\n",
       "    .dataframe thead th {\n",
       "        text-align: right;\n",
       "    }\n",
       "</style>\n",
       "<table border=\"1\" class=\"dataframe\">\n",
       "  <thead>\n",
       "    <tr style=\"text-align: right;\">\n",
       "      <th></th>\n",
       "      <th></th>\n",
       "      <th></th>\n",
       "      <th>item_price</th>\n",
       "      <th>item_cnt_day</th>\n",
       "    </tr>\n",
       "    <tr>\n",
       "      <th>item_name</th>\n",
       "      <th>shop_name</th>\n",
       "      <th>date_block_num</th>\n",
       "      <th></th>\n",
       "      <th></th>\n",
       "    </tr>\n",
       "  </thead>\n",
       "  <tbody>\n",
       "    <tr>\n",
       "      <th>! ВО ВЛАСТИ НАВАЖДЕНИЯ (ПЛАСТ.)         D</th>\n",
       "      <th>Химки ТЦ \"Мега\"</th>\n",
       "      <th>20</th>\n",
       "      <td>58.0</td>\n",
       "      <td>1.0</td>\n",
       "    </tr>\n",
       "    <tr>\n",
       "      <th rowspan=\"4\" valign=\"top\">!ABBYY FineReader 12 Professional Edition Full [PC, Цифровая версия]</th>\n",
       "      <th rowspan=\"4\" valign=\"top\">Цифровой склад 1С-Онлайн</th>\n",
       "      <th>15</th>\n",
       "      <td>4490.0</td>\n",
       "      <td>1.0</td>\n",
       "    </tr>\n",
       "    <tr>\n",
       "      <th>18</th>\n",
       "      <td>4490.0</td>\n",
       "      <td>1.0</td>\n",
       "    </tr>\n",
       "    <tr>\n",
       "      <th>19</th>\n",
       "      <td>4490.0</td>\n",
       "      <td>1.0</td>\n",
       "    </tr>\n",
       "    <tr>\n",
       "      <th>20</th>\n",
       "      <td>4490.0</td>\n",
       "      <td>1.0</td>\n",
       "    </tr>\n",
       "    <tr>\n",
       "      <th>...</th>\n",
       "      <th>...</th>\n",
       "      <th>...</th>\n",
       "      <td>...</td>\n",
       "      <td>...</td>\n",
       "    </tr>\n",
       "    <tr>\n",
       "      <th rowspan=\"4\" valign=\"top\">Яйцо для Little Inu</th>\n",
       "      <th>Интернет-магазин ЧС</th>\n",
       "      <th>8</th>\n",
       "      <td>799.0</td>\n",
       "      <td>1.0</td>\n",
       "    </tr>\n",
       "    <tr>\n",
       "      <th>Коломна ТЦ \"Рио\"</th>\n",
       "      <th>1</th>\n",
       "      <td>799.0</td>\n",
       "      <td>1.0</td>\n",
       "    </tr>\n",
       "    <tr>\n",
       "      <th>СПб ТК \"Невский Центр\"</th>\n",
       "      <th>1</th>\n",
       "      <td>799.0</td>\n",
       "      <td>1.0</td>\n",
       "    </tr>\n",
       "    <tr>\n",
       "      <th>СПб ТК \"Сенная\"</th>\n",
       "      <th>2</th>\n",
       "      <td>798.5</td>\n",
       "      <td>1.0</td>\n",
       "    </tr>\n",
       "    <tr>\n",
       "      <th>Яйцо дракона (Игра престолов)</th>\n",
       "      <th>Москва ТРК \"Атриум\"</th>\n",
       "      <th>14</th>\n",
       "      <td>4349.0</td>\n",
       "      <td>1.0</td>\n",
       "    </tr>\n",
       "  </tbody>\n",
       "</table>\n",
       "<p>1608225 rows × 2 columns</p>\n",
       "</div>"
      ],
      "text/plain": [
       "                                                                                            item_price  \\\n",
       "item_name                                          shop_name                date_block_num               \n",
       "! ВО ВЛАСТИ НАВАЖДЕНИЯ (ПЛАСТ.)         D          Химки ТЦ \"Мега\"          20                    58.0   \n",
       "!ABBYY FineReader 12 Professional Edition Full ... Цифровой склад 1С-Онлайн 15                  4490.0   \n",
       "                                                                            18                  4490.0   \n",
       "                                                                            19                  4490.0   \n",
       "                                                                            20                  4490.0   \n",
       "...                                                                                                ...   \n",
       "Яйцо для Little Inu                                Интернет-магазин ЧС      8                    799.0   \n",
       "                                                   Коломна ТЦ \"Рио\"         1                    799.0   \n",
       "                                                   СПб ТК \"Невский Центр\"   1                    799.0   \n",
       "                                                   СПб ТК \"Сенная\"          2                    798.5   \n",
       "Яйцо дракона (Игра престолов)                      Москва ТРК \"Атриум\"      14                  4349.0   \n",
       "\n",
       "                                                                                            item_cnt_day  \n",
       "item_name                                          shop_name                date_block_num                \n",
       "! ВО ВЛАСТИ НАВАЖДЕНИЯ (ПЛАСТ.)         D          Химки ТЦ \"Мега\"          20                       1.0  \n",
       "!ABBYY FineReader 12 Professional Edition Full ... Цифровой склад 1С-Онлайн 15                       1.0  \n",
       "                                                                            18                       1.0  \n",
       "                                                                            19                       1.0  \n",
       "                                                                            20                       1.0  \n",
       "...                                                                                                  ...  \n",
       "Яйцо для Little Inu                                Интернет-магазин ЧС      8                        1.0  \n",
       "                                                   Коломна ТЦ \"Рио\"         1                        1.0  \n",
       "                                                   СПб ТК \"Невский Центр\"   1                        1.0  \n",
       "                                                   СПб ТК \"Сенная\"          2                        1.0  \n",
       "Яйцо дракона (Игра престолов)                      Москва ТРК \"Атриум\"      14                       1.0  \n",
       "\n",
       "[1608225 rows x 2 columns]"
      ]
     },
     "execution_count": 7,
     "metadata": {},
     "output_type": "execute_result"
    }
   ],
   "source": [
    "merged[['item_name','shop_name','date_block_num','item_price','item_cnt_day']].groupby(['item_name','shop_name','date_block_num']).mean()"
   ]
  },
  {
   "cell_type": "code",
   "execution_count": 8,
   "id": "95ba2d09-18a8-458b-bdee-71533f8ae917",
   "metadata": {},
   "outputs": [
    {
     "data": {
      "text/plain": [
       "0          1\n",
       "1          1\n",
       "2          1\n",
       "3          1\n",
       "4          1\n",
       "          ..\n",
       "1608220    2\n",
       "1608221    1\n",
       "1608222    1\n",
       "1608223    2\n",
       "1608224    1\n",
       "Name: 0, Length: 1608225, dtype: int64"
      ]
     },
     "execution_count": 8,
     "metadata": {},
     "output_type": "execute_result"
    }
   ],
   "source": [
    "df=merged.groupby(['shop_id','item_id','date_block_num']).size().reset_index()[0]\n",
    "df"
   ]
  },
  {
   "cell_type": "code",
   "execution_count": 9,
   "id": "6eaa5724-069c-485d-b7bd-2504219f723e",
   "metadata": {
    "scrolled": true
   },
   "outputs": [
    {
     "data": {
      "text/plain": [
       "<Axes: >"
      ]
     },
     "execution_count": 9,
     "metadata": {},
     "output_type": "execute_result"
    },
    {
     "data": {
      "image/png": "[encoded data removed]",
      "text/plain": [
       "<Figure size 640x480 with 1 Axes>"
      ]
     },
     "metadata": {},
     "output_type": "display_data"
    }
   ],
   "source": [
    "df.hist(bins=100)# - most of products in one shop sold in only one month hist(bins=100)"
   ]
  },
  {
   "cell_type": "code",
   "execution_count": 10,
   "id": "ab87be00-ef79-49d0-8a10-9c5404257b52",
   "metadata": {},
   "outputs": [
    {
     "data": {
      "image/png": "[encoded data removed]",
      "text/plain": [
       "<Figure size 640x480 with 1 Axes>"
      ]
     },
     "metadata": {},
     "output_type": "display_data"
    }
   ],
   "source": [
    "plt.hist(df,bins=100, cumulative=True);"
   ]
  },
  {
   "cell_type": "code",
   "execution_count": 11,
   "id": "409e1a86-3378-4852-ad78-f562b66afc6a",
   "metadata": {},
   "outputs": [],
   "source": [
    "def check_continuity(column_name):\n",
    "    merged[merged['item_name']==column_name]['date'].nunique() -\\\n",
    "        merged['date'].nunique()\n",
    "    \n",
    "    diff=set(merged['date'].unique())-set(merged[merged['item_name']==column_name]['date'].unique())\n",
    "    print(f'no info about {len(diff)} days')\n",
    "    max_diff = pd.to_datetime(pd.Series(list(diff)), format='%d.%m.%Y').sort_values().diff().max()\n",
    "    print('max_diff:',max_diff)\n",
    "    \n",
    "    d = merged[merged['item_name']==column_name].groupby('date').agg({'item_cnt_day':'mean'})\n",
    "    #print(d.reset_index())\n",
    "    d=d.reset_index()\n",
    "    \n",
    "    plt.scatter(pd.to_datetime(pd.Series(list(diff)).sort_values(), format='%d.%m.%Y'),[1]*len(diff),color='red',zorder=-1)\n",
    "    plt.plot(pd.to_datetime(d['date'], format='%d.%m.%Y').sort_values(),d['item_cnt_day'],zorder=1)\n",
    "    \n",
    "#No info about packeti for 113 days - they all are sequent!"
   ]
  },
  {
   "cell_type": "code",
   "execution_count": 12,
   "id": "3a8e38de-8fc5-4ce7-a89e-a69e27b39664",
   "metadata": {},
   "outputs": [
    {
     "name": "stdout",
     "output_type": "stream",
     "text": [
      "no info about 1028 days\n",
      "max_diff: 2 days 00:00:00\n"
     ]
    },
    {
     "data": {
      "image/png": "[encoded data removed]",
      "text/plain": [
       "<Figure size 640x480 with 1 Axes>"
      ]
     },
     "metadata": {},
     "output_type": "display_data"
    }
   ],
   "source": [
    "check_continuity('!ABBYY FineReader 12 Professional Edition Full [PC, Цифровая версия]')# - sales per month = sum of sales per day (because misses dont mean no data, they mean 0)"
   ]
  },
  {
   "cell_type": "code",
   "execution_count": 13,
   "id": "4ae6b5ea-21ee-42f5-8d09-cad56e94d133",
   "metadata": {},
   "outputs": [
    {
     "ename": "KeyboardInterrupt",
     "evalue": "",
     "output_type": "error",
     "traceback": [
      "\u001b[0;31m---------------------------------------------------------------------------\u001b[0m",
      "\u001b[0;31mKeyboardInterrupt\u001b[0m                         Traceback (most recent call last)",
      "Cell \u001b[0;32mIn[13], line 1\u001b[0m\n\u001b[0;32m----> 1\u001b[0m grouped\u001b[38;5;241m=\u001b[39m\u001b[43mmerged\u001b[49m\u001b[38;5;241;43m.\u001b[39;49m\u001b[43mgroupby\u001b[49m\u001b[43m(\u001b[49m\u001b[43m[\u001b[49m\u001b[38;5;124;43m'\u001b[39;49m\u001b[38;5;124;43mshop_id\u001b[39;49m\u001b[38;5;124;43m'\u001b[39;49m\u001b[43m,\u001b[49m\u001b[38;5;124;43m'\u001b[39;49m\u001b[38;5;124;43mitem_id\u001b[39;49m\u001b[38;5;124;43m'\u001b[39;49m\u001b[43m,\u001b[49m\u001b[38;5;124;43m'\u001b[39;49m\u001b[38;5;124;43mdate_block_num\u001b[39;49m\u001b[38;5;124;43m'\u001b[39;49m\u001b[43m]\u001b[49m\u001b[43m)\u001b[49m\u001b[38;5;241;43m.\u001b[39;49m\u001b[43magg\u001b[49m\u001b[43m(\u001b[49m\u001b[43m{\u001b[49m\u001b[38;5;124;43m'\u001b[39;49m\u001b[38;5;124;43mitem_price\u001b[39;49m\u001b[38;5;124;43m'\u001b[39;49m\u001b[43m:\u001b[49m\u001b[38;5;124;43m'\u001b[39;49m\u001b[38;5;124;43mmean\u001b[39;49m\u001b[38;5;124;43m'\u001b[39;49m\u001b[43m,\u001b[49m\n\u001b[1;32m      2\u001b[0m \u001b[43m                                                                    \u001b[49m\u001b[38;5;124;43m'\u001b[39;49m\u001b[38;5;124;43mitem_cnt_day\u001b[39;49m\u001b[38;5;124;43m'\u001b[39;49m\u001b[43m:\u001b[49m\u001b[38;5;124;43m'\u001b[39;49m\u001b[38;5;124;43msum\u001b[39;49m\u001b[38;5;124;43m'\u001b[39;49m\u001b[43m,\u001b[49m\n\u001b[1;32m      3\u001b[0m \u001b[43m                                                                    \u001b[49m\u001b[38;5;124;43m'\u001b[39;49m\u001b[38;5;124;43mitem_category_name\u001b[39;49m\u001b[38;5;124;43m'\u001b[39;49m\u001b[43m:\u001b[49m\u001b[38;5;124;43m'\u001b[39;49m\u001b[38;5;124;43munique\u001b[39;49m\u001b[38;5;124;43m'\u001b[39;49m\u001b[43m,\u001b[49m\n\u001b[1;32m      4\u001b[0m \u001b[43m                                                                    \u001b[49m\u001b[38;5;124;43m'\u001b[39;49m\u001b[38;5;124;43mmonth\u001b[39;49m\u001b[38;5;124;43m'\u001b[39;49m\u001b[43m:\u001b[49m\u001b[38;5;124;43m'\u001b[39;49m\u001b[38;5;124;43munique\u001b[39;49m\u001b[38;5;124;43m'\u001b[39;49m\u001b[43m}\u001b[49m\u001b[43m)\u001b[49m\u001b[38;5;66;03m#take some time\u001b[39;00m\n",
      "File \u001b[0;32m~/python_envs/predict_future_sales/lib/python3.12/site-packages/pandas/core/groupby/generic.py:1432\u001b[0m, in \u001b[0;36mDataFrameGroupBy.aggregate\u001b[0;34m(self, func, engine, engine_kwargs, *args, **kwargs)\u001b[0m\n\u001b[1;32m   1429\u001b[0m     kwargs[\u001b[38;5;124m\"\u001b[39m\u001b[38;5;124mengine_kwargs\u001b[39m\u001b[38;5;124m\"\u001b[39m] \u001b[38;5;241m=\u001b[39m engine_kwargs\n\u001b[1;32m   1431\u001b[0m op \u001b[38;5;241m=\u001b[39m GroupByApply(\u001b[38;5;28mself\u001b[39m, func, args\u001b[38;5;241m=\u001b[39margs, kwargs\u001b[38;5;241m=\u001b[39mkwargs)\n\u001b[0;32m-> 1432\u001b[0m result \u001b[38;5;241m=\u001b[39m \u001b[43mop\u001b[49m\u001b[38;5;241;43m.\u001b[39;49m\u001b[43magg\u001b[49m\u001b[43m(\u001b[49m\u001b[43m)\u001b[49m\n\u001b[1;32m   1433\u001b[0m \u001b[38;5;28;01mif\u001b[39;00m \u001b[38;5;129;01mnot\u001b[39;00m is_dict_like(func) \u001b[38;5;129;01mand\u001b[39;00m result \u001b[38;5;129;01mis\u001b[39;00m \u001b[38;5;129;01mnot\u001b[39;00m \u001b[38;5;28;01mNone\u001b[39;00m:\n\u001b[1;32m   1434\u001b[0m     \u001b[38;5;66;03m# GH #52849\u001b[39;00m\n\u001b[1;32m   1435\u001b[0m     \u001b[38;5;28;01mif\u001b[39;00m \u001b[38;5;129;01mnot\u001b[39;00m \u001b[38;5;28mself\u001b[39m\u001b[38;5;241m.\u001b[39mas_index \u001b[38;5;129;01mand\u001b[39;00m is_list_like(func):\n",
      "File \u001b[0;32m~/python_envs/predict_future_sales/lib/python3.12/site-packages/pandas/core/apply.py:190\u001b[0m, in \u001b[0;36mApply.agg\u001b[0;34m(self)\u001b[0m\n\u001b[1;32m    187\u001b[0m     \u001b[38;5;28;01mreturn\u001b[39;00m \u001b[38;5;28mself\u001b[39m\u001b[38;5;241m.\u001b[39mapply_str()\n\u001b[1;32m    189\u001b[0m \u001b[38;5;28;01mif\u001b[39;00m is_dict_like(func):\n\u001b[0;32m--> 190\u001b[0m     \u001b[38;5;28;01mreturn\u001b[39;00m \u001b[38;5;28;43mself\u001b[39;49m\u001b[38;5;241;43m.\u001b[39;49m\u001b[43magg_dict_like\u001b[49m\u001b[43m(\u001b[49m\u001b[43m)\u001b[49m\n\u001b[1;32m    191\u001b[0m \u001b[38;5;28;01melif\u001b[39;00m is_list_like(func):\n\u001b[1;32m    192\u001b[0m     \u001b[38;5;66;03m# we require a list, but not a 'str'\u001b[39;00m\n\u001b[1;32m    193\u001b[0m     \u001b[38;5;28;01mreturn\u001b[39;00m \u001b[38;5;28mself\u001b[39m\u001b[38;5;241m.\u001b[39magg_list_like()\n",
      "File \u001b[0;32m~/python_envs/predict_future_sales/lib/python3.12/site-packages/pandas/core/apply.py:423\u001b[0m, in \u001b[0;36mApply.agg_dict_like\u001b[0;34m(self)\u001b[0m\n\u001b[1;32m    415\u001b[0m \u001b[38;5;28;01mdef\u001b[39;00m \u001b[38;5;21magg_dict_like\u001b[39m(\u001b[38;5;28mself\u001b[39m) \u001b[38;5;241m-\u001b[39m\u001b[38;5;241m>\u001b[39m DataFrame \u001b[38;5;241m|\u001b[39m Series:\n\u001b[1;32m    416\u001b[0m \u001b[38;5;250m    \u001b[39m\u001b[38;5;124;03m\"\"\"\u001b[39;00m\n\u001b[1;32m    417\u001b[0m \u001b[38;5;124;03m    Compute aggregation in the case of a dict-like argument.\u001b[39;00m\n\u001b[1;32m    418\u001b[0m \n\u001b[0;32m   (...)\u001b[0m\n\u001b[1;32m    421\u001b[0m \u001b[38;5;124;03m    Result of aggregation.\u001b[39;00m\n\u001b[1;32m    422\u001b[0m \u001b[38;5;124;03m    \"\"\"\u001b[39;00m\n\u001b[0;32m--> 423\u001b[0m     \u001b[38;5;28;01mreturn\u001b[39;00m \u001b[38;5;28;43mself\u001b[39;49m\u001b[38;5;241;43m.\u001b[39;49m\u001b[43magg_or_apply_dict_like\u001b[49m\u001b[43m(\u001b[49m\u001b[43mop_name\u001b[49m\u001b[38;5;241;43m=\u001b[39;49m\u001b[38;5;124;43m\"\u001b[39;49m\u001b[38;5;124;43magg\u001b[39;49m\u001b[38;5;124;43m\"\u001b[39;49m\u001b[43m)\u001b[49m\n",
      "File \u001b[0;32m~/python_envs/predict_future_sales/lib/python3.12/site-packages/pandas/core/apply.py:1608\u001b[0m, in \u001b[0;36mGroupByApply.agg_or_apply_dict_like\u001b[0;34m(self, op_name)\u001b[0m\n\u001b[1;32m   1603\u001b[0m     kwargs\u001b[38;5;241m.\u001b[39mupdate({\u001b[38;5;124m\"\u001b[39m\u001b[38;5;124mengine\u001b[39m\u001b[38;5;124m\"\u001b[39m: engine, \u001b[38;5;124m\"\u001b[39m\u001b[38;5;124mengine_kwargs\u001b[39m\u001b[38;5;124m\"\u001b[39m: engine_kwargs})\n\u001b[1;32m   1605\u001b[0m \u001b[38;5;28;01mwith\u001b[39;00m com\u001b[38;5;241m.\u001b[39mtemp_setattr(\n\u001b[1;32m   1606\u001b[0m     obj, \u001b[38;5;124m\"\u001b[39m\u001b[38;5;124mas_index\u001b[39m\u001b[38;5;124m\"\u001b[39m, \u001b[38;5;28;01mTrue\u001b[39;00m, condition\u001b[38;5;241m=\u001b[39m\u001b[38;5;28mhasattr\u001b[39m(obj, \u001b[38;5;124m\"\u001b[39m\u001b[38;5;124mas_index\u001b[39m\u001b[38;5;124m\"\u001b[39m)\n\u001b[1;32m   1607\u001b[0m ):\n\u001b[0;32m-> 1608\u001b[0m     result_index, result_data \u001b[38;5;241m=\u001b[39m \u001b[38;5;28;43mself\u001b[39;49m\u001b[38;5;241;43m.\u001b[39;49m\u001b[43mcompute_dict_like\u001b[49m\u001b[43m(\u001b[49m\n\u001b[1;32m   1609\u001b[0m \u001b[43m        \u001b[49m\u001b[43mop_name\u001b[49m\u001b[43m,\u001b[49m\u001b[43m \u001b[49m\u001b[43mselected_obj\u001b[49m\u001b[43m,\u001b[49m\u001b[43m \u001b[49m\u001b[43mselection\u001b[49m\u001b[43m,\u001b[49m\u001b[43m \u001b[49m\u001b[43mkwargs\u001b[49m\n\u001b[1;32m   1610\u001b[0m \u001b[43m    \u001b[49m\u001b[43m)\u001b[49m\n\u001b[1;32m   1611\u001b[0m result \u001b[38;5;241m=\u001b[39m \u001b[38;5;28mself\u001b[39m\u001b[38;5;241m.\u001b[39mwrap_results_dict_like(selected_obj, result_index, result_data)\n\u001b[1;32m   1612\u001b[0m \u001b[38;5;28;01mreturn\u001b[39;00m result\n",
      "File \u001b[0;32m~/python_envs/predict_future_sales/lib/python3.12/site-packages/pandas/core/apply.py:497\u001b[0m, in \u001b[0;36mApply.compute_dict_like\u001b[0;34m(self, op_name, selected_obj, selection, kwargs)\u001b[0m\n\u001b[1;32m    493\u001b[0m         results \u001b[38;5;241m+\u001b[39m\u001b[38;5;241m=\u001b[39m key_data\n\u001b[1;32m    494\u001b[0m \u001b[38;5;28;01melse\u001b[39;00m:\n\u001b[1;32m    495\u001b[0m     \u001b[38;5;66;03m# key used for column selection and output\u001b[39;00m\n\u001b[1;32m    496\u001b[0m     results \u001b[38;5;241m=\u001b[39m [\n\u001b[0;32m--> 497\u001b[0m         \u001b[38;5;28;43mgetattr\u001b[39;49m\u001b[43m(\u001b[49m\u001b[43mobj\u001b[49m\u001b[38;5;241;43m.\u001b[39;49m\u001b[43m_gotitem\u001b[49m\u001b[43m(\u001b[49m\u001b[43mkey\u001b[49m\u001b[43m,\u001b[49m\u001b[43m \u001b[49m\u001b[43mndim\u001b[49m\u001b[38;5;241;43m=\u001b[39;49m\u001b[38;5;241;43m1\u001b[39;49m\u001b[43m)\u001b[49m\u001b[43m,\u001b[49m\u001b[43m \u001b[49m\u001b[43mop_name\u001b[49m\u001b[43m)\u001b[49m\u001b[43m(\u001b[49m\u001b[43mhow\u001b[49m\u001b[43m,\u001b[49m\u001b[43m \u001b[49m\u001b[38;5;241;43m*\u001b[39;49m\u001b[38;5;241;43m*\u001b[39;49m\u001b[43mkwargs\u001b[49m\u001b[43m)\u001b[49m\n\u001b[1;32m    498\u001b[0m         \u001b[38;5;28;01mfor\u001b[39;00m key, how \u001b[38;5;129;01min\u001b[39;00m func\u001b[38;5;241m.\u001b[39mitems()\n\u001b[1;32m    499\u001b[0m     ]\n\u001b[1;32m    500\u001b[0m     keys \u001b[38;5;241m=\u001b[39m \u001b[38;5;28mlist\u001b[39m(func\u001b[38;5;241m.\u001b[39mkeys())\n\u001b[1;32m    502\u001b[0m \u001b[38;5;28;01mreturn\u001b[39;00m keys, results\n",
      "File \u001b[0;32m~/python_envs/predict_future_sales/lib/python3.12/site-packages/pandas/core/groupby/generic.py:249\u001b[0m, in \u001b[0;36mSeriesGroupBy.aggregate\u001b[0;34m(self, func, engine, engine_kwargs, *args, **kwargs)\u001b[0m\n\u001b[1;32m    247\u001b[0m     \u001b[38;5;28;01mif\u001b[39;00m engine_kwargs \u001b[38;5;129;01mis\u001b[39;00m \u001b[38;5;129;01mnot\u001b[39;00m \u001b[38;5;28;01mNone\u001b[39;00m:\n\u001b[1;32m    248\u001b[0m         kwargs[\u001b[38;5;124m\"\u001b[39m\u001b[38;5;124mengine_kwargs\u001b[39m\u001b[38;5;124m\"\u001b[39m] \u001b[38;5;241m=\u001b[39m engine_kwargs\n\u001b[0;32m--> 249\u001b[0m     \u001b[38;5;28;01mreturn\u001b[39;00m \u001b[38;5;28;43mgetattr\u001b[39;49m\u001b[43m(\u001b[49m\u001b[38;5;28;43mself\u001b[39;49m\u001b[43m,\u001b[49m\u001b[43m \u001b[49m\u001b[43mfunc\u001b[49m\u001b[43m)\u001b[49m\u001b[43m(\u001b[49m\u001b[38;5;241;43m*\u001b[39;49m\u001b[43margs\u001b[49m\u001b[43m,\u001b[49m\u001b[43m \u001b[49m\u001b[38;5;241;43m*\u001b[39;49m\u001b[38;5;241;43m*\u001b[39;49m\u001b[43mkwargs\u001b[49m\u001b[43m)\u001b[49m\n\u001b[1;32m    251\u001b[0m \u001b[38;5;28;01melif\u001b[39;00m \u001b[38;5;28misinstance\u001b[39m(func, abc\u001b[38;5;241m.\u001b[39mIterable):\n\u001b[1;32m    252\u001b[0m     \u001b[38;5;66;03m# Catch instances of lists / tuples\u001b[39;00m\n\u001b[1;32m    253\u001b[0m     \u001b[38;5;66;03m# but not the class list / tuple itself.\u001b[39;00m\n\u001b[1;32m    254\u001b[0m     func \u001b[38;5;241m=\u001b[39m maybe_mangle_lambdas(func)\n",
      "File \u001b[0;32m~/python_envs/predict_future_sales/lib/python3.12/site-packages/pandas/core/groupby/generic.py:1325\u001b[0m, in \u001b[0;36mSeriesGroupBy.unique\u001b[0;34m(self)\u001b[0m\n\u001b[1;32m   1285\u001b[0m \u001b[38;5;28;01mdef\u001b[39;00m \u001b[38;5;21munique\u001b[39m(\u001b[38;5;28mself\u001b[39m) \u001b[38;5;241m-\u001b[39m\u001b[38;5;241m>\u001b[39m Series:\n\u001b[1;32m   1286\u001b[0m \u001b[38;5;250m    \u001b[39m\u001b[38;5;124;03m\"\"\"\u001b[39;00m\n\u001b[1;32m   1287\u001b[0m \u001b[38;5;124;03m    Return unique values for each group.\u001b[39;00m\n\u001b[1;32m   1288\u001b[0m \n\u001b[0;32m   (...)\u001b[0m\n\u001b[1;32m   1323\u001b[0m \u001b[38;5;124;03m    Name: breed, dtype: object\u001b[39;00m\n\u001b[1;32m   1324\u001b[0m \u001b[38;5;124;03m    \"\"\"\u001b[39;00m\n\u001b[0;32m-> 1325\u001b[0m     result \u001b[38;5;241m=\u001b[39m \u001b[38;5;28;43mself\u001b[39;49m\u001b[38;5;241;43m.\u001b[39;49m\u001b[43m_op_via_apply\u001b[49m\u001b[43m(\u001b[49m\u001b[38;5;124;43m\"\u001b[39;49m\u001b[38;5;124;43munique\u001b[39;49m\u001b[38;5;124;43m\"\u001b[39;49m\u001b[43m)\u001b[49m\n\u001b[1;32m   1326\u001b[0m     \u001b[38;5;28;01mreturn\u001b[39;00m result\n",
      "File \u001b[0;32m~/python_envs/predict_future_sales/lib/python3.12/site-packages/pandas/core/groupby/groupby.py:1425\u001b[0m, in \u001b[0;36mGroupBy._op_via_apply\u001b[0;34m(self, name, *args, **kwargs)\u001b[0m\n\u001b[1;32m   1422\u001b[0m     \u001b[38;5;28;01mreturn\u001b[39;00m \u001b[38;5;28mself\u001b[39m\u001b[38;5;241m.\u001b[39m_python_apply_general(curried, \u001b[38;5;28mself\u001b[39m\u001b[38;5;241m.\u001b[39m_selected_obj)\n\u001b[1;32m   1424\u001b[0m is_transform \u001b[38;5;241m=\u001b[39m name \u001b[38;5;129;01min\u001b[39;00m base\u001b[38;5;241m.\u001b[39mtransformation_kernels\n\u001b[0;32m-> 1425\u001b[0m result \u001b[38;5;241m=\u001b[39m \u001b[38;5;28;43mself\u001b[39;49m\u001b[38;5;241;43m.\u001b[39;49m\u001b[43m_python_apply_general\u001b[49m\u001b[43m(\u001b[49m\n\u001b[1;32m   1426\u001b[0m \u001b[43m    \u001b[49m\u001b[43mcurried\u001b[49m\u001b[43m,\u001b[49m\n\u001b[1;32m   1427\u001b[0m \u001b[43m    \u001b[49m\u001b[38;5;28;43mself\u001b[39;49m\u001b[38;5;241;43m.\u001b[39;49m\u001b[43m_obj_with_exclusions\u001b[49m\u001b[43m,\u001b[49m\n\u001b[1;32m   1428\u001b[0m \u001b[43m    \u001b[49m\u001b[43mis_transform\u001b[49m\u001b[38;5;241;43m=\u001b[39;49m\u001b[43mis_transform\u001b[49m\u001b[43m,\u001b[49m\n\u001b[1;32m   1429\u001b[0m \u001b[43m    \u001b[49m\u001b[43mnot_indexed_same\u001b[49m\u001b[38;5;241;43m=\u001b[39;49m\u001b[38;5;129;43;01mnot\u001b[39;49;00m\u001b[43m \u001b[49m\u001b[43mis_transform\u001b[49m\u001b[43m,\u001b[49m\n\u001b[1;32m   1430\u001b[0m \u001b[43m\u001b[49m\u001b[43m)\u001b[49m\n\u001b[1;32m   1432\u001b[0m \u001b[38;5;28;01mif\u001b[39;00m \u001b[38;5;28mself\u001b[39m\u001b[38;5;241m.\u001b[39m_grouper\u001b[38;5;241m.\u001b[39mhas_dropped_na \u001b[38;5;129;01mand\u001b[39;00m is_transform:\n\u001b[1;32m   1433\u001b[0m     \u001b[38;5;66;03m# result will have dropped rows due to nans, fill with null\u001b[39;00m\n\u001b[1;32m   1434\u001b[0m     \u001b[38;5;66;03m# and ensure index is ordered same as the input\u001b[39;00m\n\u001b[1;32m   1435\u001b[0m     result \u001b[38;5;241m=\u001b[39m \u001b[38;5;28mself\u001b[39m\u001b[38;5;241m.\u001b[39m_set_result_index_ordered(result)\n",
      "File \u001b[0;32m~/python_envs/predict_future_sales/lib/python3.12/site-packages/pandas/core/groupby/groupby.py:1885\u001b[0m, in \u001b[0;36mGroupBy._python_apply_general\u001b[0;34m(self, f, data, not_indexed_same, is_transform, is_agg)\u001b[0m\n\u001b[1;32m   1850\u001b[0m \u001b[38;5;129m@final\u001b[39m\n\u001b[1;32m   1851\u001b[0m \u001b[38;5;28;01mdef\u001b[39;00m \u001b[38;5;21m_python_apply_general\u001b[39m(\n\u001b[1;32m   1852\u001b[0m     \u001b[38;5;28mself\u001b[39m,\n\u001b[0;32m   (...)\u001b[0m\n\u001b[1;32m   1857\u001b[0m     is_agg: \u001b[38;5;28mbool\u001b[39m \u001b[38;5;241m=\u001b[39m \u001b[38;5;28;01mFalse\u001b[39;00m,\n\u001b[1;32m   1858\u001b[0m ) \u001b[38;5;241m-\u001b[39m\u001b[38;5;241m>\u001b[39m NDFrameT:\n\u001b[1;32m   1859\u001b[0m \u001b[38;5;250m    \u001b[39m\u001b[38;5;124;03m\"\"\"\u001b[39;00m\n\u001b[1;32m   1860\u001b[0m \u001b[38;5;124;03m    Apply function f in python space\u001b[39;00m\n\u001b[1;32m   1861\u001b[0m \n\u001b[0;32m   (...)\u001b[0m\n\u001b[1;32m   1883\u001b[0m \u001b[38;5;124;03m        data after applying f\u001b[39;00m\n\u001b[1;32m   1884\u001b[0m \u001b[38;5;124;03m    \"\"\"\u001b[39;00m\n\u001b[0;32m-> 1885\u001b[0m     values, mutated \u001b[38;5;241m=\u001b[39m \u001b[38;5;28;43mself\u001b[39;49m\u001b[38;5;241;43m.\u001b[39;49m\u001b[43m_grouper\u001b[49m\u001b[38;5;241;43m.\u001b[39;49m\u001b[43mapply_groupwise\u001b[49m\u001b[43m(\u001b[49m\u001b[43mf\u001b[49m\u001b[43m,\u001b[49m\u001b[43m \u001b[49m\u001b[43mdata\u001b[49m\u001b[43m,\u001b[49m\u001b[43m \u001b[49m\u001b[38;5;28;43mself\u001b[39;49m\u001b[38;5;241;43m.\u001b[39;49m\u001b[43maxis\u001b[49m\u001b[43m)\u001b[49m\n\u001b[1;32m   1886\u001b[0m     \u001b[38;5;28;01mif\u001b[39;00m not_indexed_same \u001b[38;5;129;01mis\u001b[39;00m \u001b[38;5;28;01mNone\u001b[39;00m:\n\u001b[1;32m   1887\u001b[0m         not_indexed_same \u001b[38;5;241m=\u001b[39m mutated\n",
      "File \u001b[0;32m~/python_envs/predict_future_sales/lib/python3.12/site-packages/pandas/core/groupby/ops.py:919\u001b[0m, in \u001b[0;36mBaseGrouper.apply_groupwise\u001b[0;34m(self, f, data, axis)\u001b[0m\n\u001b[1;32m    917\u001b[0m \u001b[38;5;66;03m# group might be modified\u001b[39;00m\n\u001b[1;32m    918\u001b[0m group_axes \u001b[38;5;241m=\u001b[39m group\u001b[38;5;241m.\u001b[39maxes\n\u001b[0;32m--> 919\u001b[0m res \u001b[38;5;241m=\u001b[39m \u001b[43mf\u001b[49m\u001b[43m(\u001b[49m\u001b[43mgroup\u001b[49m\u001b[43m)\u001b[49m\n\u001b[1;32m    920\u001b[0m \u001b[38;5;28;01mif\u001b[39;00m \u001b[38;5;129;01mnot\u001b[39;00m mutated \u001b[38;5;129;01mand\u001b[39;00m \u001b[38;5;129;01mnot\u001b[39;00m _is_indexed_like(res, group_axes, axis):\n\u001b[1;32m    921\u001b[0m     mutated \u001b[38;5;241m=\u001b[39m \u001b[38;5;28;01mTrue\u001b[39;00m\n",
      "File \u001b[0;32m~/python_envs/predict_future_sales/lib/python3.12/site-packages/pandas/core/groupby/groupby.py:1413\u001b[0m, in \u001b[0;36mGroupBy._op_via_apply.<locals>.curried\u001b[0;34m(x)\u001b[0m\n\u001b[1;32m   1412\u001b[0m \u001b[38;5;28;01mdef\u001b[39;00m \u001b[38;5;21mcurried\u001b[39m(x):\n\u001b[0;32m-> 1413\u001b[0m     \u001b[38;5;28;01mreturn\u001b[39;00m \u001b[43mf\u001b[49m\u001b[43m(\u001b[49m\u001b[43mx\u001b[49m\u001b[43m,\u001b[49m\u001b[43m \u001b[49m\u001b[38;5;241;43m*\u001b[39;49m\u001b[43margs\u001b[49m\u001b[43m,\u001b[49m\u001b[43m \u001b[49m\u001b[38;5;241;43m*\u001b[39;49m\u001b[38;5;241;43m*\u001b[39;49m\u001b[43mkwargs\u001b[49m\u001b[43m)\u001b[49m\n",
      "File \u001b[0;32m~/python_envs/predict_future_sales/lib/python3.12/site-packages/pandas/core/series.py:2344\u001b[0m, in \u001b[0;36mSeries.unique\u001b[0;34m(self)\u001b[0m\n\u001b[1;32m   2335\u001b[0m     \u001b[38;5;66;03m# Ensure index is type stable (should always use int index)\u001b[39;00m\n\u001b[1;32m   2336\u001b[0m     \u001b[38;5;28;01mreturn\u001b[39;00m \u001b[38;5;28mself\u001b[39m\u001b[38;5;241m.\u001b[39m_constructor(\n\u001b[1;32m   2337\u001b[0m         res_values,\n\u001b[1;32m   2338\u001b[0m         index\u001b[38;5;241m=\u001b[39m\u001b[38;5;28mrange\u001b[39m(\u001b[38;5;28mlen\u001b[39m(res_values)),\n\u001b[0;32m   (...)\u001b[0m\n\u001b[1;32m   2341\u001b[0m         dtype\u001b[38;5;241m=\u001b[39m\u001b[38;5;28mself\u001b[39m\u001b[38;5;241m.\u001b[39mdtype,\n\u001b[1;32m   2342\u001b[0m     )\u001b[38;5;241m.\u001b[39m__finalize__(\u001b[38;5;28mself\u001b[39m, method\u001b[38;5;241m=\u001b[39m\u001b[38;5;124m\"\u001b[39m\u001b[38;5;124mmode\u001b[39m\u001b[38;5;124m\"\u001b[39m)\n\u001b[0;32m-> 2344\u001b[0m \u001b[38;5;28;01mdef\u001b[39;00m \u001b[38;5;21munique\u001b[39m(\u001b[38;5;28mself\u001b[39m) \u001b[38;5;241m-\u001b[39m\u001b[38;5;241m>\u001b[39m ArrayLike:  \u001b[38;5;66;03m# pylint: disable=useless-parent-delegation\u001b[39;00m\n\u001b[1;32m   2345\u001b[0m \u001b[38;5;250m    \u001b[39m\u001b[38;5;124;03m\"\"\"\u001b[39;00m\n\u001b[1;32m   2346\u001b[0m \u001b[38;5;124;03m    Return unique values of Series object.\u001b[39;00m\n\u001b[1;32m   2347\u001b[0m \n\u001b[0;32m   (...)\u001b[0m\n\u001b[1;32m   2405\u001b[0m \u001b[38;5;124;03m    Categories (3, object): ['a' < 'b' < 'c']\u001b[39;00m\n\u001b[1;32m   2406\u001b[0m \u001b[38;5;124;03m    \"\"\"\u001b[39;00m\n\u001b[1;32m   2407\u001b[0m     \u001b[38;5;28;01mreturn\u001b[39;00m \u001b[38;5;28msuper\u001b[39m()\u001b[38;5;241m.\u001b[39munique()\n",
      "\u001b[0;31mKeyboardInterrupt\u001b[0m: "
     ]
    }
   ],
   "source": [
    "grouped=merged.groupby(['shop_id','item_id','date_block_num']).agg({'item_price':'mean',\n",
    "                                                                    'item_cnt_day':'sum',\n",
    "                                                                    'item_category_name':'unique',\n",
    "                                                                    'month':'unique'})#take some time"
   ]
  },
  {
   "cell_type": "code",
   "execution_count": null,
   "id": "c19fe2d7-9bb8-4b15-83a7-752de575efd8",
   "metadata": {},
   "outputs": [],
   "source": [
    "grouped=grouped.reset_index()"
   ]
  },
  {
   "cell_type": "code",
   "execution_count": null,
   "id": "7ba586ce-651f-421d-b510-65e8a93a7169",
   "metadata": {},
   "outputs": [],
   "source": [
    "grouped"
   ]
  },
  {
   "cell_type": "code",
   "execution_count": null,
   "id": "944a3055-4ef1-4e7c-b981-c4b2ea8bcaa5",
   "metadata": {},
   "outputs": [],
   "source": [
    "grouped['item_category_name']=grouped['item_category_name'].apply(lambda a:a[0])\n",
    "grouped['month']=grouped['month'].apply(lambda a:a[0])"
   ]
  },
  {
   "cell_type": "code",
   "execution_count": null,
   "id": "53a761f4-8c9f-4a74-a9ca-27796275582d",
   "metadata": {},
   "outputs": [],
   "source": [
    "grouped=grouped.rename({'item_price':'avg_item_price','item_cnt_day':'item_cnt_month'}, axis='columns')"
   ]
  },
  {
   "cell_type": "code",
   "execution_count": null,
   "id": "48222139-8ede-49e1-bd7f-0072727e87a2",
   "metadata": {
    "scrolled": true
   },
   "outputs": [],
   "source": [
    "grouped"
   ]
  },
  {
   "cell_type": "code",
   "execution_count": null,
   "id": "7f4a5fcf-f795-48db-8b4e-4ac82b85dd57",
   "metadata": {},
   "outputs": [],
   "source": [
    "from statsmodels.graphics.tsaplots import plot_pacf"
   ]
  },
  {
   "cell_type": "code",
   "execution_count": null,
   "id": "6ad7bd32-b5c9-4af7-aea7-ce7d852c26c9",
   "metadata": {},
   "outputs": [],
   "source": [
    "plot_pacf(grouped['avg_item_price'],lags=33)"
   ]
  },
  {
   "cell_type": "code",
   "execution_count": null,
   "id": "d5e49338-83e9-49b4-8905-5a906aeb3c0b",
   "metadata": {},
   "outputs": [],
   "source": [
    "plot_pacf(grouped['item_cnt_month'],lags=33)"
   ]
  },
  {
   "cell_type": "code",
   "execution_count": null,
   "id": "d920ebc7-c80c-4b84-9b96-4ff74990ed01",
   "metadata": {},
   "outputs": [],
   "source": [
    "\n",
    "def create_lags(data,item_lags=None,price_lags=None):\n",
    "    lagged_items = data[['date_block_num','item_cnt_month','shop_id','item_id']].copy()\n",
    "    for lag in item_lags:\n",
    "        lagged_items['date_block_num']+=lag#previous month becomes present\n",
    "        data=data.merge(lagged_items, how='left',on=['date_block_num','shop_id','item_id'], suffixes=('', f'_lag_{lag}'))\n",
    "        lagged_items['date_block_num']-=lag\n",
    "\n",
    "    lagged_prices = data[['date_block_num','avg_item_price','shop_id','item_id']].copy()\n",
    "    for lag in price_lags:\n",
    "        lagged_prices['date_block_num']+=lag#previous month becomes present\n",
    "        data=data.merge(lagged_prices, how='left',on=['date_block_num','shop_id','item_id'], suffixes=('', f'_lag_{lag}'))\n",
    "        lagged_prices['date_block_num']-=lag\n",
    "\n",
    "        \n",
    "    return data"
   ]
  },
  {
   "cell_type": "code",
   "execution_count": null,
   "id": "5b4e8a51-1e25-43df-ae4d-5adf3803dc62",
   "metadata": {},
   "outputs": [],
   "source": [
    "#list[(*range(1,15),24])"
   ]
  },
  {
   "cell_type": "code",
   "execution_count": null,
   "id": "1f60cfc2-54b2-455d-8b77-86939fc5a9c8",
   "metadata": {},
   "outputs": [],
   "source": [
    "item_lags=list([*range(1,7),12,13,24])\n",
    "price_lags=list([*range(1,7),12,24])\n",
    "lagged = create_lags(grouped,item_lags=item_lags,price_lags=price_lags)"
   ]
  },
  {
   "cell_type": "code",
   "execution_count": null,
   "id": "1eee14f0-d86e-41a9-b6a6-05f12fd22f15",
   "metadata": {},
   "outputs": [],
   "source": [
    "lagged.isna().sum()"
   ]
  },
  {
   "cell_type": "code",
   "execution_count": null,
   "id": "1a03d53f-bba8-4781-bdac-8737063ac8ad",
   "metadata": {},
   "outputs": [],
   "source": [
    "sns.heatmap(lagged[['item_cnt_month',*[f'item_cnt_month_lag_{i}' for i in item_lags]]].corr(),annot=True,annot_kws={'fontsize':7})"
   ]
  },
  {
   "cell_type": "code",
   "execution_count": null,
   "id": "bc11ab35-faa2-4887-b939-92ac2f2c15dc",
   "metadata": {
    "scrolled": true
   },
   "outputs": [],
   "source": [
    "sns.heatmap(lagged[['avg_item_price',*[f'avg_item_price_lag_{i}' for i in price_lags]]].corr(),annot=True,annot_kws={'fontsize':7})"
   ]
  },
  {
   "cell_type": "code",
   "execution_count": null,
   "id": "d426a649-24b0-4b8a-b9a9-a7e44f535898",
   "metadata": {},
   "outputs": [],
   "source": []
  },
  {
   "cell_type": "code",
   "execution_count": null,
   "id": "6eef5b80-5388-4149-936e-05d2d12bf8d7",
   "metadata": {
    "scrolled": true
   },
   "outputs": [],
   "source": [
    "\n",
    "plt.scatter(lagged['avg_item_price_lag_1'],lagged['item_cnt_month'])\n"
   ]
  },
  {
   "cell_type": "code",
   "execution_count": null,
   "id": "07b0e0db-a479-451b-aea3-1a92fb527fce",
   "metadata": {},
   "outputs": [],
   "source": [
    "\n",
    "plt.scatter(lagged['avg_item_price_lag_1'],lagged['avg_item_price_lag_24'])\n"
   ]
  },
  {
   "cell_type": "code",
   "execution_count": null,
   "id": "a176bbe7-99f9-4c0d-acb5-e5f48e049134",
   "metadata": {},
   "outputs": [],
   "source": [
    "lagged"
   ]
  },
  {
   "cell_type": "code",
   "execution_count": null,
   "id": "630ef74e-6cbe-4765-b574-b8a3fe973578",
   "metadata": {},
   "outputs": [],
   "source": [
    "lagged_month = lagged.groupby('month').agg({'item_cnt_month':'sum'}).reset_index()"
   ]
  },
  {
   "cell_type": "code",
   "execution_count": null,
   "id": "aaf90941-bc9a-416d-996e-701bd0775a30",
   "metadata": {},
   "outputs": [],
   "source": [
    "lagged_month"
   ]
  },
  {
   "cell_type": "code",
   "execution_count": null,
   "id": "1e2807f5-f9b2-46eb-a4b1-a698d1fb4e23",
   "metadata": {},
   "outputs": [],
   "source": [
    "\n",
    "plt.scatter(lagged_month['month'],lagged_month['item_cnt_month'])\n"
   ]
  },
  {
   "cell_type": "code",
   "execution_count": null,
   "id": "3967d2a6-8f33-4d4e-aae5-58c03c42347f",
   "metadata": {},
   "outputs": [],
   "source": [
    "grouped['super_category'] = grouped['item_category_name'].apply(lambda a: a.split()[0])"
   ]
  },
  {
   "cell_type": "code",
   "execution_count": null,
   "id": "31da8b2b-7994-4d45-b387-04bd64f0bed3",
   "metadata": {},
   "outputs": [],
   "source": [
    "grouped"
   ]
  },
  {
   "cell_type": "code",
   "execution_count": null,
   "id": "18ddc2d6-4708-4751-832e-1c552c1f22a1",
   "metadata": {},
   "outputs": [],
   "source": [
    "grouped_check_by_monthes = grouped[['item_id',\n",
    "                                    'date_block_num',\n",
    "                                    'item_category_name',\n",
    "                                    'super_category',\n",
    "                                   'shop_id']].groupby(['shop_id','date_block_num']).agg({'item_id':'unique',\n",
    "                                                                                      'item_category_name':'unique',\n",
    "                                                                                      'super_category':'unique'})"
   ]
  },
  {
   "cell_type": "code",
   "execution_count": null,
   "id": "fe5f2ea7-69e9-4813-9de1-46d4de3556ff",
   "metadata": {},
   "outputs": [],
   "source": [
    "grouped_check_by_monthes=grouped_check_by_monthes.reset_index()\n",
    "grouped_check_by_monthes"
   ]
  },
  {
   "cell_type": "code",
   "execution_count": null,
   "id": "368446dd-6a8a-4b41-a4cc-a33e7c17013c",
   "metadata": {},
   "outputs": [],
   "source": [
    "grouped_check_by_monthes.index"
   ]
  },
  {
   "cell_type": "code",
   "execution_count": null,
   "id": "45ebf14b-b3a7-4ad9-ac96-af035c21753c",
   "metadata": {},
   "outputs": [],
   "source": [
    "grouped_check_by_monthes"
   ]
  },
  {
   "cell_type": "code",
   "execution_count": null,
   "id": "2348de7c-9d2d-455e-a65e-5b335e47f9bc",
   "metadata": {},
   "outputs": [],
   "source": [
    "item_name=grouped_check_by_monthes['item_id']\n",
    "item_category_name=grouped_check_by_monthes['item_category_name']\n",
    "super_category=grouped_check_by_monthes['super_category']\n",
    "\n",
    "sub_cat_diff = []\n",
    "super_cat_difff = []\n",
    "name_difff = []\n",
    "for row in grouped_check_by_monthes.index[:-1]:\n",
    "    \n",
    "    item_category_name_diff  = set(item_category_name[row+1]) - set(item_category_name[row])\n",
    "    super_category_name_diff  = set(super_category[row+1]) - set(super_category[row])\n",
    "    item_name_diff  = set(item_name[row+1]) - set(item_name[row])\n",
    "    \n",
    "    sub_cat_diff.append(list(item_category_name_diff))\n",
    "    super_cat_difff.append(list(super_category_name_diff))\n",
    "    name_difff.append(list(item_name_diff))\n",
    "\n",
    "print(len(sub_cat_diff))\n",
    "print(len(super_cat_difff))\n",
    "print(len(name_difff))\n",
    "df = pd.DataFrame({'num_block and shop_id':range(0,1581),\n",
    "                   'sub_category_diffs':[len(el) for el in sub_cat_diff],\n",
    "                   'super_cat_difff': [len(el) for el in super_cat_difff],\n",
    "                   'item_diff': [len(el) for el in name_difff]})"
   ]
  },
  {
   "cell_type": "code",
   "execution_count": null,
   "id": "68c60cef-4a36-4368-b147-755ea3fb3ec6",
   "metadata": {},
   "outputs": [],
   "source": [
    "df.describe()# - dataframe where we can see how many new *SMTH* appeared each month"
   ]
  },
  {
   "cell_type": "code",
   "execution_count": null,
   "id": "72a3ed04-9425-4a6b-aabe-24f735776450",
   "metadata": {},
   "outputs": [],
   "source": [
    "grouped_check_by_monthes"
   ]
  },
  {
   "cell_type": "code",
   "execution_count": null,
   "id": "c2856ee4-ad1f-4c22-9c52-4aceed694de0",
   "metadata": {
    "scrolled": true
   },
   "outputs": [],
   "source": [
    "lagged_fist_month=lagged[lagged['item_cnt_month_lag_1'].isna()]\n",
    "lagged_fist_month.drop(['shop_id','item_id','date_block_num','avg_item_price','item_cnt_month','item_category_name','month'],axis=1)"
   ]
  },
  {
   "cell_type": "code",
   "execution_count": null,
   "id": "65409745-9b73-4a55-8ee5-2392809b5a72",
   "metadata": {},
   "outputs": [],
   "source": [
    "lagged_fist_month= lagged_fist_month[lagged_fist_month.isna().sum(axis=1) == 17]\n"
   ]
  },
  {
   "cell_type": "code",
   "execution_count": null,
   "id": "668a1739-64fd-4de2-89c0-eb912c34210a",
   "metadata": {},
   "outputs": [],
   "source": [
    "#средняя цена категории и суперкатегории в прошлом месяце для тех кто первый раз\n",
    "#есть вещи которые не продавались ни разу"
   ]
  },
  {
   "cell_type": "code",
   "execution_count": null,
   "id": "e38eeb59-bc11-429a-ac46-3c1a0835e0e9",
   "metadata": {
    "scrolled": true
   },
   "outputs": [],
   "source": [
    "items"
   ]
  },
  {
   "cell_type": "code",
   "execution_count": null,
   "id": "74a69678-9198-4480-ab91-aab956486006",
   "metadata": {},
   "outputs": [],
   "source": [
    "grouped"
   ]
  },
  {
   "cell_type": "code",
   "execution_count": null,
   "id": "45fc6e92-b0db-436b-8ed3-20b3673e3af1",
   "metadata": {},
   "outputs": [],
   "source": [
    "def id_to_cat(id):\n",
    "    return items[items['item_id'] == id]['item_category_id']"
   ]
  },
  {
   "cell_type": "code",
   "execution_count": null,
   "id": "2c231d5b-71a2-4fba-9370-b559fd422c99",
   "metadata": {},
   "outputs": [],
   "source": [
    "grouped_category=grouped.groupby(['item_category_name','shop_id','date_block_num']).agg({'avg_item_price':'mean',\n",
    "                                                                    'item_cnt_month':'mean',\n",
    "                                                                    'month':'unique'})#take some time"
   ]
  },
  {
   "cell_type": "code",
   "execution_count": null,
   "id": "06dccbba-df54-43fa-904d-e0b04e6cf4e8",
   "metadata": {
    "scrolled": true
   },
   "outputs": [],
   "source": [
    "grouped_category=grouped_category.reset_index()\n",
    "grouped_category['month']=grouped_category['month'].apply(lambda a:a[0])\n",
    "grouped_category"
   ]
  },
  {
   "cell_type": "code",
   "execution_count": null,
   "id": "579c206e-baf2-4e61-9132-018a9def48bb",
   "metadata": {},
   "outputs": [],
   "source": [
    "item_lags=list([*range(1,7),12,13,24])\n",
    "price_lags=list([*range(1,7),12,24])"
   ]
  },
  {
   "cell_type": "code",
   "execution_count": null,
   "id": "eb85c387-a944-41d6-8abe-1971dacfe3da",
   "metadata": {},
   "outputs": [],
   "source": [
    "\n",
    "def create_lags_categories(data,item_lags=None,price_lags=None):\n",
    "    lagged_items = data[['date_block_num','item_cnt_month','shop_id','item_category_name']].copy()\n",
    "    for lag in item_lags:\n",
    "        lagged_items['date_block_num']-=lag#previous month becomes present\n",
    "        data=data.merge(lagged_items, how='left',on=['date_block_num','shop_id','item_category_name'], suffixes=('', f'_lag_{lag}'))\n",
    "        lagged_items['date_block_num']+=lag\n",
    "\n",
    "    lagged_prices = data[['date_block_num','avg_item_price','shop_id','item_category_name']].copy()\n",
    "    for lag in price_lags:\n",
    "        lagged_prices['date_block_num']-=lag#previous month becomes present\n",
    "        data=data.merge(lagged_prices, how='left',on=['date_block_num','shop_id','item_category_name'], suffixes=('', f'_lag_{lag}'))\n",
    "        lagged_prices['date_block_num']+=lag\n",
    "\n",
    "        \n",
    "    return data"
   ]
  },
  {
   "cell_type": "code",
   "execution_count": null,
   "id": "5eaf3137-d74a-4ff4-a974-c79007e6fcd5",
   "metadata": {},
   "outputs": [],
   "source": []
  },
  {
   "cell_type": "code",
   "execution_count": null,
   "id": "bf9d6f81-f105-471e-8436-084f1ca6f3d4",
   "metadata": {},
   "outputs": [],
   "source": []
  },
  {
   "cell_type": "code",
   "execution_count": null,
   "id": "5f86ceb8-1601-4790-8306-38262ac3ffdf",
   "metadata": {},
   "outputs": [],
   "source": [
    "grouped_category_lagged = create_lags_categories(grouped_category,item_lags=item_lags,price_lags=price_lags)\n",
    "grouped_category_lagged"
   ]
  },
  {
   "cell_type": "code",
   "execution_count": null,
   "id": "7ed5f717-6a88-412d-8ea9-4aa30365c191",
   "metadata": {},
   "outputs": [],
   "source": [
    "grouped_category_lagged.isna().sum()"
   ]
  },
  {
   "cell_type": "code",
   "execution_count": null,
   "id": "42249557-3b11-450f-b508-08551a9fa47c",
   "metadata": {},
   "outputs": [],
   "source": [
    "grouped['super_category'] = grouped['item_category_name'].apply(lambda a: a.split()[0])"
   ]
  },
  {
   "cell_type": "code",
   "execution_count": null,
   "id": "f0f88598-2b5e-4f33-b7f0-5ba23d2ce126",
   "metadata": {},
   "outputs": [],
   "source": [
    "grouped['super_category'].unique()"
   ]
  },
  {
   "cell_type": "code",
   "execution_count": null,
   "id": "fb4a3571-8ec7-4559-9a6a-e02d2ba9dead",
   "metadata": {},
   "outputs": [],
   "source": [
    "grouped_super_category=grouped.groupby(['super_category','shop_id','date_block_num']).agg({'avg_item_price':'mean',\n",
    "                                                                    'item_cnt_month':'mean',\n",
    "                                                                    'month':'unique'})#take some tim\n",
    "\n",
    "grouped_super_category=grouped_super_category.reset_index()\n",
    "grouped_super_category['month']=grouped_super_category['month'].apply(lambda a:a[0])\n",
    "grouped_super_category"
   ]
  },
  {
   "cell_type": "code",
   "execution_count": null,
   "id": "e45c3b51-0156-49e1-8b0d-268de046eeaa",
   "metadata": {},
   "outputs": [],
   "source": []
  },
  {
   "cell_type": "code",
   "execution_count": null,
   "id": "e4b02fef-2faa-494e-9955-b7ee83e05dd0",
   "metadata": {},
   "outputs": [],
   "source": [
    "\n",
    "def create_lags_super_categories(data,item_lags=None,price_lags=None):\n",
    "    lagged_items = data[['date_block_num','item_cnt_month','shop_id','super_category']].copy()\n",
    "    for lag in item_lags:\n",
    "        lagged_items['date_block_num']+=lag#previous month becomes present\n",
    "        data=data.merge(lagged_items, how='left',on=['date_block_num','super_category'], suffixes=('', f'_lag_{lag}'))\n",
    "        lagged_items['date_block_num']-=lag\n",
    "\n",
    "    lagged_prices = data[['date_block_num','avg_item_price','super_category']].copy()\n",
    "    for lag in price_lags:\n",
    "        lagged_prices['date_block_num']+=lag#previous month becomes present\n",
    "        data=data.merge(lagged_prices, how='left',on=['date_block_num','super_category'], suffixes=('', f'_lag_{lag}'))\n",
    "        lagged_prices['date_block_num']-=lag\n",
    "\n",
    "        \n",
    "    return data"
   ]
  },
  {
   "cell_type": "code",
   "execution_count": null,
   "id": "4e95c7ae-1f8e-41af-8041-14415b4f89d2",
   "metadata": {},
   "outputs": [],
   "source": [
    "grouped_super_category_lagged = create_lags_super_categories(grouped_super_category,item_lags=item_lags,price_lags=price_lags)\n",
    "grouped_super_category_lagged"
   ]
  },
  {
   "cell_type": "code",
   "execution_count": null,
   "id": "91ad143d-39c5-4057-a9df-235a5d49a5fd",
   "metadata": {},
   "outputs": [],
   "source": [
    "grouped_super_category_lagged.isna().sum()"
   ]
  },
  {
   "cell_type": "code",
   "execution_count": null,
   "id": "8ca62e6d-59f6-41cb-b8e2-f2eac52c2ee7",
   "metadata": {},
   "outputs": [],
   "source": []
  },
  {
   "cell_type": "code",
   "execution_count": null,
   "id": "75563a5e-1f0c-4e2b-a50f-5c434c681f98",
   "metadata": {},
   "outputs": [],
   "source": [
    "lagged"
   ]
  },
  {
   "cell_type": "code",
   "execution_count": null,
   "id": "d7babc53-a7f6-43e0-ab18-b466c8a8c14d",
   "metadata": {},
   "outputs": [],
   "source": [
    "def transform(data_train, item_categories,items,shops ):\n",
    "    grouped=data_train.groupby(['shop_id','item_id','date_block_num']).agg({'item_price':'mean',\n",
    "                                                                    'item_cnt_day':'sum'\n",
    "                                                                    })#take some (a lot)))) ) time\n",
    "\n",
    "    data_train = data_train.sort_values(by='date_block_num')\n",
    "    grouped=grouped.reset_index()\n",
    "    merged = grouped.merge(items, how='left').merge(item_categories, how='left').merge(shops, how='left')\n",
    "    merged['month'] = number_to_month(merged['date_block_num'])\n",
    "    merged['year'] = merged['date_block_num'].apply(convert_to_year)\n",
    "    merged['super_category'] = merged['item_category_name'].apply(lambda a: a.split()[0])\n",
    "    merged['city'] = merged['shop_name'].apply(parse_city)\n",
    "    merged=merged.rename(columns={'item_price':'avg_item_price','item_cnt_day':'item_cnt_month'})\n",
    "    item_lags=list([*range(1,7),12,13,24])\n",
    "    price_lags=list([*range(1,7),12,24])\n",
    "    lagged = create_lags(merged,item_lags=item_lags,price_lags=price_lags)#takes a bit time\n",
    "    lagged['shop_id_cat'] = lagged['shop_id'].astype('str')\n",
    "    lagged['item_id_cat'] = lagged['item_id'].astype('str')\n",
    "    lagged['item_category_id_cat'] = lagged['item_category_id'].astype('str')\n",
    "    lagged = encode_numerical_features(lagged, features=['item_category_id_cat', 'super_category','city'])#this part may not be used \n",
    "    gr = grouped.groupby(['shop_id','item_id']).agg({'date_block_num':'unique'})\n",
    "    df = merged\n",
    "    \n",
    "    # 1. Create the 'first_date_block_num' column (first appearance of each item_id)\n",
    "    df['first_date_block_num'] = df.groupby('item_id')['date_block_num'].transform('min')\n",
    "    \n",
    "    # 2. Create the 'first_cat_block_num' column (first appearance of each item_category_id)\n",
    "    df['first_cat_block_num'] = df.groupby('item_category_id')['date_block_num'].transform('min')\n",
    "    df['first_sup_cat_block_num'] = df.groupby('super_category')['date_block_num'].transform('min')\n",
    "    df = create_lags_columns(df,columns=['date_block_num','super_category'] )\n",
    "    df = create_lags_columns(df,columns=['date_block_num','item_id'] )\n",
    "    df = create_lags_columns(df,columns=['date_block_num','city'] )\n",
    "    df = create_lags_columns(df,columns=['date_block_num','item_category_name'] )\n",
    "    df = calculate_ema_3(df, target='avg_item_price')\n",
    "    df = calculate_ema_3(df, target='item_cnt_month')\n",
    "    first_index_block_3 = df[df['date_block_num'] == 3 ].index[0]\n",
    "    #blocks = [df[df['date_block_num'] == block-1 ].index[-1] for block in np.sort(df.date_block_num.unique())[1:]]\n",
    "    \n",
    "            "
   ]
  }
 ],
 "metadata": {
  "kernelspec": {
   "display_name": "Python 3 (ipykernel)",
   "language": "python",
   "name": "python3"
  },
  "language_info": {
   "codemirror_mode": {
    "name": "ipython",
    "version": 3
   },
   "file_extension": ".py",
   "mimetype": "text/x-python",
   "name": "python",
   "nbconvert_exporter": "python",
   "pygments_lexer": "ipython3",
   "version": "3.12.3"
  }
 },
 "nbformat": 4,
 "nbformat_minor": 5
}
