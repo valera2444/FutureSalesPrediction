{
 "cells": [
  {
   "cell_type": "markdown",
   "id": "9f3bd5ab-1b80-40f2-ad9a-e1efa83c54a4",
   "metadata": {},
   "source": [
    "NOW WE TRAIN AND VALIDATE ON ALL (ITEM, SHOP) EVER SEEN IN DATA\n",
    "Shold be:\n",
    "train - all (item ,shop) previosly seen\n",
    "test - dot product of (item, shop) in current dbn\n",
    "\n",
    "Now it is as it should be"
   ]
  },
  {
   "cell_type": "code",
   "execution_count": 1,
   "id": "ac40a185-64d8-4d28-a915-b3cde54b3885",
   "metadata": {},
   "outputs": [],
   "source": [
    "FIRST_N_MONTH_TO_DROP = 6"
   ]
  },
  {
   "cell_type": "code",
   "execution_count": 2,
   "id": "bede2498-4640-4ca9-ad5d-85780789fffc",
   "metadata": {},
   "outputs": [],
   "source": [
    "import numpy as np\n",
    "import pandas as pd\n",
    "\n",
    "import seaborn as sns\n",
    "from sklearn.preprocessing import TargetEncoder\n",
    "import gc\n",
    "\n",
    "import numba\n",
    "\n",
    "import matplotlib.pyplot as plt\n"
   ]
  },
  {
   "cell_type": "code",
   "execution_count": 3,
   "id": "37c379c8-e419-4c00-b08f-d423d6beb622",
   "metadata": {
    "scrolled": true
   },
   "outputs": [],
   "source": [
    "#!pip install torch"
   ]
  },
  {
   "cell_type": "code",
   "execution_count": 4,
   "id": "948a8252-32db-497d-8e5f-346c8814ec7a",
   "metadata": {},
   "outputs": [],
   "source": [
    "data_train = pd.read_csv('../data_cleaned/data_train.csv')\n",
    "item_categories = pd.read_csv('../data_cleaned/item_categories.csv')\n",
    "items = pd.read_csv('../data_cleaned/items.csv')\n",
    "shops = pd.read_csv('../data_cleaned/shops.csv')\n",
    "test = pd.read_csv('../data_cleaned/test.csv')\n",
    "test['date_block_num'] = 34\n",
    "data_train = data_train.merge(test, on=['item_id','shop_id','date_block_num'], how='outer').fillna(0)"
   ]
  },
  {
   "cell_type": "code",
   "execution_count": 5,
   "id": "86d2dd4c-b430-48ca-8551-1e32d91b347f",
   "metadata": {},
   "outputs": [],
   "source": [
    "\n",
    "\n",
    "data_train=data_train.reset_index()\n",
    "data_train = data_train.sort_values(by='date_block_num')\n",
    "train = data_train.copy()\n"
   ]
  },
  {
   "cell_type": "code",
   "execution_count": 6,
   "id": "eaff829c-ff90-4d23-b1e9-4aee04225681",
   "metadata": {},
   "outputs": [],
   "source": [
    "def create_change(table):\n",
    "    table=table.copy().fillna(0)\n",
    "    cols = [col for col in table.columns if isinstance(col, int)]\n",
    "    cols.sort()\n",
    "    \n",
    "    for col in cols[1:]:\n",
    "        table[col] = ((table[col] / table[col-1]) - 1) * 100\n",
    "        \n",
    "    table = table.replace([np.inf], -1)\n",
    "    table = table.replace([np.nan], -2)\n",
    "    return table\n",
    "        \n",
    "    "
   ]
  },
  {
   "cell_type": "code",
   "execution_count": 7,
   "id": "175c23f7-0c49-40d3-9e4b-560e04f83915",
   "metadata": {},
   "outputs": [],
   "source": [
    "import time\n",
    "def create_item_lag_table(data,column='item_cnt_monthitem_id_lag_1', whole=None):#long - ~467s\n",
    "    #whole contains lagged, which means for dbn = 24 lag_1 calculated on 23\n",
    "    #(item cnt month for dbn==24 stored in lag_1 for dbn == 25 )\n",
    "    #to make whole same format as data, we need to whole['date_block_num']-=1\n",
    "    start = time.time()\n",
    "\n",
    "    whole=whole.copy()\n",
    "    new_table = data.copy()\n",
    "    if 'lag' in column:\n",
    "        whole['date_block_num'] -= 1\n",
    "        whole = whole[whole['date_block_num'] >= 0]\n",
    "        \n",
    "    groped_item = whole.groupby(['item_id','date_block_num'])[column].unique()\n",
    "    \n",
    "    \n",
    "    print(groped_item.map(lambda a:a[0]).describe())\n",
    "    for item, dbn in groped_item.index:\n",
    "        \n",
    "        if len(groped_item[item, dbn]) != 1:\n",
    "            print(item, dbn)\n",
    "            print(groped_item[item, dbn])\n",
    "            print('SMTH WENT WRONG')\n",
    "        \n",
    "        \n",
    "        new_table.loc[new_table['item_id'] == item, dbn] = groped_item[item, dbn][0]\n",
    "\n",
    "    end = time.time()\n",
    "    print(f'time taken for column {column}: {end-start}')\n",
    "    return new_table.fillna(0)\n",
    "        "
   ]
  },
  {
   "cell_type": "code",
   "execution_count": 8,
   "id": "b6b8cf79-a4fa-4515-b975-fa943c62c660",
   "metadata": {},
   "outputs": [],
   "source": [
    "import time\n",
    "def create_category_lag_table(data,column='item_cnt_monthitem_category_id_cat_lag_1', whole=None):#long - ~467s\n",
    "    #whole contains lagged, which means for dbn = 24 lag_1 calculated on 23\n",
    "    #(item cnt month for dbn==24 stored in lag_1 for dbn == 25 )\n",
    "    #to make whole same format as data, we need to whole['date_block_num']-=1\n",
    "    start = time.time()\n",
    "\n",
    "    whole=whole.copy()\n",
    "    new_table = data.copy()\n",
    "    \n",
    "    if 'lag' in column:\n",
    "        whole['date_block_num'] -= 1\n",
    "        whole = whole[whole['date_block_num'] >= 0]\n",
    "    \n",
    "    groped_item = whole.groupby(['item_category_id','date_block_num'])[column].unique()\n",
    "    print(whole.date_block_num.unique())\n",
    "    for item_category_id, dbn in groped_item.index:\n",
    "        \n",
    "        if len(groped_item[item_category_id, dbn]) != 1:\n",
    "            print('SMTH WENT WRONG')\n",
    "        \n",
    "        \n",
    "        new_table.loc[new_table['item_category_id'] == item_category_id, dbn] = groped_item[item_category_id, dbn][0]\n",
    "\n",
    "    end = time.time()\n",
    "    print(f'time taken for column {column}: {end-start}')\n",
    "    return new_table.fillna(0)\n",
    "        "
   ]
  },
  {
   "cell_type": "code",
   "execution_count": 9,
   "id": "1bbc8f97-f129-4472-9fdd-8112a1543b81",
   "metadata": {},
   "outputs": [],
   "source": [
    "import time\n",
    "def create_item_city_lag_table(data,column=None, whole=None):#long - ~467s\n",
    "    #whole contains lagged, which means for dbn = 24 lag_1 calculated on 23\n",
    "    #(item cnt month for dbn==24 stored in lag_1 for dbn == 25 )\n",
    "    #to make whole same format as data, we need to whole['date_block_num']-=1\n",
    "    start = time.time()\n",
    "\n",
    "    whole=whole.copy()\n",
    "    new_table = data.copy()\n",
    "    \n",
    "    if 'lag' in column:\n",
    "        whole['date_block_num'] -= 1\n",
    "        whole = whole[whole['date_block_num'] >= 0]\n",
    "    \n",
    "    groped_item = whole.groupby(['item_id','date_block_num','city'])[column].unique()\n",
    "    print(whole.date_block_num.unique())\n",
    "    for item_id, dbn, city in groped_item.index:\n",
    "        \n",
    "        if len(groped_item[item_id, dbn, city]) != 1:\n",
    "            print('SMTH WENT WRONG')\n",
    "        \n",
    "        \n",
    "        new_table.loc[(new_table['item_id']==item_id)&(new_table['city']==city), \\\n",
    "        dbn] = groped_item[item_id, dbn, city][0]\n",
    "\n",
    "    end = time.time()\n",
    "    print(f'time taken for column {column}: {end-start}')\n",
    "    return new_table.fillna(0)\n",
    "        "
   ]
  },
  {
   "cell_type": "code",
   "execution_count": 10,
   "id": "32626bce-aea7-4c8e-9444-4db4aa641580",
   "metadata": {},
   "outputs": [],
   "source": [
    "import time\n",
    "def create_category_shop_lag_table(data,column=None, whole=None):#long - ~467s\n",
    "    #whole contains lagged, which means for dbn = 24 lag_1 calculated on 23\n",
    "    #(item cnt month for dbn==24 stored in lag_1 for dbn == 25 )\n",
    "    #to make whole same format as data, we need to whole['date_block_num']-=1\n",
    "    start = time.time()\n",
    "\n",
    "    whole=whole.copy()\n",
    "    new_table = data.copy()\n",
    "    \n",
    "    if 'lag' in column:\n",
    "        whole['date_block_num'] -= 1\n",
    "        whole = whole[whole['date_block_num'] >= 0]\n",
    "    \n",
    "    groped_item = whole.groupby(['item_category_id','date_block_num','shop_id'])[column].unique()\n",
    "    print(whole.date_block_num.unique())\n",
    "    for item_category_id, dbn, shop_id in groped_item.index:\n",
    "        \n",
    "        if len(groped_item[item_category_id, dbn, shop_id]) != 1:\n",
    "            print('SMTH WENT WRONG')\n",
    "        \n",
    "        \n",
    "        new_table.loc[(new_table['item_category_id']==item_category_id)&(new_table['shop_id']==shop_id), \\\n",
    "        dbn] = groped_item[item_category_id, dbn, shop_id][0]\n",
    "\n",
    "    end = time.time()\n",
    "    print(f'time taken for column {column}: {end-start}')\n",
    "    return new_table.fillna(0)\n",
    "        "
   ]
  },
  {
   "cell_type": "code",
   "execution_count": 11,
   "id": "ea26035a-034a-403d-8c81-6f4c20b6466c",
   "metadata": {},
   "outputs": [],
   "source": [
    "def create_item_shop_data(data, column='item_cnt_day'):\n",
    "    if column == 'item_cnt_day':\n",
    "        agg = 'sum'\n",
    "    else:\n",
    "        agg='mean'\n",
    "    df = pd.pivot_table(data, \n",
    "                    index=['shop_id','item_id'],\n",
    "                    columns=['date_block_num'],\n",
    "                    values=[column],\n",
    "                    aggfunc=agg, \n",
    "                    fill_value=0\n",
    "                   ).reset_index()\n",
    "   # print(df)\n",
    "    train = pd.DataFrame({'shop_id':df['shop_id'], 'item_id':df['item_id']})\n",
    "    \n",
    "    item_cnt_day = df[column]\n",
    "    train = pd.concat([train,item_cnt_day], axis=1)\n",
    "    #print(items)\n",
    "    merged = train.merge(items, how='left').merge(item_categories, how='left').merge(shops, how='left') \\\n",
    "        .drop(['item_name','item_category_name','shop_name'], axis=1)\n",
    "\n",
    "    \n",
    "    return merged"
   ]
  },
  {
   "cell_type": "code",
   "execution_count": 12,
   "id": "1678bf2a-5c3c-4cfd-9b88-f06492e21913",
   "metadata": {},
   "outputs": [],
   "source": [
    "whole = pd.read_csv('../data.csv')"
   ]
  },
  {
   "cell_type": "code",
   "execution_count": 13,
   "id": "364e6035-a0aa-4cfc-9ca7-3693f8a9b558",
   "metadata": {},
   "outputs": [],
   "source": [
    "shop_city = whole.groupby('shop_id')['city'].unique().reset_index()"
   ]
  },
  {
   "cell_type": "code",
   "execution_count": 14,
   "id": "e290ba85-9a49-4bce-b6f9-f99589e7d4ac",
   "metadata": {},
   "outputs": [
    {
     "ename": "KeyboardInterrupt",
     "evalue": "",
     "output_type": "error",
     "traceback": [
      "\u001b[0;31m---------------------------------------------------------------------------\u001b[0m",
      "\u001b[0;31mKeyboardInterrupt\u001b[0m                         Traceback (most recent call last)",
      "Cell \u001b[0;32mIn[14], line 1\u001b[0m\n\u001b[0;32m----> 1\u001b[0m category_super_category \u001b[38;5;241m=\u001b[39m \u001b[43mwhole\u001b[49m\u001b[38;5;241;43m.\u001b[39;49m\u001b[43mgroupby\u001b[49m\u001b[43m(\u001b[49m\u001b[38;5;124;43m'\u001b[39;49m\u001b[38;5;124;43mitem_category_id\u001b[39;49m\u001b[38;5;124;43m'\u001b[39;49m\u001b[43m)\u001b[49m\u001b[43m[\u001b[49m\u001b[38;5;124;43m'\u001b[39;49m\u001b[38;5;124;43msuper_category\u001b[39;49m\u001b[38;5;124;43m'\u001b[39;49m\u001b[43m]\u001b[49m\u001b[38;5;241;43m.\u001b[39;49m\u001b[43munique\u001b[49m\u001b[43m(\u001b[49m\u001b[43m)\u001b[49m\u001b[38;5;241m.\u001b[39mreset_index()\n",
      "File \u001b[0;32m~/python_envs/predict_future_sales/lib/python3.12/site-packages/pandas/core/groupby/generic.py:1325\u001b[0m, in \u001b[0;36mSeriesGroupBy.unique\u001b[0;34m(self)\u001b[0m\n\u001b[1;32m   1285\u001b[0m \u001b[38;5;28;01mdef\u001b[39;00m \u001b[38;5;21munique\u001b[39m(\u001b[38;5;28mself\u001b[39m) \u001b[38;5;241m-\u001b[39m\u001b[38;5;241m>\u001b[39m Series:\n\u001b[1;32m   1286\u001b[0m \u001b[38;5;250m    \u001b[39m\u001b[38;5;124;03m\"\"\"\u001b[39;00m\n\u001b[1;32m   1287\u001b[0m \u001b[38;5;124;03m    Return unique values for each group.\u001b[39;00m\n\u001b[1;32m   1288\u001b[0m \n\u001b[0;32m   (...)\u001b[0m\n\u001b[1;32m   1323\u001b[0m \u001b[38;5;124;03m    Name: breed, dtype: object\u001b[39;00m\n\u001b[1;32m   1324\u001b[0m \u001b[38;5;124;03m    \"\"\"\u001b[39;00m\n\u001b[0;32m-> 1325\u001b[0m     result \u001b[38;5;241m=\u001b[39m \u001b[38;5;28;43mself\u001b[39;49m\u001b[38;5;241;43m.\u001b[39;49m\u001b[43m_op_via_apply\u001b[49m\u001b[43m(\u001b[49m\u001b[38;5;124;43m\"\u001b[39;49m\u001b[38;5;124;43munique\u001b[39;49m\u001b[38;5;124;43m\"\u001b[39;49m\u001b[43m)\u001b[49m\n\u001b[1;32m   1326\u001b[0m     \u001b[38;5;28;01mreturn\u001b[39;00m result\n",
      "File \u001b[0;32m~/python_envs/predict_future_sales/lib/python3.12/site-packages/pandas/core/groupby/groupby.py:1425\u001b[0m, in \u001b[0;36mGroupBy._op_via_apply\u001b[0;34m(self, name, *args, **kwargs)\u001b[0m\n\u001b[1;32m   1422\u001b[0m     \u001b[38;5;28;01mreturn\u001b[39;00m \u001b[38;5;28mself\u001b[39m\u001b[38;5;241m.\u001b[39m_python_apply_general(curried, \u001b[38;5;28mself\u001b[39m\u001b[38;5;241m.\u001b[39m_selected_obj)\n\u001b[1;32m   1424\u001b[0m is_transform \u001b[38;5;241m=\u001b[39m name \u001b[38;5;129;01min\u001b[39;00m base\u001b[38;5;241m.\u001b[39mtransformation_kernels\n\u001b[0;32m-> 1425\u001b[0m result \u001b[38;5;241m=\u001b[39m \u001b[38;5;28;43mself\u001b[39;49m\u001b[38;5;241;43m.\u001b[39;49m\u001b[43m_python_apply_general\u001b[49m\u001b[43m(\u001b[49m\n\u001b[1;32m   1426\u001b[0m \u001b[43m    \u001b[49m\u001b[43mcurried\u001b[49m\u001b[43m,\u001b[49m\n\u001b[1;32m   1427\u001b[0m \u001b[43m    \u001b[49m\u001b[38;5;28;43mself\u001b[39;49m\u001b[38;5;241;43m.\u001b[39;49m\u001b[43m_obj_with_exclusions\u001b[49m\u001b[43m,\u001b[49m\n\u001b[1;32m   1428\u001b[0m \u001b[43m    \u001b[49m\u001b[43mis_transform\u001b[49m\u001b[38;5;241;43m=\u001b[39;49m\u001b[43mis_transform\u001b[49m\u001b[43m,\u001b[49m\n\u001b[1;32m   1429\u001b[0m \u001b[43m    \u001b[49m\u001b[43mnot_indexed_same\u001b[49m\u001b[38;5;241;43m=\u001b[39;49m\u001b[38;5;129;43;01mnot\u001b[39;49;00m\u001b[43m \u001b[49m\u001b[43mis_transform\u001b[49m\u001b[43m,\u001b[49m\n\u001b[1;32m   1430\u001b[0m \u001b[43m\u001b[49m\u001b[43m)\u001b[49m\n\u001b[1;32m   1432\u001b[0m \u001b[38;5;28;01mif\u001b[39;00m \u001b[38;5;28mself\u001b[39m\u001b[38;5;241m.\u001b[39m_grouper\u001b[38;5;241m.\u001b[39mhas_dropped_na \u001b[38;5;129;01mand\u001b[39;00m is_transform:\n\u001b[1;32m   1433\u001b[0m     \u001b[38;5;66;03m# result will have dropped rows due to nans, fill with null\u001b[39;00m\n\u001b[1;32m   1434\u001b[0m     \u001b[38;5;66;03m# and ensure index is ordered same as the input\u001b[39;00m\n\u001b[1;32m   1435\u001b[0m     result \u001b[38;5;241m=\u001b[39m \u001b[38;5;28mself\u001b[39m\u001b[38;5;241m.\u001b[39m_set_result_index_ordered(result)\n",
      "File \u001b[0;32m~/python_envs/predict_future_sales/lib/python3.12/site-packages/pandas/core/groupby/groupby.py:1885\u001b[0m, in \u001b[0;36mGroupBy._python_apply_general\u001b[0;34m(self, f, data, not_indexed_same, is_transform, is_agg)\u001b[0m\n\u001b[1;32m   1850\u001b[0m \u001b[38;5;129m@final\u001b[39m\n\u001b[1;32m   1851\u001b[0m \u001b[38;5;28;01mdef\u001b[39;00m \u001b[38;5;21m_python_apply_general\u001b[39m(\n\u001b[1;32m   1852\u001b[0m     \u001b[38;5;28mself\u001b[39m,\n\u001b[0;32m   (...)\u001b[0m\n\u001b[1;32m   1857\u001b[0m     is_agg: \u001b[38;5;28mbool\u001b[39m \u001b[38;5;241m=\u001b[39m \u001b[38;5;28;01mFalse\u001b[39;00m,\n\u001b[1;32m   1858\u001b[0m ) \u001b[38;5;241m-\u001b[39m\u001b[38;5;241m>\u001b[39m NDFrameT:\n\u001b[1;32m   1859\u001b[0m \u001b[38;5;250m    \u001b[39m\u001b[38;5;124;03m\"\"\"\u001b[39;00m\n\u001b[1;32m   1860\u001b[0m \u001b[38;5;124;03m    Apply function f in python space\u001b[39;00m\n\u001b[1;32m   1861\u001b[0m \n\u001b[0;32m   (...)\u001b[0m\n\u001b[1;32m   1883\u001b[0m \u001b[38;5;124;03m        data after applying f\u001b[39;00m\n\u001b[1;32m   1884\u001b[0m \u001b[38;5;124;03m    \"\"\"\u001b[39;00m\n\u001b[0;32m-> 1885\u001b[0m     values, mutated \u001b[38;5;241m=\u001b[39m \u001b[38;5;28;43mself\u001b[39;49m\u001b[38;5;241;43m.\u001b[39;49m\u001b[43m_grouper\u001b[49m\u001b[38;5;241;43m.\u001b[39;49m\u001b[43mapply_groupwise\u001b[49m\u001b[43m(\u001b[49m\u001b[43mf\u001b[49m\u001b[43m,\u001b[49m\u001b[43m \u001b[49m\u001b[43mdata\u001b[49m\u001b[43m,\u001b[49m\u001b[43m \u001b[49m\u001b[38;5;28;43mself\u001b[39;49m\u001b[38;5;241;43m.\u001b[39;49m\u001b[43maxis\u001b[49m\u001b[43m)\u001b[49m\n\u001b[1;32m   1886\u001b[0m     \u001b[38;5;28;01mif\u001b[39;00m not_indexed_same \u001b[38;5;129;01mis\u001b[39;00m \u001b[38;5;28;01mNone\u001b[39;00m:\n\u001b[1;32m   1887\u001b[0m         not_indexed_same \u001b[38;5;241m=\u001b[39m mutated\n",
      "File \u001b[0;32m~/python_envs/predict_future_sales/lib/python3.12/site-packages/pandas/core/groupby/ops.py:919\u001b[0m, in \u001b[0;36mBaseGrouper.apply_groupwise\u001b[0;34m(self, f, data, axis)\u001b[0m\n\u001b[1;32m    917\u001b[0m \u001b[38;5;66;03m# group might be modified\u001b[39;00m\n\u001b[1;32m    918\u001b[0m group_axes \u001b[38;5;241m=\u001b[39m group\u001b[38;5;241m.\u001b[39maxes\n\u001b[0;32m--> 919\u001b[0m res \u001b[38;5;241m=\u001b[39m \u001b[43mf\u001b[49m\u001b[43m(\u001b[49m\u001b[43mgroup\u001b[49m\u001b[43m)\u001b[49m\n\u001b[1;32m    920\u001b[0m \u001b[38;5;28;01mif\u001b[39;00m \u001b[38;5;129;01mnot\u001b[39;00m mutated \u001b[38;5;129;01mand\u001b[39;00m \u001b[38;5;129;01mnot\u001b[39;00m _is_indexed_like(res, group_axes, axis):\n\u001b[1;32m    921\u001b[0m     mutated \u001b[38;5;241m=\u001b[39m \u001b[38;5;28;01mTrue\u001b[39;00m\n",
      "File \u001b[0;32m~/python_envs/predict_future_sales/lib/python3.12/site-packages/pandas/core/groupby/groupby.py:1413\u001b[0m, in \u001b[0;36mGroupBy._op_via_apply.<locals>.curried\u001b[0;34m(x)\u001b[0m\n\u001b[1;32m   1412\u001b[0m \u001b[38;5;28;01mdef\u001b[39;00m \u001b[38;5;21mcurried\u001b[39m(x):\n\u001b[0;32m-> 1413\u001b[0m     \u001b[38;5;28;01mreturn\u001b[39;00m \u001b[43mf\u001b[49m\u001b[43m(\u001b[49m\u001b[43mx\u001b[49m\u001b[43m,\u001b[49m\u001b[43m \u001b[49m\u001b[38;5;241;43m*\u001b[39;49m\u001b[43margs\u001b[49m\u001b[43m,\u001b[49m\u001b[43m \u001b[49m\u001b[38;5;241;43m*\u001b[39;49m\u001b[38;5;241;43m*\u001b[39;49m\u001b[43mkwargs\u001b[49m\u001b[43m)\u001b[49m\n",
      "File \u001b[0;32m~/python_envs/predict_future_sales/lib/python3.12/site-packages/pandas/core/series.py:2407\u001b[0m, in \u001b[0;36mSeries.unique\u001b[0;34m(self)\u001b[0m\n\u001b[1;32m   2344\u001b[0m \u001b[38;5;28;01mdef\u001b[39;00m \u001b[38;5;21munique\u001b[39m(\u001b[38;5;28mself\u001b[39m) \u001b[38;5;241m-\u001b[39m\u001b[38;5;241m>\u001b[39m ArrayLike:  \u001b[38;5;66;03m# pylint: disable=useless-parent-delegation\u001b[39;00m\n\u001b[1;32m   2345\u001b[0m \u001b[38;5;250m    \u001b[39m\u001b[38;5;124;03m\"\"\"\u001b[39;00m\n\u001b[1;32m   2346\u001b[0m \u001b[38;5;124;03m    Return unique values of Series object.\u001b[39;00m\n\u001b[1;32m   2347\u001b[0m \n\u001b[0;32m   (...)\u001b[0m\n\u001b[1;32m   2405\u001b[0m \u001b[38;5;124;03m    Categories (3, object): ['a' < 'b' < 'c']\u001b[39;00m\n\u001b[1;32m   2406\u001b[0m \u001b[38;5;124;03m    \"\"\"\u001b[39;00m\n\u001b[0;32m-> 2407\u001b[0m     \u001b[38;5;28;01mreturn\u001b[39;00m \u001b[38;5;28;43msuper\u001b[39;49m\u001b[43m(\u001b[49m\u001b[43m)\u001b[49m\u001b[38;5;241;43m.\u001b[39;49m\u001b[43munique\u001b[49m\u001b[43m(\u001b[49m\u001b[43m)\u001b[49m\n",
      "File \u001b[0;32m~/python_envs/predict_future_sales/lib/python3.12/site-packages/pandas/core/base.py:1025\u001b[0m, in \u001b[0;36mIndexOpsMixin.unique\u001b[0;34m(self)\u001b[0m\n\u001b[1;32m   1023\u001b[0m     result \u001b[38;5;241m=\u001b[39m values\u001b[38;5;241m.\u001b[39munique()\n\u001b[1;32m   1024\u001b[0m \u001b[38;5;28;01melse\u001b[39;00m:\n\u001b[0;32m-> 1025\u001b[0m     result \u001b[38;5;241m=\u001b[39m \u001b[43malgorithms\u001b[49m\u001b[38;5;241;43m.\u001b[39;49m\u001b[43munique1d\u001b[49m\u001b[43m(\u001b[49m\u001b[43mvalues\u001b[49m\u001b[43m)\u001b[49m\n\u001b[1;32m   1026\u001b[0m \u001b[38;5;28;01mreturn\u001b[39;00m result\n",
      "File \u001b[0;32m~/python_envs/predict_future_sales/lib/python3.12/site-packages/pandas/core/algorithms.py:401\u001b[0m, in \u001b[0;36munique\u001b[0;34m(values)\u001b[0m\n\u001b[1;32m    307\u001b[0m \u001b[38;5;28;01mdef\u001b[39;00m \u001b[38;5;21munique\u001b[39m(values):\n\u001b[1;32m    308\u001b[0m \u001b[38;5;250m    \u001b[39m\u001b[38;5;124;03m\"\"\"\u001b[39;00m\n\u001b[1;32m    309\u001b[0m \u001b[38;5;124;03m    Return unique values based on a hash table.\u001b[39;00m\n\u001b[1;32m    310\u001b[0m \n\u001b[0;32m   (...)\u001b[0m\n\u001b[1;32m    399\u001b[0m \u001b[38;5;124;03m    array([('a', 'b'), ('b', 'a'), ('a', 'c')], dtype=object)\u001b[39;00m\n\u001b[1;32m    400\u001b[0m \u001b[38;5;124;03m    \"\"\"\u001b[39;00m\n\u001b[0;32m--> 401\u001b[0m     \u001b[38;5;28;01mreturn\u001b[39;00m \u001b[43munique_with_mask\u001b[49m\u001b[43m(\u001b[49m\u001b[43mvalues\u001b[49m\u001b[43m)\u001b[49m\n",
      "File \u001b[0;32m~/python_envs/predict_future_sales/lib/python3.12/site-packages/pandas/core/algorithms.py:440\u001b[0m, in \u001b[0;36munique_with_mask\u001b[0;34m(values, mask)\u001b[0m\n\u001b[1;32m    438\u001b[0m table \u001b[38;5;241m=\u001b[39m hashtable(\u001b[38;5;28mlen\u001b[39m(values))\n\u001b[1;32m    439\u001b[0m \u001b[38;5;28;01mif\u001b[39;00m mask \u001b[38;5;129;01mis\u001b[39;00m \u001b[38;5;28;01mNone\u001b[39;00m:\n\u001b[0;32m--> 440\u001b[0m     uniques \u001b[38;5;241m=\u001b[39m \u001b[43mtable\u001b[49m\u001b[38;5;241;43m.\u001b[39;49m\u001b[43munique\u001b[49m\u001b[43m(\u001b[49m\u001b[43mvalues\u001b[49m\u001b[43m)\u001b[49m\n\u001b[1;32m    441\u001b[0m     uniques \u001b[38;5;241m=\u001b[39m _reconstruct_data(uniques, original\u001b[38;5;241m.\u001b[39mdtype, original)\n\u001b[1;32m    442\u001b[0m     \u001b[38;5;28;01mreturn\u001b[39;00m uniques\n",
      "\u001b[0;31mKeyboardInterrupt\u001b[0m: "
     ]
    }
   ],
   "source": [
    "category_super_category = whole.groupby('item_category_id')['super_category'].unique().reset_index()"
   ]
  },
  {
   "cell_type": "code",
   "execution_count": null,
   "id": "5b9dfae8-6ea4-4e9d-add6-92fc31f5ead7",
   "metadata": {},
   "outputs": [],
   "source": [
    "del whole\n",
    "gc.collect()"
   ]
  },
  {
   "cell_type": "code",
   "execution_count": null,
   "id": "f72ed41a-fe13-433b-aea7-ed08cdb5f62b",
   "metadata": {
    "editable": true,
    "slideshow": {
     "slide_type": ""
    },
    "tags": []
   },
   "outputs": [],
   "source": [
    "\n",
    "merged = create_item_shop_data(data_train)"
   ]
  },
  {
   "cell_type": "code",
   "execution_count": null,
   "id": "8cbee4d8-64d5-465b-81d7-54ace645891a",
   "metadata": {},
   "outputs": [],
   "source": [
    "merged"
   ]
  },
  {
   "cell_type": "code",
   "execution_count": null,
   "id": "ea689224-f2e8-4cee-8b31-bb92a8cdb804",
   "metadata": {
    "editable": true,
    "scrolled": true,
    "slideshow": {
     "slide_type": ""
    },
    "tags": []
   },
   "outputs": [],
   "source": [
    "\"\"\"\n",
    "import gc\n",
    "table_ema6_item = create_item_lag_table(merged,column='ema_6_item_cnt_month_item_id', whole=whole)\n",
    "table_ema6_item.to_csv('data/ema_6_item_cnt_month_item_id.csv', index=False)\n",
    "del table_ema6_item\n",
    "gc.collect()\n",
    "\n",
    "table_ema6_cat_shop = create_category_shop_lag_table(merged,column='ema_6_item_cnt_month_item_category_id_cat_shop_id', whole=whole)\n",
    "table_ema6_cat_shop.to_csv('data/ema_6_item_cnt_month_item_category_id_cat_shop_id.csv', index=False)\n",
    "del table_ema6_cat_shop\n",
    "gc.collect()\n",
    "\n",
    "table_item = create_item_lag_table(merged,column='date_block_num_diff', whole=whole)\n",
    "table_item.to_csv('data/shop_item_date_block_num_diff.csv', index=False)\n",
    "del table_item\n",
    "gc.collect()\n",
    "\n",
    "\n",
    "table_item_price = create_item_lag_table(merged,column='avg_item_priceitem_id_lag_1', whole=whole)\n",
    "table_item_price.to_csv('data/item_price.csv', index=False)\n",
    "\"\"\"\n",
    "table_item_price = pd.read_csv('data/item_price.csv')\n",
    "price_changes_items = create_change(table_item_price)\n",
    "price_changes_items.to_csv('data/item_price_change.csv', index=False)\n",
    "del table_item_price\n",
    "del price_changes_items\n",
    "gc.collect()\n",
    "\n",
    "#prices = create_item_shop_data(data_train, column='item_price')\n",
    "#prices.to_csv('data/shop_item_price.csv', index=False)\n",
    "\n",
    "prices = pd.read_csv('data/shop_item_price.csv')\n",
    "price_changes = create_change(prices)\n",
    "price_changes.to_csv('data/shop_item_price_change.csv', index=False)\n",
    "del price_changes\n",
    "del prices\n",
    "gc.collect()\n",
    "\n",
    "cnt_changes_items_shops = create_change(merged)\n",
    "cnt_changes_items_shops.to_csv('data/cnt_changes_items_shops.csv', index=False)\n",
    "del cnt_changes_items_shops\n",
    "gc.collect()\n",
    "\n",
    "#table_item_cnt = create_item_lag_table(merged,column='item_cnt_monthitem_id_lag_1',  whole=whole)\n",
    "#table_item_cnt.to_csv('data/item_cnt.csv', index=False)\n",
    "\n",
    "table_item_cnt = pd.read_csv('data/item_cnt.csv')\n",
    "cnt_changes_items = create_change(table_item_cnt)\n",
    "cnt_changes_items.to_csv('data/cnt_changes_items.csv', index=False)\n",
    "del cnt_changes_items\n",
    "del table_item_cnt\n",
    "gc.collect()\n",
    "\"\"\"\n",
    "table_category_cnt = create_category_lag_table(merged,\n",
    "                                                column='item_cnt_monthitem_category_id_cat_lag_1', \n",
    "                                                whole=whole)\n",
    "table_category_cnt.to_csv('data/category_cnt.csv', index=False)\n",
    "del table_category_cnt\n",
    "gc.collect()\n",
    "\n",
    "\n",
    "\n",
    "\n",
    "\n",
    "\n",
    "table_item_shop_cnt = merged\n",
    "\n",
    "table_ema6_cat_shop = od.read_csv('data/ema_6_item_cnt_month_item_category_id_cat_shop_id.csv')\n",
    "table_ema6_item=pd.read_csv('data/ema_6_item_cnt_month_item_id.csv')\n",
    "\n",
    "table_dbn_diff = pd.read_csv('data/shop_item_date_block_num_diff.csv')\n",
    "\n",
    "table_item_price  = pd.read_csv ('data/item_price.csv')\n",
    "table_item_price_changes = pd.read_csv('data/item_price_change.csv')\n",
    "\n",
    "table_item_shop_price = pd.read_csv('data/shop_item_price.csv')\n",
    "table_item_shop_price_changes  = pd.read_csv('data/shop_item_price_change.csv')\n",
    "\n",
    "table_cnt_changes_items_shops=pd.read_csv('data/cnt_changes_items_shops.csv')\n",
    "\n",
    "table_item_cnt = pd.read_csv('data/item_cnt.csv')\n",
    "table_cnt_changes_items = pd.read_csv('data/cnt_changes_items.csv')\n",
    "\n",
    "table_category_shop_cnt = pd.read_csv('data/shop_category_cnt.csv')\n",
    "\n",
    "\n",
    "\n",
    "\n",
    "\n",
    "\"\"\"\n"
   ]
  },
  {
   "cell_type": "code",
   "execution_count": null,
   "id": "67f6adfa-824d-4f08-9718-c6bdb9500e59",
   "metadata": {},
   "outputs": [],
   "source": [
    "merged=merged.merge(shop_city, on='shop_id', how='left')\n",
    "merged=merged.merge(category_super_category, on='item_category_id', how='left')\n",
    "merged['city'] = merged['city'].map(lambda a:a[0])\n",
    "merged['super_category'] = merged['super_category'].map(lambda a:a[0])"
   ]
  },
  {
   "cell_type": "code",
   "execution_count": null,
   "id": "2c12a643-8aab-408c-9ae5-c67f52accead",
   "metadata": {},
   "outputs": [],
   "source": [
    "names= [\n",
    "       'ema_6_item_cnt_month_item_category_id_cat_shop_id',\n",
    "       'ema_6_item_cnt_month_item_id',\n",
    "       'shop_item_date_block_num_diff',\n",
    "       'item_price',\n",
    "       'shop_item_price',\n",
    "       'item_price_change',\n",
    "       'shop_item_price_change',\n",
    "       'shop_category_cnt',\n",
    "       'cnt_changes_items',\n",
    "       'item_cnt',\n",
    "       'cnt_changes_items_shops',]\n",
    "\n",
    "#item_cnt\n",
    "#shop_category_cnt\n",
    "#"
   ]
  },
  {
   "cell_type": "code",
   "execution_count": 1,
   "id": "ac95cfc9-ef1e-441b-b77d-b6ead32a4b32",
   "metadata": {},
   "outputs": [
    {
     "name": "stdout",
     "output_type": "stream",
     "text": [
      "/home/valeriy/python_projects/predict_future_sales/validation\n"
     ]
    }
   ],
   "source": [
    "!pwd"
   ]
  },
  {
   "cell_type": "code",
   "execution_count": null,
   "id": "f3c98a01-2359-4510-abf8-85f50d23352d",
   "metadata": {},
   "outputs": [],
   "source": [
    "len(names)"
   ]
  },
  {
   "cell_type": "code",
   "execution_count": null,
   "id": "b8877a28-8c32-4792-af9b-55f6f5dea1a8",
   "metadata": {},
   "outputs": [],
   "source": [
    "import pandas as pd\n",
    "\n",
    "def rename_columns(df, name=None):\n",
    "    \n",
    "    new_columns = {}\n",
    "    for col in df.columns:\n",
    "        new_col = str(col)\n",
    "        if new_col in ['shop_id','item_id','item_category_id','super_category','city']:\n",
    "            continue\n",
    "\n",
    "        else:\n",
    "            #print(name)\n",
    "            #print(new_col)\n",
    "            new_col = name+new_col\n",
    "\n",
    "        \n",
    "        new_columns[col] = new_col\n",
    "    \n",
    "    #print(new_columns)\n",
    "    df.rename(columns=new_columns, inplace=True)\n",
    "    \n",
    "    #return df\n"
   ]
  },
  {
   "cell_type": "code",
   "execution_count": null,
   "id": "94e79e05-08f0-43d7-a450-b5bfd5d19310",
   "metadata": {},
   "outputs": [],
   "source": [
    "critical=['change','mean','ema']\n",
    "\n",
    "def merge_csvs(df0, names):\n",
    "    rename_columns(df0, 'shop_item_cnt')\n",
    "    for df_name in names:\n",
    "        df = pd.read_csv('data/'+df_name+'.csv')\n",
    "        print(sum(df.memory_usage()/10**6))\n",
    "        for i in range(FIRST_N_MONTH_TO_DROP):#exclude features where past can not be calculated\n",
    "            \n",
    "            if any(cr in df_name for cr in critical):\n",
    "                \n",
    "                df=df.drop(str(i), axis=1)\n",
    "        \n",
    "        rename_columns(df, df_name)\n",
    "        \n",
    "        df0 = pd.merge(df0, df, on=['shop_id','item_id','item_category_id'], how = 'left')\n",
    "        del df\n",
    "        gc.collect()\n",
    "\n",
    "    return df0"
   ]
  },
  {
   "cell_type": "code",
   "execution_count": null,
   "id": "92c5c1fb-64d2-4ac6-8c35-4af3a65d9b2a",
   "metadata": {
    "scrolled": true
   },
   "outputs": [],
   "source": [
    "\n",
    "merge_csvs(merged, names).to_csv('data/merged.csv', index=False)\n"
   ]
  },
  {
   "cell_type": "code",
   "execution_count": null,
   "id": "c26d53d6-71b9-4222-93cc-3d30fc14ddc3",
   "metadata": {},
   "outputs": [],
   "source": []
  },
  {
   "cell_type": "code",
   "execution_count": null,
   "id": "e0c14c75-8f96-4253-8dec-ad2d0997cc59",
   "metadata": {},
   "outputs": [],
   "source": []
  },
  {
   "cell_type": "code",
   "execution_count": null,
   "id": "84e19d69-45a7-498f-8652-82cab9b1a425",
   "metadata": {},
   "outputs": [],
   "source": []
  }
 ],
 "metadata": {
  "kernelspec": {
   "display_name": "Python 3 (ipykernel)",
   "language": "python",
   "name": "python3"
  },
  "language_info": {
   "codemirror_mode": {
    "name": "ipython",
    "version": 3
   },
   "file_extension": ".py",
   "mimetype": "text/x-python",
   "name": "python",
   "nbconvert_exporter": "python",
   "pygments_lexer": "ipython3",
   "version": "3.12.3"
  }
 },
 "nbformat": 4,
 "nbformat_minor": 5
}
