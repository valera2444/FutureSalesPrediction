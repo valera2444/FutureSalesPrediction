{
 "cells": [
  {
   "cell_type": "markdown",
   "id": "9f3bd5ab-1b80-40f2-ad9a-e1efa83c54a4",
   "metadata": {},
   "source": [
    "NOW WE TRAIN AND VALIDATE ON ALL (ITEM, SHOP) EVER SEEN IN DATA\n",
    "Shold be:\n",
    "train - all (item ,shop) previosly seen\n",
    "test - dot product of (item, shop) in current dbn\n",
    "\n",
    "Now it is as it should be"
   ]
  },
  {
   "cell_type": "code",
   "execution_count": 1,
   "id": "ac40a185-64d8-4d28-a915-b3cde54b3885",
   "metadata": {},
   "outputs": [],
   "source": [
    "FIRST_N_MONTH_TO_DROP = 6"
   ]
  },
  {
   "cell_type": "code",
   "execution_count": 2,
   "id": "bede2498-4640-4ca9-ad5d-85780789fffc",
   "metadata": {
    "editable": true,
    "slideshow": {
     "slide_type": ""
    },
    "tags": []
   },
   "outputs": [],
   "source": [
    "import numpy as np\n",
    "import pandas as pd\n",
    "\n",
    "import seaborn as sns\n",
    "from sklearn.preprocessing import TargetEncoder\n",
    "import gc\n",
    "\n",
    "import numba\n",
    "\n",
    "import matplotlib.pyplot as plt\n"
   ]
  },
  {
   "cell_type": "code",
   "execution_count": 3,
   "id": "37c379c8-e419-4c00-b08f-d423d6beb622",
   "metadata": {
    "scrolled": true
   },
   "outputs": [],
   "source": [
    "#!pip install torch"
   ]
  },
  {
   "cell_type": "code",
   "execution_count": 4,
   "id": "948a8252-32db-497d-8e5f-346c8814ec7a",
   "metadata": {},
   "outputs": [],
   "source": [
    "data_train = pd.read_csv('../data_cleaned/data_train.csv')\n",
    "item_categories = pd.read_csv('../data_cleaned/item_categories.csv')\n",
    "items = pd.read_csv('../data_cleaned/items.csv')\n",
    "shops = pd.read_csv('../data_cleaned/shops.csv')\n",
    "test = pd.read_csv('../data_cleaned/test.csv')\n",
    "test['date_block_num'] = 34\n",
    "data_train = data_train.merge(test, on=['item_id','shop_id','date_block_num'], how='outer').fillna(0)"
   ]
  },
  {
   "cell_type": "code",
   "execution_count": 5,
   "id": "86d2dd4c-b430-48ca-8551-1e32d91b347f",
   "metadata": {},
   "outputs": [],
   "source": [
    "\n",
    "\n",
    "data_train=data_train.reset_index()\n",
    "data_train = data_train.sort_values(by='date_block_num')\n",
    "train = data_train.copy()\n"
   ]
  },
  {
   "cell_type": "code",
   "execution_count": 6,
   "id": "eaff829c-ff90-4d23-b1e9-4aee04225681",
   "metadata": {},
   "outputs": [],
   "source": [
    "def create_change(table):\n",
    "    table=table.copy().fillna(0)\n",
    "    #cols = [col for col in table.columns if isinstance(col, int)]\n",
    "    cols = [col for col in table.columns if col.isdigit()]\n",
    "    #print(cols)\n",
    "    cols.sort()\n",
    "    result = table.copy()\n",
    "    for col in cols[1:]:\n",
    "    \n",
    "        result[col] = (table[col] / table[str(int(col)-1)] - 1) * 100\n",
    "        \n",
    "    result = result.replace([np.inf], 0)\n",
    "    result = result.replace([np.nan], 0)\n",
    "    return result\n",
    "        \n",
    "    "
   ]
  },
  {
   "cell_type": "code",
   "execution_count": 7,
   "id": "ba31ed0e-ab9b-4717-a94f-beb9bb33d3de",
   "metadata": {},
   "outputs": [],
   "source": [
    "import time\n",
    "def create_lag_table_general(data,column='item_cnt_monthitem_id_lag_1',\n",
    "                             whole=None,\n",
    "                             groupby = ['item_id'],\n",
    "                             item_shop_city_category_sup_category=None):#long - ~467s\n",
    "    #whole contains lagged, which means for dbn = 24 lag_1 calculated on 23\n",
    "    #(item cnt month for dbn==24 stored in lag_1 for dbn == 25 )\n",
    "    #to make whole same format as data, we need to whole['date_block_num']-=1\n",
    "    start = time.time()\n",
    "\n",
    "    whole=whole.copy()\n",
    "    new_table = data.copy()\n",
    "    if 'lag' in column:\n",
    "        whole['date_block_num'] -= 1\n",
    "        whole = whole[whole['date_block_num'] >= 0]\n",
    "\n",
    "    \n",
    "    groped_item = whole.groupby(['date_block_num',*groupby])[column].unique()\n",
    "    \n",
    "    print(groped_item.map(lambda a:a[0]).describe())\n",
    "\n",
    "    print(whole.date_block_num)\n",
    "    agg = 'mean'\n",
    "    df = pd.pivot_table(whole, \n",
    "                    index=groupby,\n",
    "                    columns=['date_block_num'],\n",
    "                    values=[column],\n",
    "                    aggfunc=agg, \n",
    "                    fill_value=0\n",
    "                   ).reset_index()\n",
    "\n",
    "    train = pd.DataFrame({col:df[col] for col in groupby})\n",
    "    \n",
    "    col = df[column]\n",
    "    \n",
    "    train = pd.concat([train,col], axis=1)\n",
    "\n",
    "    numerical = [col for col in new_table.columns if isinstance(col, int)]\n",
    "    numerical = [col for col in numerical if col < 34]\n",
    "    new_table = item_shop_city_category_sup_category.merge(train, how='left').fillna(0)\n",
    "    new_table = new_table[['shop_id','item_id', *numerical]]\n",
    "    print(new_table)\n",
    "    return new_table\n",
    "        "
   ]
  },
  {
   "cell_type": "code",
   "execution_count": 8,
   "id": "ea26035a-034a-403d-8c81-6f4c20b6466c",
   "metadata": {},
   "outputs": [],
   "source": [
    "def create_item_shop_data(data, column='item_cnt_day'):\n",
    "    if column == 'item_cnt_day':\n",
    "        agg = 'sum'\n",
    "    else:\n",
    "        agg='mean'\n",
    "    df = pd.pivot_table(data, \n",
    "                    index=['shop_id','item_id'],\n",
    "                    columns=['date_block_num'],\n",
    "                    values=[column],\n",
    "                    aggfunc=agg, \n",
    "                    fill_value=0\n",
    "                   ).reset_index()\n",
    "   # print(df)\n",
    "    train = pd.DataFrame({'shop_id':df['shop_id'], 'item_id':df['item_id']})\n",
    "    \n",
    "    item_cnt_day = df[column]\n",
    "    train = pd.concat([train,item_cnt_day], axis=1)\n",
    "    #print(items)\n",
    "    merged = train.merge(items, how='left').merge(item_categories, how='left').merge(shops, how='left') \\\n",
    "        .drop(['item_name','item_category_name','shop_name'], axis=1)\n",
    "\n",
    "    \n",
    "    return merged"
   ]
  },
  {
   "cell_type": "code",
   "execution_count": null,
   "id": "1678bf2a-5c3c-4cfd-9b88-f06492e21913",
   "metadata": {},
   "outputs": [],
   "source": [
    "whole = pd.read_csv('../data.csv')"
   ]
  },
  {
   "cell_type": "code",
   "execution_count": null,
   "id": "364e6035-a0aa-4cfc-9ca7-3693f8a9b558",
   "metadata": {},
   "outputs": [],
   "source": [
    "shop_city = whole.groupby('shop_id')['city'].unique().reset_index()"
   ]
  },
  {
   "cell_type": "code",
   "execution_count": null,
   "id": "a02391f4-84ac-4e23-9535-a7337d22574d",
   "metadata": {},
   "outputs": [],
   "source": []
  },
  {
   "cell_type": "code",
   "execution_count": null,
   "id": "e290ba85-9a49-4bce-b6f9-f99589e7d4ac",
   "metadata": {},
   "outputs": [],
   "source": [
    "category_super_category = whole.groupby('item_category_id')['super_category'].unique().reset_index()"
   ]
  },
  {
   "cell_type": "code",
   "execution_count": null,
   "id": "f72ed41a-fe13-433b-aea7-ed08cdb5f62b",
   "metadata": {
    "editable": true,
    "slideshow": {
     "slide_type": ""
    },
    "tags": []
   },
   "outputs": [],
   "source": [
    "\n",
    "merged = create_item_shop_data(data_train)"
   ]
  },
  {
   "cell_type": "code",
   "execution_count": null,
   "id": "c9daa239-5af2-4e41-b7ee-55cb396d2061",
   "metadata": {},
   "outputs": [],
   "source": []
  },
  {
   "cell_type": "code",
   "execution_count": null,
   "id": "41bb0489-b4df-41f6-8b55-d346a82a4ee7",
   "metadata": {
    "editable": true,
    "slideshow": {
     "slide_type": ""
    },
    "tags": []
   },
   "outputs": [],
   "source": [
    "def write_file_by_name(merged,column=None, whole=None, groupby=''):\n",
    "    time1 = time.time()\n",
    "    item_shop_city_category_sup_category = merged.merge(shop_city). \\\n",
    "    merge(category_super_category)[['shop_id',\t'item_id','item_category_id','city','super_category']]\n",
    "    \n",
    "    item_shop_city_category_sup_category['city'] = item_shop_city_category_sup_category['city'].map(lambda a:a[0])\n",
    "    item_shop_city_category_sup_category['super_category'] = item_shop_city_category_sup_category['super_category'].map(lambda a:a[0])\n",
    "\n",
    "    table_ema6_item = create_lag_table_general(merged,\n",
    "                                               column=column,\n",
    "                                               whole=whole,\n",
    "                                               groupby=groupby, \n",
    "                                               item_shop_city_category_sup_category=item_shop_city_category_sup_category)\n",
    "    \n",
    "    table_ema6_item.to_csv(f'data/{column}.csv', index=False)\n",
    "    del table_ema6_item\n",
    "    gc.collect()\n",
    "\n",
    "    print('time taken for',column,':', time.time() - time1  )"
   ]
  },
  {
   "cell_type": "code",
   "execution_count": null,
   "id": "337d7349-1fae-4532-861e-3920e182af73",
   "metadata": {
    "scrolled": true
   },
   "outputs": [],
   "source": [
    "whole.columns"
   ]
  },
  {
   "cell_type": "code",
   "execution_count": null,
   "id": "dacafb9a-7f31-46ae-bf10-99a4737d4c3c",
   "metadata": {
    "scrolled": true
   },
   "outputs": [],
   "source": [
    "\"\"\"\n",
    "write_file_by_name(merged,column='ema_6_item_cnt_month_item_id', whole=whole, groupby=['item_id'])\n",
    "#write_file_by_name(merged,column='ema_6_item_cnt_month_item_id_shop_id', whole=whole, groupby=['item_id','shop_id'])\n",
    "write_file_by_name(merged,column='ema_6_item_cnt_month_item_category_id_cat_city', whole=whole, groupby=['item_category_id','city'])\n",
    "write_file_by_name(merged,column='ema_6_item_cnt_month_item_category_id_cat_shop_id', whole=whole, groupby=['item_category_id','shop_id'])\n",
    "\n",
    "write_file_by_name(merged,column='date_block_num_diff', whole=whole, groupby=['item_id'])\n",
    "write_file_by_name(merged,column='avg_item_priceitem_id_lag_1', whole=whole, groupby=['item_id'])\n",
    "write_file_by_name(merged,column='item_cnt_monthitem_category_id_cat_lag_1', whole=whole, groupby=['item_category_id'])\n",
    "write_file_by_name(merged,column='avg_item_price', whole=whole, groupby=['item_id','shop_id'])\n",
    "write_file_by_name(merged,column='item_cnt_month_lag_1', whole=whole, groupby=['item_id'])\n",
    "\"\"\""
   ]
  },
  {
   "cell_type": "code",
   "execution_count": null,
   "id": "3ce6b98b-e540-4ac6-b767-2c3fb26f8f4c",
   "metadata": {},
   "outputs": [],
   "source": [
    "#pr[pr['0'] != 0]['0'].describe()\n",
    "#whole[whole['date_block_num'] == 0][['shop_id', 'item_id','avg_item_price']].describe()"
   ]
  },
  {
   "cell_type": "code",
   "execution_count": null,
   "id": "19205ef9-e601-4298-866b-e4002c349e42",
   "metadata": {},
   "outputs": [],
   "source": []
  },
  {
   "cell_type": "code",
   "execution_count": null,
   "id": "ea689224-f2e8-4cee-8b31-bb92a8cdb804",
   "metadata": {
    "editable": true,
    "scrolled": true,
    "slideshow": {
     "slide_type": ""
    },
    "tags": []
   },
   "outputs": [],
   "source": [
    "\n",
    "table_item_price = pd.read_csv('data/avg_item_priceitem_id_lag_1.csv')\n",
    "price_changes_items = create_change(table_item_price)\n",
    "price_changes_items.to_csv('data/item_price_change.csv', index=False)\n",
    "del table_item_price\n",
    "del price_changes_items\n",
    "gc.collect()\n",
    "\n",
    "prices = pd.read_csv('data/avg_item_price.csv')\n",
    "price_changes = create_change(prices)\n",
    "price_changes.to_csv('data/shop_item_price_change.csv', index=False)\n",
    "del price_changes\n",
    "del prices\n",
    "gc.collect()\n",
    "\"\"\"\n",
    "cnt_changes_items_shops = create_change(merged)\n",
    "cnt_changes_items_shops.to_csv('data/cnt_changes_items_shops.csv', index=False)\n",
    "del cnt_changes_items_shops\n",
    "gc.collect()\n",
    "\n",
    "\n",
    "table_item_cnt = pd.read_csv('data/item_cnt_month_lag_1.csv')\n",
    "cnt_changes_items = create_change(table_item_cnt)\n",
    "cnt_changes_items.to_csv('data/cnt_changes_items.csv', index=False)\n",
    "del cnt_changes_items\n",
    "del table_item_cnt\n",
    "gc.collect()\n",
    "\n",
    "\"\"\""
   ]
  },
  {
   "cell_type": "code",
   "execution_count": null,
   "id": "67f6adfa-824d-4f08-9718-c6bdb9500e59",
   "metadata": {},
   "outputs": [],
   "source": [
    "merged=merged.merge(shop_city, on='shop_id', how='left')\n",
    "merged=merged.merge(category_super_category, on='item_category_id', how='left')\n",
    "merged['city'] = merged['city'].map(lambda a:a[0])\n",
    "merged['super_category'] = merged['super_category'].map(lambda a:a[0])"
   ]
  },
  {
   "cell_type": "code",
   "execution_count": null,
   "id": "bad6c33c-a04a-4ce1-896f-c93736c1fc55",
   "metadata": {},
   "outputs": [],
   "source": [
    "names_base = ['ema_6_item_cnt_month_item_id',\n",
    "             'ema_6_item_cnt_month_item_id_shop_id',\n",
    "             'ema_6_item_cnt_month_item_category_id_cat_city',\n",
    "             'ema_6_item_cnt_month_item_category_id_cat_shop_id',\n",
    "             'date_block_num_diff',\n",
    "            'avg_item_priceitem_id_lag_1',\n",
    "            'item_cnt_monthitem_category_id_cat_lag_1',\n",
    "            'item_cnt_month_lag_1',\n",
    "             'avg_item_price']\n",
    "#Lag in a name left from columns name; Value for curr month stored in validation/data"
   ]
  },
  {
   "cell_type": "code",
   "execution_count": null,
   "id": "63abde7f-1214-4f30-bee3-bb117af41418",
   "metadata": {},
   "outputs": [],
   "source": [
    "names_changed = ['item_price_change','shop_item_price_change']"
   ]
  },
  {
   "cell_type": "code",
   "execution_count": null,
   "id": "2c12a643-8aab-408c-9ae5-c67f52accead",
   "metadata": {},
   "outputs": [],
   "source": [
    "names= names_base + names_changed"
   ]
  },
  {
   "cell_type": "code",
   "execution_count": null,
   "id": "f3c98a01-2359-4510-abf8-85f50d23352d",
   "metadata": {},
   "outputs": [],
   "source": [
    "len(names)"
   ]
  },
  {
   "cell_type": "code",
   "execution_count": null,
   "id": "6b73e77b-a825-4fff-8f19-f9c3b61010ee",
   "metadata": {},
   "outputs": [],
   "source": [
    "names"
   ]
  },
  {
   "cell_type": "code",
   "execution_count": null,
   "id": "b8877a28-8c32-4792-af9b-55f6f5dea1a8",
   "metadata": {},
   "outputs": [],
   "source": [
    "import pandas as pd\n",
    "\n",
    "def rename_columns(df, name=None):\n",
    "    \n",
    "    new_columns = {}\n",
    "    for col in df.columns:\n",
    "        new_col = str(col)\n",
    "        if new_col in ['shop_id','item_id','item_category_id','super_category','city']:\n",
    "            continue\n",
    "\n",
    "        else:\n",
    "            #print(name)\n",
    "            #print(new_col)\n",
    "            new_col = name+'$'+new_col\n",
    "\n",
    "        \n",
    "        new_columns[col] = new_col\n",
    "    \n",
    "    #print(new_columns)\n",
    "    df.rename(columns=new_columns, inplace=True)\n",
    "    \n",
    "    #return df\n"
   ]
  },
  {
   "cell_type": "code",
   "execution_count": null,
   "id": "94e79e05-08f0-43d7-a450-b5bfd5d19310",
   "metadata": {},
   "outputs": [],
   "source": [
    "critical=['change','mean','ema']\n",
    "\n",
    "def merge_csvs_boosting(df0, names):\n",
    "    \n",
    "    rename_columns(df0, 'shop_item_cnt')\n",
    "    for df_name in names:\n",
    "        df = pd.read_csv('data/'+df_name+'.csv')\n",
    "        print(sum(df.memory_usage()/10**6))\n",
    "\n",
    "        \n",
    "        for i in range(FIRST_N_MONTH_TO_DROP):#exclude features where past can not be calculated\n",
    "            \n",
    "            if any(cr in df_name for cr in critical):\n",
    "                \n",
    "                df=df.drop(str(i), axis=1)\n",
    "        \n",
    "        rename_columns(df, df_name)\n",
    "        \n",
    "        df0 = pd.merge(df0, df, on=['shop_id','item_id'], how = 'left')\n",
    "        del df\n",
    "        gc.collect()\n",
    "\n",
    "    return df0\n",
    "\n",
    "names_boosting =['ema_6_item_cnt_month_item_id',\n",
    "                 'ema_6_item_cnt_month_item_id_shop_id',\n",
    "                 'ema_6_item_cnt_month_item_category_id_cat_city',\n",
    "                 'ema_6_item_cnt_month_item_category_id_cat_shop_id',\n",
    "                 'date_block_num_diff',\n",
    "                 'avg_item_priceitem_id_lag_1',\n",
    "                 'item_cnt_monthitem_category_id_cat_lag_1',\n",
    "                 'item_cnt_month_lag_1',\n",
    "                 #'avg_item_price',\n",
    "                 'item_price_change']\n",
    "\n",
    "\n",
    "merge_csvs_boosting(merged, names_boosting).to_csv('data/merged.csv', index=False)"
   ]
  },
  {
   "cell_type": "code",
   "execution_count": null,
   "id": "9a54d21d-5c0e-41ef-a55e-3ebebe23835d",
   "metadata": {},
   "outputs": [],
   "source": [
    "\n",
    "def merge_csvs_LSTM(df0, names):\n",
    "    \n",
    "    df0=df0.drop(0, axis=1)\n",
    "    \n",
    "    rename_columns(df0, 'shop_item_cnt')\n",
    "    for df_name in names:\n",
    "        df = pd.read_csv('data/'+df_name+'.csv')\n",
    "        print(sum(df.memory_usage()/10**6))\n",
    "\n",
    "        df=df.drop(str(0), axis=1)\n",
    "    \n",
    "        rename_columns(df, df_name)\n",
    "        \n",
    "        df0 = pd.merge(df0, df, on=['shop_id','item_id'], how = 'left')\n",
    "        del df\n",
    "        gc.collect()\n",
    "\n",
    "    return df0\n",
    "\n",
    "names_LSTM = ['avg_item_price']\n",
    "\n",
    "\n",
    "    \n",
    "merge_csvs_LSTM(merged, names_LSTM).to_csv('data/merged.csv', index=False)"
   ]
  },
  {
   "cell_type": "code",
   "execution_count": 24,
   "id": "d62da784-26cb-4c3a-a37e-cfa2463c67bc",
   "metadata": {},
   "outputs": [
    {
     "name": "stdout",
     "output_type": "stream",
     "text": [
      "150.22410000000002\n"
     ]
    }
   ],
   "source": []
  },
  {
   "cell_type": "code",
   "execution_count": null,
   "id": "ccbbeb40-0cb6-48b3-8409-9166efd56e01",
   "metadata": {},
   "outputs": [],
   "source": []
  }
 ],
 "metadata": {
  "kernelspec": {
   "display_name": "Python 3 (ipykernel)",
   "language": "python",
   "name": "python3"
  },
  "language_info": {
   "codemirror_mode": {
    "name": "ipython",
    "version": 3
   },
   "file_extension": ".py",
   "mimetype": "text/x-python",
   "name": "python",
   "nbconvert_exporter": "python",
   "pygments_lexer": "ipython3",
   "version": "3.12.3"
  }
 },
 "nbformat": 4,
 "nbformat_minor": 5
}
