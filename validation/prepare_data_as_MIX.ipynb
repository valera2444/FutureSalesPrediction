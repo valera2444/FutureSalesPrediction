{
 "cells": [
  {
   "cell_type": "markdown",
   "id": "9f3bd5ab-1b80-40f2-ad9a-e1efa83c54a4",
   "metadata": {},
   "source": [
    "NOW WE TRAIN AND VALIDATE ON ALL (ITEM, SHOP) EVER SEEN IN DATA\n",
    "Shold be:\n",
    "train - all (item ,shop) previosly seen\n",
    "test - dot product of (item, shop) in current dbn\n",
    "\n",
    "Now it is as it should be"
   ]
  },
  {
   "cell_type": "code",
   "execution_count": 1,
   "id": "ac40a185-64d8-4d28-a915-b3cde54b3885",
   "metadata": {},
   "outputs": [],
   "source": [
    "FIRST_N_MONTH_TO_DROP = 6"
   ]
  },
  {
   "cell_type": "code",
   "execution_count": 2,
   "id": "bede2498-4640-4ca9-ad5d-85780789fffc",
   "metadata": {
    "editable": true,
    "slideshow": {
     "slide_type": ""
    },
    "tags": []
   },
   "outputs": [],
   "source": [
    "import numpy as np\n",
    "import pandas as pd\n",
    "\n",
    "import seaborn as sns\n",
    "from sklearn.preprocessing import TargetEncoder\n",
    "import gc\n",
    "\n",
    "import numba\n",
    "\n",
    "import matplotlib.pyplot as plt\n"
   ]
  },
  {
   "cell_type": "code",
   "execution_count": 3,
   "id": "37c379c8-e419-4c00-b08f-d423d6beb622",
   "metadata": {
    "scrolled": true
   },
   "outputs": [],
   "source": [
    "#!pip install torch"
   ]
  },
  {
   "cell_type": "code",
   "execution_count": 4,
   "id": "948a8252-32db-497d-8e5f-346c8814ec7a",
   "metadata": {},
   "outputs": [],
   "source": [
    "data_train = pd.read_csv('../data_cleaned/data_train.csv')\n",
    "item_categories = pd.read_csv('../data_cleaned/item_categories.csv')\n",
    "items = pd.read_csv('../data_cleaned/items.csv')\n",
    "shops = pd.read_csv('../data_cleaned/shops.csv')\n",
    "test = pd.read_csv('../data_cleaned/test.csv')\n",
    "test['date_block_num'] = 34\n",
    "data_train = data_train.merge(test, on=['item_id','shop_id','date_block_num'], how='outer').fillna(0)"
   ]
  },
  {
   "cell_type": "code",
   "execution_count": 5,
   "id": "86d2dd4c-b430-48ca-8551-1e32d91b347f",
   "metadata": {},
   "outputs": [],
   "source": [
    "\n",
    "\n",
    "data_train=data_train.reset_index()\n",
    "data_train = data_train.sort_values(by='date_block_num')\n",
    "train = data_train.copy()\n"
   ]
  },
  {
   "cell_type": "code",
   "execution_count": 6,
   "id": "eaff829c-ff90-4d23-b1e9-4aee04225681",
   "metadata": {},
   "outputs": [],
   "source": [
    "def create_change(table):\n",
    "    table=table.copy().fillna(0)\n",
    "    #cols = [col for col in table.columns if isinstance(col, int)]\n",
    "    cols = [col for col in table.columns if col.isdigit()]\n",
    "    #print(cols)\n",
    "    cols.sort()\n",
    "    result = table.copy()\n",
    "    for col in cols[1:]:\n",
    "    \n",
    "        result[col] = (table[col] / table[str(int(col)-1)] - 1) * 100\n",
    "        \n",
    "    result = result.replace([np.inf], 0)\n",
    "    result = result.replace([np.nan], 0)\n",
    "    return result\n",
    "        \n",
    "    "
   ]
  },
  {
   "cell_type": "code",
   "execution_count": 7,
   "id": "ba31ed0e-ab9b-4717-a94f-beb9bb33d3de",
   "metadata": {},
   "outputs": [],
   "source": [
    "import time\n",
    "def create_lag_table_general(data,column='item_cnt_monthitem_id_lag_1',\n",
    "                             whole=None,\n",
    "                             groupby = ['item_id'],\n",
    "                             item_shop_city_category_sup_category=None):#long - ~467s\n",
    "    #whole contains lagged, which means for dbn = 24 lag_1 calculated on 23\n",
    "    #(item cnt month for dbn==24 stored in lag_1 for dbn == 25 )\n",
    "    #to make whole same format as data, we need to whole['date_block_num']-=1\n",
    "    start = time.time()\n",
    "\n",
    "    whole=whole.copy()\n",
    "    new_table = data.copy()\n",
    "    if 'lag' in column:\n",
    "        whole['date_block_num'] -= 1\n",
    "        whole = whole[whole['date_block_num'] >= 0]\n",
    "\n",
    "    \n",
    "    groped_item = whole.groupby(['date_block_num',*groupby])[column].unique()\n",
    "    \n",
    "    print(groped_item.map(lambda a:a[0]).describe())\n",
    "\n",
    "    print(whole.date_block_num)\n",
    "    agg = 'mean'\n",
    "    df = pd.pivot_table(whole, \n",
    "                    index=groupby,\n",
    "                    columns=['date_block_num'],\n",
    "                    values=[column],\n",
    "                    aggfunc=agg, \n",
    "                    fill_value=0\n",
    "                   ).reset_index()\n",
    "\n",
    "    train = pd.DataFrame({col:df[col] for col in groupby})\n",
    "    \n",
    "    col = df[column]\n",
    "    \n",
    "    train = pd.concat([train,col], axis=1)\n",
    "\n",
    "    numerical = [col for col in new_table.columns if isinstance(col, int)]\n",
    "    numerical = [col for col in numerical if col < 34]\n",
    "    new_table = item_shop_city_category_sup_category.merge(train, how='left').fillna(0)\n",
    "    new_table = new_table[['shop_id','item_id', *numerical]]\n",
    "    print(new_table)\n",
    "    return new_table\n",
    "        "
   ]
  },
  {
   "cell_type": "code",
   "execution_count": 8,
   "id": "ea26035a-034a-403d-8c81-6f4c20b6466c",
   "metadata": {},
   "outputs": [],
   "source": [
    "def create_item_shop_data(data, column='item_cnt_day'):\n",
    "    if column == 'item_cnt_day':\n",
    "        agg = 'sum'\n",
    "    else:\n",
    "        agg='mean'\n",
    "    df = pd.pivot_table(data, \n",
    "                    index=['shop_id','item_id'],\n",
    "                    columns=['date_block_num'],\n",
    "                    values=[column],\n",
    "                    aggfunc=agg, \n",
    "                    fill_value=0\n",
    "                   ).reset_index()\n",
    "   # print(df)\n",
    "    train = pd.DataFrame({'shop_id':df['shop_id'], 'item_id':df['item_id']})\n",
    "    \n",
    "    item_cnt_day = df[column]\n",
    "    train = pd.concat([train,item_cnt_day], axis=1)\n",
    "    #print(items)\n",
    "    merged = train.merge(items, how='left').merge(item_categories, how='left').merge(shops, how='left') \\\n",
    "        .drop(['item_name','item_category_name','shop_name'], axis=1)\n",
    "\n",
    "    merged.columns = [str(col) for col in merged.columns]\n",
    "    return merged"
   ]
  },
  {
   "cell_type": "code",
   "execution_count": 9,
   "id": "1678bf2a-5c3c-4cfd-9b88-f06492e21913",
   "metadata": {},
   "outputs": [],
   "source": [
    "whole = pd.read_csv('../data.csv')"
   ]
  },
  {
   "cell_type": "code",
   "execution_count": 10,
   "id": "364e6035-a0aa-4cfc-9ca7-3693f8a9b558",
   "metadata": {},
   "outputs": [],
   "source": [
    "shop_city = whole.groupby('shop_id')['city'].unique().reset_index()"
   ]
  },
  {
   "cell_type": "code",
   "execution_count": null,
   "id": "a02391f4-84ac-4e23-9535-a7337d22574d",
   "metadata": {},
   "outputs": [],
   "source": []
  },
  {
   "cell_type": "code",
   "execution_count": 11,
   "id": "e290ba85-9a49-4bce-b6f9-f99589e7d4ac",
   "metadata": {},
   "outputs": [],
   "source": [
    "category_super_category = whole.groupby('item_category_id')['super_category'].unique().reset_index()"
   ]
  },
  {
   "cell_type": "code",
   "execution_count": 12,
   "id": "f72ed41a-fe13-433b-aea7-ed08cdb5f62b",
   "metadata": {
    "editable": true,
    "slideshow": {
     "slide_type": ""
    },
    "tags": []
   },
   "outputs": [],
   "source": [
    "\n",
    "merged = create_item_shop_data(data_train)"
   ]
  },
  {
   "cell_type": "code",
   "execution_count": 13,
   "id": "c9daa239-5af2-4e41-b7ee-55cb396d2061",
   "metadata": {},
   "outputs": [
    {
     "data": {
      "text/plain": [
       "Index(['shop_id', 'item_id', '0', '1', '2', '3', '4', '5', '6', '7', '8', '9',\n",
       "       '10', '11', '12', '13', '14', '15', '16', '17', '18', '19', '20', '21',\n",
       "       '22', '23', '24', '25', '26', '27', '28', '29', '30', '31', '32', '33',\n",
       "       '34', 'item_category_id'],\n",
       "      dtype='object')"
      ]
     },
     "execution_count": 13,
     "metadata": {},
     "output_type": "execute_result"
    }
   ],
   "source": [
    "merged.columns"
   ]
  },
  {
   "cell_type": "code",
   "execution_count": 14,
   "id": "41bb0489-b4df-41f6-8b55-d346a82a4ee7",
   "metadata": {
    "editable": true,
    "slideshow": {
     "slide_type": ""
    },
    "tags": []
   },
   "outputs": [],
   "source": [
    "def write_file_by_name(merged,column=None, whole=None, groupby=''):\n",
    "    time1 = time.time()\n",
    "    item_shop_city_category_sup_category = merged.merge(shop_city). \\\n",
    "    merge(category_super_category)[['shop_id',\t'item_id','item_category_id','city','super_category']]\n",
    "    \n",
    "    item_shop_city_category_sup_category['city'] = item_shop_city_category_sup_category['city'].map(lambda a:a[0])\n",
    "    item_shop_city_category_sup_category['super_category'] = item_shop_city_category_sup_category['super_category'].map(lambda a:a[0])\n",
    "\n",
    "    table_ema6_item = create_lag_table_general(merged,\n",
    "                                               column=column,\n",
    "                                               whole=whole,\n",
    "                                               groupby=groupby, \n",
    "                                               item_shop_city_category_sup_category=item_shop_city_category_sup_category)\n",
    "    \n",
    "    table_ema6_item.to_csv(f'data/{column}.csv', index=False)\n",
    "    del table_ema6_item\n",
    "    gc.collect()\n",
    "\n",
    "    print('time taken for',column,':', time.time() - time1  )"
   ]
  },
  {
   "cell_type": "code",
   "execution_count": 15,
   "id": "337d7349-1fae-4532-861e-3920e182af73",
   "metadata": {
    "scrolled": true
   },
   "outputs": [
    {
     "data": {
      "text/plain": [
       "Index(['Unnamed: 0', 'shop_id', 'item_id', 'date_block_num', 'avg_item_price',\n",
       "       'item_cnt_month', 'item_name', 'item_category_id', 'item_category_name',\n",
       "       'shop_name', 'month', 'year', 'super_category', 'city', 'shop_id_cat',\n",
       "       'item_id_cat', 'item_category_id_cat', 'ema_6_item_cnt_month_item_id',\n",
       "       'ema_6_item_cnt_month_item_id_city',\n",
       "       'ema_6_item_cnt_month_item_category_id_cat_shop_id',\n",
       "       'ema_6_item_cnt_month_item_category_id_cat_city',\n",
       "       'ema_6_item_cnt_month_item_id_shop_id', 'item_cnt_month_lag_1',\n",
       "       'item_cnt_month_lag_2', 'item_cnt_month_lag_3', 'item_cnt_month_lag_4',\n",
       "       'item_cnt_month_lag_5', 'item_cnt_month_lag_6', 'avg_item_price_lag_1',\n",
       "       'item_cnt_monthitem_id_lag_1', 'item_cnt_monthitem_id_lag_2',\n",
       "       'item_cnt_monthitem_id_lag_3', 'item_cnt_monthitem_id_lag_4',\n",
       "       'item_cnt_monthitem_id_lag_5', 'item_cnt_monthitem_id_lag_6',\n",
       "       'avg_item_priceitem_id_lag_1', 'item_cnt_monthshop_id_lag_1',\n",
       "       'item_cnt_monthshop_id_lag_2', 'item_cnt_monthshop_id_lag_3',\n",
       "       'item_cnt_monthshop_id_lag_4', 'item_cnt_monthshop_id_lag_5',\n",
       "       'item_cnt_monthshop_id_lag_6', 'avg_item_priceshop_id_lag_1',\n",
       "       'item_cnt_monthitem_category_id_cat_shop_id_lag_1',\n",
       "       'item_cnt_monthitem_category_id_cat_shop_id_lag_2',\n",
       "       'item_cnt_monthitem_category_id_cat_shop_id_lag_3',\n",
       "       'item_cnt_monthitem_category_id_cat_shop_id_lag_4',\n",
       "       'item_cnt_monthitem_category_id_cat_shop_id_lag_5',\n",
       "       'item_cnt_monthitem_category_id_cat_shop_id_lag_6',\n",
       "       'avg_item_priceitem_category_id_cat_shop_id_lag_1',\n",
       "       'item_cnt_monthitem_category_id_cat_lag_1',\n",
       "       'item_cnt_monthitem_category_id_cat_lag_2',\n",
       "       'item_cnt_monthitem_category_id_cat_lag_3',\n",
       "       'item_cnt_monthitem_category_id_cat_lag_4',\n",
       "       'item_cnt_monthitem_category_id_cat_lag_5',\n",
       "       'item_cnt_monthitem_category_id_cat_lag_6',\n",
       "       'avg_item_priceitem_category_id_cat_lag_1', 'first_date_block_num',\n",
       "       'date_block_num_diff'],\n",
       "      dtype='object')"
      ]
     },
     "execution_count": 15,
     "metadata": {},
     "output_type": "execute_result"
    }
   ],
   "source": [
    "whole.columns"
   ]
  },
  {
   "cell_type": "code",
   "execution_count": 15,
   "id": "dacafb9a-7f31-46ae-bf10-99a4737d4c3c",
   "metadata": {
    "scrolled": true
   },
   "outputs": [
    {
     "data": {
      "text/plain": [
       "\"\\nwrite_file_by_name(merged,column='ema_6_item_cnt_month_item_id', whole=whole, groupby=['item_id'])\\n#write_file_by_name(merged,column='ema_6_item_cnt_month_item_id_shop_id', whole=whole, groupby=['item_id','shop_id'])\\nwrite_file_by_name(merged,column='ema_6_item_cnt_month_item_category_id_cat_city', whole=whole, groupby=['item_category_id','city'])\\nwrite_file_by_name(merged,column='ema_6_item_cnt_month_item_category_id_cat_shop_id', whole=whole, groupby=['item_category_id','shop_id'])\\n\\nwrite_file_by_name(merged,column='date_block_num_diff', whole=whole, groupby=['item_id'])\\nwrite_file_by_name(merged,column='avg_item_priceitem_id_lag_1', whole=whole, groupby=['item_id'])\\nwrite_file_by_name(merged,column='item_cnt_monthitem_category_id_cat_lag_1', whole=whole, groupby=['item_category_id'])\\nwrite_file_by_name(merged,column='avg_item_price', whole=whole, groupby=['item_id','shop_id'])\\nwrite_file_by_name(merged,column='item_cnt_month_lag_1', whole=whole, groupby=['item_id'])\\n\""
      ]
     },
     "execution_count": 15,
     "metadata": {},
     "output_type": "execute_result"
    }
   ],
   "source": [
    "\"\"\"\n",
    "write_file_by_name(merged,column='ema_6_item_cnt_month_item_id', whole=whole, groupby=['item_id'])\n",
    "#write_file_by_name(merged,column='ema_6_item_cnt_month_item_id_shop_id', whole=whole, groupby=['item_id','shop_id'])\n",
    "write_file_by_name(merged,column='ema_6_item_cnt_month_item_category_id_cat_city', whole=whole, groupby=['item_category_id','city'])\n",
    "write_file_by_name(merged,column='ema_6_item_cnt_month_item_category_id_cat_shop_id', whole=whole, groupby=['item_category_id','shop_id'])\n",
    "\n",
    "write_file_by_name(merged,column='date_block_num_diff', whole=whole, groupby=['item_id'])\n",
    "write_file_by_name(merged,column='avg_item_priceitem_id_lag_1', whole=whole, groupby=['item_id'])\n",
    "write_file_by_name(merged,column='item_cnt_monthitem_category_id_cat_lag_1', whole=whole, groupby=['item_category_id'])\n",
    "write_file_by_name(merged,column='avg_item_price', whole=whole, groupby=['item_id','shop_id'])\n",
    "write_file_by_name(merged,column='item_cnt_month_lag_1', whole=whole, groupby=['item_id'])\n",
    "\"\"\""
   ]
  },
  {
   "cell_type": "code",
   "execution_count": 16,
   "id": "3ce6b98b-e540-4ac6-b767-2c3fb26f8f4c",
   "metadata": {},
   "outputs": [],
   "source": [
    "#pr[pr['0'] != 0]['0'].describe()\n",
    "#whole[whole['date_block_num'] == 0][['shop_id', 'item_id','avg_item_price']].describe()"
   ]
  },
  {
   "cell_type": "code",
   "execution_count": null,
   "id": "19205ef9-e601-4298-866b-e4002c349e42",
   "metadata": {},
   "outputs": [],
   "source": []
  },
  {
   "cell_type": "code",
   "execution_count": 17,
   "id": "ea689224-f2e8-4cee-8b31-bb92a8cdb804",
   "metadata": {
    "editable": true,
    "scrolled": true,
    "slideshow": {
     "slide_type": ""
    },
    "tags": []
   },
   "outputs": [
    {
     "data": {
      "text/plain": [
       "\"\\ntable_item_price = pd.read_csv('data/avg_item_priceitem_id_lag_1.csv')\\nprice_changes_items = create_change(table_item_price)\\nprice_changes_items.to_csv('data/item_price_change.csv', index=False)\\ndel table_item_price\\ndel price_changes_items\\ngc.collect()\\n\\nprices = pd.read_csv('data/avg_item_price.csv')\\nprice_changes = create_change(prices)\\nprice_changes.to_csv('data/shop_item_price_change.csv', index=False)\\ndel price_changes\\ndel prices\\ngc.collect()\\n\\ncnt_changes_items_shops = create_change(merged)\\ncnt_changes_items_shops.to_csv('data/cnt_changes_items_shops.csv', index=False)\\ndel cnt_changes_items_shops\\ngc.collect()\\n\\n\\ntable_item_cnt = pd.read_csv('data/item_cnt_month_lag_1.csv')\\ncnt_changes_items = create_change(table_item_cnt)\\ncnt_changes_items.to_csv('data/cnt_changes_items.csv', index=False)\\ndel cnt_changes_items\\ndel table_item_cnt\\ngc.collect()\\n\\n\""
      ]
     },
     "execution_count": 17,
     "metadata": {},
     "output_type": "execute_result"
    }
   ],
   "source": [
    "\"\"\"\n",
    "table_item_price = pd.read_csv('data/avg_item_priceitem_id_lag_1.csv')\n",
    "price_changes_items = create_change(table_item_price)\n",
    "price_changes_items.to_csv('data/item_price_change.csv', index=False)\n",
    "del table_item_price\n",
    "del price_changes_items\n",
    "gc.collect()\n",
    "\n",
    "prices = pd.read_csv('data/avg_item_price.csv')\n",
    "price_changes = create_change(prices)\n",
    "price_changes.to_csv('data/shop_item_price_change.csv', index=False)\n",
    "del price_changes\n",
    "del prices\n",
    "gc.collect()\n",
    "\n",
    "cnt_changes_items_shops = create_change(merged)\n",
    "cnt_changes_items_shops.to_csv('data/cnt_changes_items_shops.csv', index=False)\n",
    "del cnt_changes_items_shops\n",
    "gc.collect()\n",
    "\n",
    "\n",
    "table_item_cnt = pd.read_csv('data/item_cnt_month_lag_1.csv')\n",
    "cnt_changes_items = create_change(table_item_cnt)\n",
    "cnt_changes_items.to_csv('data/cnt_changes_items.csv', index=False)\n",
    "del cnt_changes_items\n",
    "del table_item_cnt\n",
    "gc.collect()\n",
    "\n",
    "\"\"\""
   ]
  },
  {
   "cell_type": "code",
   "execution_count": 16,
   "id": "67f6adfa-824d-4f08-9718-c6bdb9500e59",
   "metadata": {},
   "outputs": [],
   "source": [
    "merged=merged.merge(shop_city, on='shop_id', how='left')\n",
    "merged=merged.merge(category_super_category, on='item_category_id', how='left')\n",
    "merged['city'] = merged['city'].map(lambda a:a[0])\n",
    "merged['super_category'] = merged['super_category'].map(lambda a:a[0])"
   ]
  },
  {
   "cell_type": "code",
   "execution_count": 19,
   "id": "bad6c33c-a04a-4ce1-896f-c93736c1fc55",
   "metadata": {},
   "outputs": [],
   "source": [
    "names_base = ['ema_6_item_cnt_month_item_id',\n",
    "             'ema_6_item_cnt_month_item_id_shop_id',\n",
    "             'ema_6_item_cnt_month_item_category_id_cat_city',\n",
    "             'ema_6_item_cnt_month_item_category_id_cat_shop_id',\n",
    "             'date_block_num_diff',\n",
    "            'avg_item_priceitem_id_lag_1',\n",
    "            'item_cnt_monthitem_category_id_cat_lag_1',\n",
    "            'item_cnt_month_lag_1',\n",
    "             'avg_item_price']\n",
    "#Lag in a name left from columns name; Value for curr month stored in validation/data"
   ]
  },
  {
   "cell_type": "code",
   "execution_count": 20,
   "id": "63abde7f-1214-4f30-bee3-bb117af41418",
   "metadata": {},
   "outputs": [],
   "source": [
    "names_changed = ['item_price_change','shop_item_price_change']"
   ]
  },
  {
   "cell_type": "code",
   "execution_count": 21,
   "id": "2c12a643-8aab-408c-9ae5-c67f52accead",
   "metadata": {},
   "outputs": [],
   "source": [
    "names= names_base + names_changed"
   ]
  },
  {
   "cell_type": "code",
   "execution_count": 22,
   "id": "f3c98a01-2359-4510-abf8-85f50d23352d",
   "metadata": {},
   "outputs": [
    {
     "data": {
      "text/plain": [
       "11"
      ]
     },
     "execution_count": 22,
     "metadata": {},
     "output_type": "execute_result"
    }
   ],
   "source": [
    "len(names)"
   ]
  },
  {
   "cell_type": "code",
   "execution_count": 23,
   "id": "6b73e77b-a825-4fff-8f19-f9c3b61010ee",
   "metadata": {},
   "outputs": [
    {
     "data": {
      "text/plain": [
       "['ema_6_item_cnt_month_item_id',\n",
       " 'ema_6_item_cnt_month_item_id_shop_id',\n",
       " 'ema_6_item_cnt_month_item_category_id_cat_city',\n",
       " 'ema_6_item_cnt_month_item_category_id_cat_shop_id',\n",
       " 'date_block_num_diff',\n",
       " 'avg_item_priceitem_id_lag_1',\n",
       " 'item_cnt_monthitem_category_id_cat_lag_1',\n",
       " 'item_cnt_month_lag_1',\n",
       " 'avg_item_price',\n",
       " 'item_price_change',\n",
       " 'shop_item_price_change']"
      ]
     },
     "execution_count": 23,
     "metadata": {},
     "output_type": "execute_result"
    }
   ],
   "source": [
    "names"
   ]
  },
  {
   "cell_type": "code",
   "execution_count": 18,
   "id": "b8877a28-8c32-4792-af9b-55f6f5dea1a8",
   "metadata": {},
   "outputs": [],
   "source": [
    "import pandas as pd\n",
    "\n",
    "def rename_columns(df, name=None):\n",
    "    \n",
    "    new_columns = {}\n",
    "    for col in df.columns:\n",
    "        new_col = str(col)\n",
    "        if new_col in ['shop_id','item_id','item_category_id','super_category','city']:\n",
    "            continue\n",
    "\n",
    "        else:\n",
    "            #print(name)\n",
    "            #print(new_col)\n",
    "            new_col = name+'$'+new_col\n",
    "\n",
    "        \n",
    "        new_columns[col] = new_col\n",
    "    \n",
    "    #print(new_columns)\n",
    "    df.rename(columns=new_columns, inplace=True)\n",
    "    \n",
    "    #return df\n"
   ]
  },
  {
   "cell_type": "code",
   "execution_count": 25,
   "id": "94e79e05-08f0-43d7-a450-b5bfd5d19310",
   "metadata": {
    "scrolled": true
   },
   "outputs": [
    {
     "name": "stdout",
     "output_type": "stream",
     "text": [
      "150.22410000000002\n"
     ]
    },
    {
     "ename": "FileNotFoundError",
     "evalue": "[Errno 2] No such file or directory: 'data/ema_6_item_cnt_month_item_id_shop_id.csv'",
     "output_type": "error",
     "traceback": [
      "\u001b[0;31m---------------------------------------------------------------------------\u001b[0m",
      "\u001b[0;31mFileNotFoundError\u001b[0m                         Traceback (most recent call last)",
      "Cell \u001b[0;32mIn[25], line 37\u001b[0m\n\u001b[1;32m     23\u001b[0m     \u001b[38;5;28;01mreturn\u001b[39;00m df0\n\u001b[1;32m     25\u001b[0m names_boosting \u001b[38;5;241m=\u001b[39m[\u001b[38;5;124m'\u001b[39m\u001b[38;5;124mema_6_item_cnt_month_item_id\u001b[39m\u001b[38;5;124m'\u001b[39m,\n\u001b[1;32m     26\u001b[0m                  \u001b[38;5;124m'\u001b[39m\u001b[38;5;124mema_6_item_cnt_month_item_id_shop_id\u001b[39m\u001b[38;5;124m'\u001b[39m,\n\u001b[1;32m     27\u001b[0m                  \u001b[38;5;124m'\u001b[39m\u001b[38;5;124mema_6_item_cnt_month_item_category_id_cat_city\u001b[39m\u001b[38;5;124m'\u001b[39m,\n\u001b[0;32m   (...)\u001b[0m\n\u001b[1;32m     33\u001b[0m                  \u001b[38;5;66;03m#'avg_item_price',\u001b[39;00m\n\u001b[1;32m     34\u001b[0m                  \u001b[38;5;124m'\u001b[39m\u001b[38;5;124mitem_price_change\u001b[39m\u001b[38;5;124m'\u001b[39m]\n\u001b[0;32m---> 37\u001b[0m \u001b[43mmerge_csvs_boosting\u001b[49m\u001b[43m(\u001b[49m\u001b[43mmerged\u001b[49m\u001b[43m,\u001b[49m\u001b[43m \u001b[49m\u001b[43mnames_boosting\u001b[49m\u001b[43m)\u001b[49m\u001b[38;5;241m.\u001b[39mto_csv(\u001b[38;5;124m'\u001b[39m\u001b[38;5;124mdata/merged.csv\u001b[39m\u001b[38;5;124m'\u001b[39m, index\u001b[38;5;241m=\u001b[39m\u001b[38;5;28;01mFalse\u001b[39;00m)\n",
      "Cell \u001b[0;32mIn[25], line 7\u001b[0m, in \u001b[0;36mmerge_csvs_boosting\u001b[0;34m(df0, names)\u001b[0m\n\u001b[1;32m      5\u001b[0m rename_columns(df0, \u001b[38;5;124m'\u001b[39m\u001b[38;5;124mshop_item_cnt\u001b[39m\u001b[38;5;124m'\u001b[39m)\n\u001b[1;32m      6\u001b[0m \u001b[38;5;28;01mfor\u001b[39;00m df_name \u001b[38;5;129;01min\u001b[39;00m names:\n\u001b[0;32m----> 7\u001b[0m     df \u001b[38;5;241m=\u001b[39m \u001b[43mpd\u001b[49m\u001b[38;5;241;43m.\u001b[39;49m\u001b[43mread_csv\u001b[49m\u001b[43m(\u001b[49m\u001b[38;5;124;43m'\u001b[39;49m\u001b[38;5;124;43mdata/\u001b[39;49m\u001b[38;5;124;43m'\u001b[39;49m\u001b[38;5;241;43m+\u001b[39;49m\u001b[43mdf_name\u001b[49m\u001b[38;5;241;43m+\u001b[39;49m\u001b[38;5;124;43m'\u001b[39;49m\u001b[38;5;124;43m.csv\u001b[39;49m\u001b[38;5;124;43m'\u001b[39;49m\u001b[43m)\u001b[49m\n\u001b[1;32m      8\u001b[0m     \u001b[38;5;28mprint\u001b[39m(\u001b[38;5;28msum\u001b[39m(df\u001b[38;5;241m.\u001b[39mmemory_usage()\u001b[38;5;241m/\u001b[39m\u001b[38;5;241m10\u001b[39m\u001b[38;5;241m*\u001b[39m\u001b[38;5;241m*\u001b[39m\u001b[38;5;241m6\u001b[39m))\n\u001b[1;32m     11\u001b[0m     \u001b[38;5;28;01mfor\u001b[39;00m i \u001b[38;5;129;01min\u001b[39;00m \u001b[38;5;28mrange\u001b[39m(FIRST_N_MONTH_TO_DROP):\u001b[38;5;66;03m#exclude features where past can not be calculated\u001b[39;00m\n",
      "File \u001b[0;32m~/python_envs/predict_future_sales/lib/python3.12/site-packages/pandas/io/parsers/readers.py:1026\u001b[0m, in \u001b[0;36mread_csv\u001b[0;34m(filepath_or_buffer, sep, delimiter, header, names, index_col, usecols, dtype, engine, converters, true_values, false_values, skipinitialspace, skiprows, skipfooter, nrows, na_values, keep_default_na, na_filter, verbose, skip_blank_lines, parse_dates, infer_datetime_format, keep_date_col, date_parser, date_format, dayfirst, cache_dates, iterator, chunksize, compression, thousands, decimal, lineterminator, quotechar, quoting, doublequote, escapechar, comment, encoding, encoding_errors, dialect, on_bad_lines, delim_whitespace, low_memory, memory_map, float_precision, storage_options, dtype_backend)\u001b[0m\n\u001b[1;32m   1013\u001b[0m kwds_defaults \u001b[38;5;241m=\u001b[39m _refine_defaults_read(\n\u001b[1;32m   1014\u001b[0m     dialect,\n\u001b[1;32m   1015\u001b[0m     delimiter,\n\u001b[0;32m   (...)\u001b[0m\n\u001b[1;32m   1022\u001b[0m     dtype_backend\u001b[38;5;241m=\u001b[39mdtype_backend,\n\u001b[1;32m   1023\u001b[0m )\n\u001b[1;32m   1024\u001b[0m kwds\u001b[38;5;241m.\u001b[39mupdate(kwds_defaults)\n\u001b[0;32m-> 1026\u001b[0m \u001b[38;5;28;01mreturn\u001b[39;00m \u001b[43m_read\u001b[49m\u001b[43m(\u001b[49m\u001b[43mfilepath_or_buffer\u001b[49m\u001b[43m,\u001b[49m\u001b[43m \u001b[49m\u001b[43mkwds\u001b[49m\u001b[43m)\u001b[49m\n",
      "File \u001b[0;32m~/python_envs/predict_future_sales/lib/python3.12/site-packages/pandas/io/parsers/readers.py:620\u001b[0m, in \u001b[0;36m_read\u001b[0;34m(filepath_or_buffer, kwds)\u001b[0m\n\u001b[1;32m    617\u001b[0m _validate_names(kwds\u001b[38;5;241m.\u001b[39mget(\u001b[38;5;124m\"\u001b[39m\u001b[38;5;124mnames\u001b[39m\u001b[38;5;124m\"\u001b[39m, \u001b[38;5;28;01mNone\u001b[39;00m))\n\u001b[1;32m    619\u001b[0m \u001b[38;5;66;03m# Create the parser.\u001b[39;00m\n\u001b[0;32m--> 620\u001b[0m parser \u001b[38;5;241m=\u001b[39m \u001b[43mTextFileReader\u001b[49m\u001b[43m(\u001b[49m\u001b[43mfilepath_or_buffer\u001b[49m\u001b[43m,\u001b[49m\u001b[43m \u001b[49m\u001b[38;5;241;43m*\u001b[39;49m\u001b[38;5;241;43m*\u001b[39;49m\u001b[43mkwds\u001b[49m\u001b[43m)\u001b[49m\n\u001b[1;32m    622\u001b[0m \u001b[38;5;28;01mif\u001b[39;00m chunksize \u001b[38;5;129;01mor\u001b[39;00m iterator:\n\u001b[1;32m    623\u001b[0m     \u001b[38;5;28;01mreturn\u001b[39;00m parser\n",
      "File \u001b[0;32m~/python_envs/predict_future_sales/lib/python3.12/site-packages/pandas/io/parsers/readers.py:1620\u001b[0m, in \u001b[0;36mTextFileReader.__init__\u001b[0;34m(self, f, engine, **kwds)\u001b[0m\n\u001b[1;32m   1617\u001b[0m     \u001b[38;5;28mself\u001b[39m\u001b[38;5;241m.\u001b[39moptions[\u001b[38;5;124m\"\u001b[39m\u001b[38;5;124mhas_index_names\u001b[39m\u001b[38;5;124m\"\u001b[39m] \u001b[38;5;241m=\u001b[39m kwds[\u001b[38;5;124m\"\u001b[39m\u001b[38;5;124mhas_index_names\u001b[39m\u001b[38;5;124m\"\u001b[39m]\n\u001b[1;32m   1619\u001b[0m \u001b[38;5;28mself\u001b[39m\u001b[38;5;241m.\u001b[39mhandles: IOHandles \u001b[38;5;241m|\u001b[39m \u001b[38;5;28;01mNone\u001b[39;00m \u001b[38;5;241m=\u001b[39m \u001b[38;5;28;01mNone\u001b[39;00m\n\u001b[0;32m-> 1620\u001b[0m \u001b[38;5;28mself\u001b[39m\u001b[38;5;241m.\u001b[39m_engine \u001b[38;5;241m=\u001b[39m \u001b[38;5;28;43mself\u001b[39;49m\u001b[38;5;241;43m.\u001b[39;49m\u001b[43m_make_engine\u001b[49m\u001b[43m(\u001b[49m\u001b[43mf\u001b[49m\u001b[43m,\u001b[49m\u001b[43m \u001b[49m\u001b[38;5;28;43mself\u001b[39;49m\u001b[38;5;241;43m.\u001b[39;49m\u001b[43mengine\u001b[49m\u001b[43m)\u001b[49m\n",
      "File \u001b[0;32m~/python_envs/predict_future_sales/lib/python3.12/site-packages/pandas/io/parsers/readers.py:1880\u001b[0m, in \u001b[0;36mTextFileReader._make_engine\u001b[0;34m(self, f, engine)\u001b[0m\n\u001b[1;32m   1878\u001b[0m     \u001b[38;5;28;01mif\u001b[39;00m \u001b[38;5;124m\"\u001b[39m\u001b[38;5;124mb\u001b[39m\u001b[38;5;124m\"\u001b[39m \u001b[38;5;129;01mnot\u001b[39;00m \u001b[38;5;129;01min\u001b[39;00m mode:\n\u001b[1;32m   1879\u001b[0m         mode \u001b[38;5;241m+\u001b[39m\u001b[38;5;241m=\u001b[39m \u001b[38;5;124m\"\u001b[39m\u001b[38;5;124mb\u001b[39m\u001b[38;5;124m\"\u001b[39m\n\u001b[0;32m-> 1880\u001b[0m \u001b[38;5;28mself\u001b[39m\u001b[38;5;241m.\u001b[39mhandles \u001b[38;5;241m=\u001b[39m \u001b[43mget_handle\u001b[49m\u001b[43m(\u001b[49m\n\u001b[1;32m   1881\u001b[0m \u001b[43m    \u001b[49m\u001b[43mf\u001b[49m\u001b[43m,\u001b[49m\n\u001b[1;32m   1882\u001b[0m \u001b[43m    \u001b[49m\u001b[43mmode\u001b[49m\u001b[43m,\u001b[49m\n\u001b[1;32m   1883\u001b[0m \u001b[43m    \u001b[49m\u001b[43mencoding\u001b[49m\u001b[38;5;241;43m=\u001b[39;49m\u001b[38;5;28;43mself\u001b[39;49m\u001b[38;5;241;43m.\u001b[39;49m\u001b[43moptions\u001b[49m\u001b[38;5;241;43m.\u001b[39;49m\u001b[43mget\u001b[49m\u001b[43m(\u001b[49m\u001b[38;5;124;43m\"\u001b[39;49m\u001b[38;5;124;43mencoding\u001b[39;49m\u001b[38;5;124;43m\"\u001b[39;49m\u001b[43m,\u001b[49m\u001b[43m \u001b[49m\u001b[38;5;28;43;01mNone\u001b[39;49;00m\u001b[43m)\u001b[49m\u001b[43m,\u001b[49m\n\u001b[1;32m   1884\u001b[0m \u001b[43m    \u001b[49m\u001b[43mcompression\u001b[49m\u001b[38;5;241;43m=\u001b[39;49m\u001b[38;5;28;43mself\u001b[39;49m\u001b[38;5;241;43m.\u001b[39;49m\u001b[43moptions\u001b[49m\u001b[38;5;241;43m.\u001b[39;49m\u001b[43mget\u001b[49m\u001b[43m(\u001b[49m\u001b[38;5;124;43m\"\u001b[39;49m\u001b[38;5;124;43mcompression\u001b[39;49m\u001b[38;5;124;43m\"\u001b[39;49m\u001b[43m,\u001b[49m\u001b[43m \u001b[49m\u001b[38;5;28;43;01mNone\u001b[39;49;00m\u001b[43m)\u001b[49m\u001b[43m,\u001b[49m\n\u001b[1;32m   1885\u001b[0m \u001b[43m    \u001b[49m\u001b[43mmemory_map\u001b[49m\u001b[38;5;241;43m=\u001b[39;49m\u001b[38;5;28;43mself\u001b[39;49m\u001b[38;5;241;43m.\u001b[39;49m\u001b[43moptions\u001b[49m\u001b[38;5;241;43m.\u001b[39;49m\u001b[43mget\u001b[49m\u001b[43m(\u001b[49m\u001b[38;5;124;43m\"\u001b[39;49m\u001b[38;5;124;43mmemory_map\u001b[39;49m\u001b[38;5;124;43m\"\u001b[39;49m\u001b[43m,\u001b[49m\u001b[43m \u001b[49m\u001b[38;5;28;43;01mFalse\u001b[39;49;00m\u001b[43m)\u001b[49m\u001b[43m,\u001b[49m\n\u001b[1;32m   1886\u001b[0m \u001b[43m    \u001b[49m\u001b[43mis_text\u001b[49m\u001b[38;5;241;43m=\u001b[39;49m\u001b[43mis_text\u001b[49m\u001b[43m,\u001b[49m\n\u001b[1;32m   1887\u001b[0m \u001b[43m    \u001b[49m\u001b[43merrors\u001b[49m\u001b[38;5;241;43m=\u001b[39;49m\u001b[38;5;28;43mself\u001b[39;49m\u001b[38;5;241;43m.\u001b[39;49m\u001b[43moptions\u001b[49m\u001b[38;5;241;43m.\u001b[39;49m\u001b[43mget\u001b[49m\u001b[43m(\u001b[49m\u001b[38;5;124;43m\"\u001b[39;49m\u001b[38;5;124;43mencoding_errors\u001b[39;49m\u001b[38;5;124;43m\"\u001b[39;49m\u001b[43m,\u001b[49m\u001b[43m \u001b[49m\u001b[38;5;124;43m\"\u001b[39;49m\u001b[38;5;124;43mstrict\u001b[39;49m\u001b[38;5;124;43m\"\u001b[39;49m\u001b[43m)\u001b[49m\u001b[43m,\u001b[49m\n\u001b[1;32m   1888\u001b[0m \u001b[43m    \u001b[49m\u001b[43mstorage_options\u001b[49m\u001b[38;5;241;43m=\u001b[39;49m\u001b[38;5;28;43mself\u001b[39;49m\u001b[38;5;241;43m.\u001b[39;49m\u001b[43moptions\u001b[49m\u001b[38;5;241;43m.\u001b[39;49m\u001b[43mget\u001b[49m\u001b[43m(\u001b[49m\u001b[38;5;124;43m\"\u001b[39;49m\u001b[38;5;124;43mstorage_options\u001b[39;49m\u001b[38;5;124;43m\"\u001b[39;49m\u001b[43m,\u001b[49m\u001b[43m \u001b[49m\u001b[38;5;28;43;01mNone\u001b[39;49;00m\u001b[43m)\u001b[49m\u001b[43m,\u001b[49m\n\u001b[1;32m   1889\u001b[0m \u001b[43m\u001b[49m\u001b[43m)\u001b[49m\n\u001b[1;32m   1890\u001b[0m \u001b[38;5;28;01massert\u001b[39;00m \u001b[38;5;28mself\u001b[39m\u001b[38;5;241m.\u001b[39mhandles \u001b[38;5;129;01mis\u001b[39;00m \u001b[38;5;129;01mnot\u001b[39;00m \u001b[38;5;28;01mNone\u001b[39;00m\n\u001b[1;32m   1891\u001b[0m f \u001b[38;5;241m=\u001b[39m \u001b[38;5;28mself\u001b[39m\u001b[38;5;241m.\u001b[39mhandles\u001b[38;5;241m.\u001b[39mhandle\n",
      "File \u001b[0;32m~/python_envs/predict_future_sales/lib/python3.12/site-packages/pandas/io/common.py:873\u001b[0m, in \u001b[0;36mget_handle\u001b[0;34m(path_or_buf, mode, encoding, compression, memory_map, is_text, errors, storage_options)\u001b[0m\n\u001b[1;32m    868\u001b[0m \u001b[38;5;28;01melif\u001b[39;00m \u001b[38;5;28misinstance\u001b[39m(handle, \u001b[38;5;28mstr\u001b[39m):\n\u001b[1;32m    869\u001b[0m     \u001b[38;5;66;03m# Check whether the filename is to be opened in binary mode.\u001b[39;00m\n\u001b[1;32m    870\u001b[0m     \u001b[38;5;66;03m# Binary mode does not support 'encoding' and 'newline'.\u001b[39;00m\n\u001b[1;32m    871\u001b[0m     \u001b[38;5;28;01mif\u001b[39;00m ioargs\u001b[38;5;241m.\u001b[39mencoding \u001b[38;5;129;01mand\u001b[39;00m \u001b[38;5;124m\"\u001b[39m\u001b[38;5;124mb\u001b[39m\u001b[38;5;124m\"\u001b[39m \u001b[38;5;129;01mnot\u001b[39;00m \u001b[38;5;129;01min\u001b[39;00m ioargs\u001b[38;5;241m.\u001b[39mmode:\n\u001b[1;32m    872\u001b[0m         \u001b[38;5;66;03m# Encoding\u001b[39;00m\n\u001b[0;32m--> 873\u001b[0m         handle \u001b[38;5;241m=\u001b[39m \u001b[38;5;28;43mopen\u001b[39;49m\u001b[43m(\u001b[49m\n\u001b[1;32m    874\u001b[0m \u001b[43m            \u001b[49m\u001b[43mhandle\u001b[49m\u001b[43m,\u001b[49m\n\u001b[1;32m    875\u001b[0m \u001b[43m            \u001b[49m\u001b[43mioargs\u001b[49m\u001b[38;5;241;43m.\u001b[39;49m\u001b[43mmode\u001b[49m\u001b[43m,\u001b[49m\n\u001b[1;32m    876\u001b[0m \u001b[43m            \u001b[49m\u001b[43mencoding\u001b[49m\u001b[38;5;241;43m=\u001b[39;49m\u001b[43mioargs\u001b[49m\u001b[38;5;241;43m.\u001b[39;49m\u001b[43mencoding\u001b[49m\u001b[43m,\u001b[49m\n\u001b[1;32m    877\u001b[0m \u001b[43m            \u001b[49m\u001b[43merrors\u001b[49m\u001b[38;5;241;43m=\u001b[39;49m\u001b[43merrors\u001b[49m\u001b[43m,\u001b[49m\n\u001b[1;32m    878\u001b[0m \u001b[43m            \u001b[49m\u001b[43mnewline\u001b[49m\u001b[38;5;241;43m=\u001b[39;49m\u001b[38;5;124;43m\"\u001b[39;49m\u001b[38;5;124;43m\"\u001b[39;49m\u001b[43m,\u001b[49m\n\u001b[1;32m    879\u001b[0m \u001b[43m        \u001b[49m\u001b[43m)\u001b[49m\n\u001b[1;32m    880\u001b[0m     \u001b[38;5;28;01melse\u001b[39;00m:\n\u001b[1;32m    881\u001b[0m         \u001b[38;5;66;03m# Binary mode\u001b[39;00m\n\u001b[1;32m    882\u001b[0m         handle \u001b[38;5;241m=\u001b[39m \u001b[38;5;28mopen\u001b[39m(handle, ioargs\u001b[38;5;241m.\u001b[39mmode)\n",
      "\u001b[0;31mFileNotFoundError\u001b[0m: [Errno 2] No such file or directory: 'data/ema_6_item_cnt_month_item_id_shop_id.csv'"
     ]
    }
   ],
   "source": [
    "critical=['change','mean','ema']\n",
    "\n",
    "def merge_csvs_boosting(df0, names):\n",
    "    \n",
    "    rename_columns(df0, 'shop_item_cnt')\n",
    "    for df_name in names:\n",
    "        df = pd.read_csv('data/'+df_name+'.csv')\n",
    "        print(sum(df.memory_usage()/10**6))\n",
    "\n",
    "        \n",
    "        for i in range(FIRST_N_MONTH_TO_DROP):#exclude features where past can not be calculated\n",
    "            \n",
    "            if any(cr in df_name for cr in critical):\n",
    "                \n",
    "                df=df.drop(str(i), axis=1)\n",
    "        \n",
    "        rename_columns(df, df_name)\n",
    "        \n",
    "        df0 = pd.merge(df0, df, on=['shop_id','item_id'], how = 'left')\n",
    "        del df\n",
    "        gc.collect()\n",
    "\n",
    "    return df0\n",
    "\n",
    "names_boosting =['ema_6_item_cnt_month_item_id',\n",
    "                 'ema_6_item_cnt_month_item_id_shop_id',\n",
    "                 'ema_6_item_cnt_month_item_category_id_cat_city',\n",
    "                 'ema_6_item_cnt_month_item_category_id_cat_shop_id',\n",
    "                 'date_block_num_diff',\n",
    "                 'avg_item_priceitem_id_lag_1',\n",
    "                 'item_cnt_monthitem_category_id_cat_lag_1',\n",
    "                 'item_cnt_month_lag_1',\n",
    "                 #'avg_item_price',\n",
    "                 'item_price_change']\n",
    "\n",
    "\n",
    "merge_csvs_boosting(merged, names_boosting).to_csv('data/merged.csv', index=False)"
   ]
  },
  {
   "cell_type": "code",
   "execution_count": 27,
   "id": "a6c55b1f-5c0a-450a-a277-24f6227bfa4e",
   "metadata": {},
   "outputs": [
    {
     "data": {
      "text/plain": [
       "Index(['shop_id', 'item_id', 'shop_item_cnt$0', 'shop_item_cnt$1',\n",
       "       'shop_item_cnt$2', 'shop_item_cnt$3', 'shop_item_cnt$4',\n",
       "       'shop_item_cnt$5', 'shop_item_cnt$6', 'shop_item_cnt$7',\n",
       "       'shop_item_cnt$8', 'shop_item_cnt$9', 'shop_item_cnt$10',\n",
       "       'shop_item_cnt$11', 'shop_item_cnt$12', 'shop_item_cnt$13',\n",
       "       'shop_item_cnt$14', 'shop_item_cnt$15', 'shop_item_cnt$16',\n",
       "       'shop_item_cnt$17', 'shop_item_cnt$18', 'shop_item_cnt$19',\n",
       "       'shop_item_cnt$20', 'shop_item_cnt$21', 'shop_item_cnt$22',\n",
       "       'shop_item_cnt$23', 'shop_item_cnt$24', 'shop_item_cnt$25',\n",
       "       'shop_item_cnt$26', 'shop_item_cnt$27', 'shop_item_cnt$28',\n",
       "       'shop_item_cnt$29', 'shop_item_cnt$30', 'shop_item_cnt$31',\n",
       "       'shop_item_cnt$32', 'shop_item_cnt$33', 'shop_item_cnt$34',\n",
       "       'item_category_id', 'city', 'super_category'],\n",
       "      dtype='object')"
      ]
     },
     "execution_count": 27,
     "metadata": {},
     "output_type": "execute_result"
    }
   ],
   "source": [
    "merged.columns"
   ]
  },
  {
   "cell_type": "code",
   "execution_count": 19,
   "id": "9a54d21d-5c0e-41ef-a55e-3ebebe23835d",
   "metadata": {},
   "outputs": [
    {
     "name": "stdout",
     "output_type": "stream",
     "text": [
      "150.22410000000002\n"
     ]
    }
   ],
   "source": [
    "\n",
    "def merge_csvs_LSTM(df0, names):\n",
    "    \n",
    "    df0=df0.drop('0', axis=1)\n",
    "    \n",
    "    rename_columns(df0, 'shop_item_cnt')\n",
    "    for df_name in names:\n",
    "        df = pd.read_csv('data/'+df_name+'.csv')\n",
    "        print(sum(df.memory_usage()/10**6))\n",
    "\n",
    "        df=df.drop(str(0), axis=1)\n",
    "    \n",
    "        rename_columns(df, df_name)\n",
    "        \n",
    "        df0 = pd.merge(df0, df, on=['shop_id','item_id'], how = 'left')\n",
    "        del df\n",
    "        gc.collect()\n",
    "\n",
    "    return df0\n",
    "\n",
    "names_LSTM = ['avg_item_price']\n",
    "\n",
    "\n",
    "    \n",
    "merge_csvs_LSTM(merged, names_LSTM).to_csv('data/merged.csv', index=False)"
   ]
  },
  {
   "cell_type": "code",
   "execution_count": null,
   "id": "d62da784-26cb-4c3a-a37e-cfa2463c67bc",
   "metadata": {},
   "outputs": [],
   "source": []
  },
  {
   "cell_type": "code",
   "execution_count": null,
   "id": "ccbbeb40-0cb6-48b3-8409-9166efd56e01",
   "metadata": {},
   "outputs": [],
   "source": []
  },
  {
   "cell_type": "code",
   "execution_count": null,
   "id": "b84c51bd-b609-4a13-85c6-744a31b3e055",
   "metadata": {},
   "outputs": [],
   "source": []
  }
 ],
 "metadata": {
  "kernelspec": {
   "display_name": "Python 3 (ipykernel)",
   "language": "python",
   "name": "python3"
  },
  "language_info": {
   "codemirror_mode": {
    "name": "ipython",
    "version": 3
   },
   "file_extension": ".py",
   "mimetype": "text/x-python",
   "name": "python",
   "nbconvert_exporter": "python",
   "pygments_lexer": "ipython3",
   "version": "3.12.3"
  }
 },
 "nbformat": 4,
 "nbformat_minor": 5
}
